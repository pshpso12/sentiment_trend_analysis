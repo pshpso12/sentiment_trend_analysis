{
 "cells": [
  {
   "cell_type": "code",
   "execution_count": 1,
   "id": "7bb42f84",
   "metadata": {},
   "outputs": [],
   "source": [
    "import twint\n",
    "import nest_asyncio\n",
    "nest_asyncio.apply()\n",
    "import time\n",
    "import pandas as pd\n",
    "import os\n",
    "import re"
   ]
  },
  {
   "cell_type": "code",
   "execution_count": 12,
   "id": "c79b4e6b",
   "metadata": {},
   "outputs": [],
   "source": [
    "import pandas as pd\n",
    "import twint\n",
    "import nest_asyncio\n",
    "nest_asyncio.apply()\n",
    "c = twint.Config()\n",
    "c.Search = \"행복 OR 기쁨 OR 웃음 OR 신남 OR 즐거움\"\n",
    "c.Limit = 100000\n",
    "c.Pandas = True\n",
    "c.Hide_output= True\n",
    "twint.run.Search(c)\n",
    "Tweets_df = twint.storage.panda.Tweets_df"
   ]
  },
  {
   "cell_type": "code",
   "execution_count": 10,
   "id": "27096606",
   "metadata": {},
   "outputs": [
    {
     "name": "stdout",
     "output_type": "stream",
     "text": [
      "                       id      conversation_id    created_at  \\\n",
      "0     1555890410912124929  1555890410912124929  1.659788e+12   \n",
      "1     1555890371296497669  1555890371296497669  1.659788e+12   \n",
      "2     1555890368310169601  1555773514354868225  1.659788e+12   \n",
      "3     1555890355551100928  1555843640924073986  1.659788e+12   \n",
      "4     1555890336186388480  1555890336186388480  1.659788e+12   \n",
      "...                   ...                  ...           ...   \n",
      "6010  1555598444311748608  1555598444311748608  1.659719e+12   \n",
      "6011  1555598428457283584  1555598428457283584  1.659719e+12   \n",
      "6012  1555598424346546182  1555598424346546182  1.659719e+12   \n",
      "6013  1555598402053763072  1555597063882059776  1.659719e+12   \n",
      "6014  1555598305475719168  1555534036038479872  1.659719e+12   \n",
      "\n",
      "                     date timezone place  \\\n",
      "0     2022-08-06 21:15:55    +0900         \n",
      "1     2022-08-06 21:15:46    +0900         \n",
      "2     2022-08-06 21:15:45    +0900         \n",
      "3     2022-08-06 21:15:42    +0900         \n",
      "4     2022-08-06 21:15:37    +0900         \n",
      "...                   ...      ...   ...   \n",
      "6010  2022-08-06 01:55:45    +0900         \n",
      "6011  2022-08-06 01:55:41    +0900         \n",
      "6012  2022-08-06 01:55:40    +0900         \n",
      "6013  2022-08-06 01:55:35    +0900         \n",
      "6014  2022-08-06 01:55:12    +0900         \n",
      "\n",
      "                                                  tweet language hashtags  \\\n",
      "0     RT elysianlife40: [감염인으로 살기 66] 느껴져야 할 행복이 불쑥 ...       ko       []   \n",
      "1     마지막까지 여기저기 돌아다니면서 인사해준 선우ㅜㅜㅜㅜㅜㅜㅜㅠㅠ 함께 행복을 나눈 이...       ko       []   \n",
      "2     @PpPp_zpt 아 크로커다일 소년만화 등장인물치고 너무 고자극이에요 진짜 말 안...       ko       []   \n",
      "3     해피엔딩을 맞이한 듯한 두 사람이에요. 두 사람이 껴안을 사이는 아니지만(ㅋㅋ) 카...       ko       []   \n",
      "4     오늘 현재에 사는 것이 행복의 비결입니다 행복은 내가 지금 지니고 있는것. 내가 지...       ko       []   \n",
      "...                                                 ...      ...      ...   \n",
      "6010  바래봉 신부입장 부산카페투어 클럽강추 울봉이 통영캠핑장 캐릭터일러스트 팔레드시즈 참...       ko       []   \n",
      "6011  . ...웃으면 언젠가 행복이 올거야라고,기다리는건 난 못해. 네 행복에서 날 빼는...       ko       []   \n",
      "6012                  이사범님 행복의나라 home 들어간 단편집 내주셨으면 좋겠땨       ko       []   \n",
      "6013  @er3hac 네 · · 뭐, 그렇죠. 흘려들었다니 · · (..) 사람에게는 시기...       ko       []   \n",
      "6014                     @chaeni_1108 잘자요 챈사 얼굴만 봐도 행복♥       ko       []   \n",
      "\n",
      "     cashtags  ...  geo source user_rt_id user_rt  retweet_id  \\\n",
      "0          []  ...                                              \n",
      "1          []  ...                                              \n",
      "2          []  ...                                              \n",
      "3          []  ...                                              \n",
      "4          []  ...                                              \n",
      "...       ...  ...  ...    ...        ...     ...         ...   \n",
      "6010       []  ...                                              \n",
      "6011       []  ...                                              \n",
      "6012       []  ...                                              \n",
      "6013       []  ...                                              \n",
      "6014       []  ...                                              \n",
      "\n",
      "                                               reply_to retweet_date  \\\n",
      "0                                                    []                \n",
      "1                                                    []                \n",
      "2     [{'screen_name': 'PpPp_zpt', 'name': 'PP', 'id...                \n",
      "3                                                    []                \n",
      "4                                                    []                \n",
      "...                                                 ...          ...   \n",
      "6010                                                 []                \n",
      "6011                                                 []                \n",
      "6012                                                 []                \n",
      "6013  [{'screen_name': 'er3hac', 'name': 'ー', 'id': ...                \n",
      "6014  [{'screen_name': 'chaeni_1108', 'name': 'Kim C...                \n",
      "\n",
      "     translate trans_src  trans_dest  \n",
      "0                                     \n",
      "1                                     \n",
      "2                                     \n",
      "3                                     \n",
      "4                                     \n",
      "...        ...       ...         ...  \n",
      "6010                                  \n",
      "6011                                  \n",
      "6012                                  \n",
      "6013                                  \n",
      "6014                                  \n",
      "\n",
      "[6015 rows x 38 columns]\n"
     ]
    }
   ],
   "source": [
    "print(Tweets_df)"
   ]
  },
  {
   "cell_type": "code",
   "execution_count": 13,
   "id": "fb08e003",
   "metadata": {},
   "outputs": [],
   "source": [
    "Tweets_df.to_csv('./data_pleasure.csv', index=False, encoding=\"utf-8-sig\")"
   ]
  },
  {
   "cell_type": "code",
   "execution_count": 16,
   "id": "738329ee",
   "metadata": {},
   "outputs": [
    {
     "data": {
      "text/plain": [
       "(92318, 100006)"
      ]
     },
     "execution_count": 16,
     "metadata": {},
     "output_type": "execute_result"
    }
   ],
   "source": [
    "Tweets_df['tweet'].nunique(), Tweets_df['id'].nunique()"
   ]
  },
  {
   "cell_type": "code",
   "execution_count": 19,
   "id": "e8cbcc93",
   "metadata": {},
   "outputs": [],
   "source": [
    "Tweets_df.drop_duplicates(subset=['tweet'], inplace=True)"
   ]
  },
  {
   "cell_type": "code",
   "execution_count": 20,
   "id": "63249753",
   "metadata": {},
   "outputs": [
    {
     "name": "stdout",
     "output_type": "stream",
     "text": [
      "총 샘플의 수 : 92318\n"
     ]
    }
   ],
   "source": [
    "print('총 샘플의 수 :',len(Tweets_df))"
   ]
  },
  {
   "cell_type": "code",
   "execution_count": 25,
   "id": "279ff604",
   "metadata": {},
   "outputs": [
    {
     "name": "stdout",
     "output_type": "stream",
     "text": [
      "id                 0\n",
      "conversation_id    0\n",
      "created_at         0\n",
      "date               0\n",
      "timezone           0\n",
      "place              0\n",
      "tweet              0\n",
      "language           0\n",
      "hashtags           0\n",
      "cashtags           0\n",
      "user_id            0\n",
      "user_id_str        0\n",
      "username           0\n",
      "name               0\n",
      "day                0\n",
      "hour               0\n",
      "link               0\n",
      "urls               0\n",
      "photos             0\n",
      "video              0\n",
      "thumbnail          0\n",
      "retweet            0\n",
      "nlikes             0\n",
      "nreplies           0\n",
      "nretweets          0\n",
      "quote_url          0\n",
      "search             0\n",
      "near               0\n",
      "geo                0\n",
      "source             0\n",
      "user_rt_id         0\n",
      "user_rt            0\n",
      "retweet_id         0\n",
      "reply_to           0\n",
      "retweet_date       0\n",
      "translate          0\n",
      "trans_src          0\n",
      "trans_dest         0\n",
      "dtype: int64\n"
     ]
    }
   ],
   "source": [
    "print(Tweets_df.isnull().sum())"
   ]
  },
  {
   "cell_type": "code",
   "execution_count": 28,
   "id": "9980ac56",
   "metadata": {},
   "outputs": [
    {
     "name": "stderr",
     "output_type": "stream",
     "text": [
      "C:\\Users\\comet\\AppData\\Local\\Temp\\ipykernel_1516\\1703485633.py:1: FutureWarning: The default value of regex will change from True to False in a future version.\n",
      "  Tweets_df['tweet'] = Tweets_df['tweet'].str.replace(\"[^ㄱ-ㅎㅏ-ㅣ가-힣 ]\",\"\")\n"
     ]
    },
    {
     "data": {
      "text/plain": [
       "0          아 씨발 개처웃음 존나 웃김 캐해 레전드다\n",
       "1               갤러리 보다가 갑자기 보고 개웃음\n",
       "2                                 \n",
       "3    바밍 라이브 너무 신남 한국에서 라이브 좀 자주 해라\n",
       "4              그대는 늘 행복의 한복판에 있길  \n",
       "Name: tweet, dtype: object"
      ]
     },
     "execution_count": 28,
     "metadata": {},
     "output_type": "execute_result"
    }
   ],
   "source": [
    "Tweets_df['tweet'] = Tweets_df['tweet'].str.replace(\"[^ㄱ-ㅎㅏ-ㅣ가-힣 ]\",\"\")\n",
    "Tweets_df[:5]['tweet']"
   ]
  },
  {
   "cell_type": "code",
   "execution_count": 29,
   "id": "c14bf8cc",
   "metadata": {},
   "outputs": [
    {
     "name": "stderr",
     "output_type": "stream",
     "text": [
      "C:\\Users\\comet\\AppData\\Local\\Temp\\ipykernel_1516\\2424246514.py:1: FutureWarning: The default value of regex will change from True to False in a future version.\n",
      "  Tweets_df['tweet'] = Tweets_df['tweet'].str.replace('^ +', \"\")\n"
     ]
    }
   ],
   "source": [
    "Tweets_df['tweet'] = Tweets_df['tweet'].str.replace('^ +', \"\")"
   ]
  },
  {
   "cell_type": "code",
   "execution_count": 31,
   "id": "3a15f2a4",
   "metadata": {},
   "outputs": [
    {
     "name": "stdout",
     "output_type": "stream",
     "text": [
      "2442\n"
     ]
    }
   ],
   "source": [
    "import numpy as np\n",
    "Tweets_df['tweet'].replace('', np.nan, inplace=True)\n",
    "print(Tweets_df['tweet'].isnull().sum())"
   ]
  },
  {
   "cell_type": "code",
   "execution_count": 32,
   "id": "7ffbd1c0",
   "metadata": {},
   "outputs": [
    {
     "data": {
      "text/html": [
       "<div>\n",
       "<style scoped>\n",
       "    .dataframe tbody tr th:only-of-type {\n",
       "        vertical-align: middle;\n",
       "    }\n",
       "\n",
       "    .dataframe tbody tr th {\n",
       "        vertical-align: top;\n",
       "    }\n",
       "\n",
       "    .dataframe thead th {\n",
       "        text-align: right;\n",
       "    }\n",
       "</style>\n",
       "<table border=\"1\" class=\"dataframe\">\n",
       "  <thead>\n",
       "    <tr style=\"text-align: right;\">\n",
       "      <th></th>\n",
       "      <th>id</th>\n",
       "      <th>conversation_id</th>\n",
       "      <th>created_at</th>\n",
       "      <th>date</th>\n",
       "      <th>timezone</th>\n",
       "      <th>place</th>\n",
       "      <th>tweet</th>\n",
       "      <th>language</th>\n",
       "      <th>hashtags</th>\n",
       "      <th>cashtags</th>\n",
       "      <th>...</th>\n",
       "      <th>geo</th>\n",
       "      <th>source</th>\n",
       "      <th>user_rt_id</th>\n",
       "      <th>user_rt</th>\n",
       "      <th>retweet_id</th>\n",
       "      <th>reply_to</th>\n",
       "      <th>retweet_date</th>\n",
       "      <th>translate</th>\n",
       "      <th>trans_src</th>\n",
       "      <th>trans_dest</th>\n",
       "    </tr>\n",
       "  </thead>\n",
       "  <tbody>\n",
       "    <tr>\n",
       "      <th>2</th>\n",
       "      <td>1555891887986311169</td>\n",
       "      <td>1555890094711930880</td>\n",
       "      <td>1.659789e+12</td>\n",
       "      <td>2022-08-06 21:21:47</td>\n",
       "      <td>+0900</td>\n",
       "      <td></td>\n",
       "      <td>NaN</td>\n",
       "      <td>qme</td>\n",
       "      <td>[]</td>\n",
       "      <td>[]</td>\n",
       "      <td>...</td>\n",
       "      <td></td>\n",
       "      <td></td>\n",
       "      <td></td>\n",
       "      <td></td>\n",
       "      <td></td>\n",
       "      <td>[{'screen_name': 'se____lene', 'name': '𝙲𝙷𝙰', ...</td>\n",
       "      <td></td>\n",
       "      <td></td>\n",
       "      <td></td>\n",
       "      <td></td>\n",
       "    </tr>\n",
       "    <tr>\n",
       "      <th>101</th>\n",
       "      <td>1555890713367281664</td>\n",
       "      <td>1555889142902448130</td>\n",
       "      <td>1.659788e+12</td>\n",
       "      <td>2022-08-06 21:17:07</td>\n",
       "      <td>+0900</td>\n",
       "      <td></td>\n",
       "      <td>NaN</td>\n",
       "      <td>en</td>\n",
       "      <td>[]</td>\n",
       "      <td>[]</td>\n",
       "      <td>...</td>\n",
       "      <td></td>\n",
       "      <td></td>\n",
       "      <td></td>\n",
       "      <td></td>\n",
       "      <td></td>\n",
       "      <td>[{'screen_name': 'gg___wp____', 'name': 'j', '...</td>\n",
       "      <td></td>\n",
       "      <td></td>\n",
       "      <td></td>\n",
       "      <td></td>\n",
       "    </tr>\n",
       "    <tr>\n",
       "      <th>151</th>\n",
       "      <td>1555890047236411392</td>\n",
       "      <td>1555889142902448130</td>\n",
       "      <td>1.659788e+12</td>\n",
       "      <td>2022-08-06 21:14:28</td>\n",
       "      <td>+0900</td>\n",
       "      <td></td>\n",
       "      <td>NaN</td>\n",
       "      <td>en</td>\n",
       "      <td>[]</td>\n",
       "      <td>[]</td>\n",
       "      <td>...</td>\n",
       "      <td></td>\n",
       "      <td></td>\n",
       "      <td></td>\n",
       "      <td></td>\n",
       "      <td></td>\n",
       "      <td>[{'screen_name': 'gg___wp____', 'name': 'j', '...</td>\n",
       "      <td></td>\n",
       "      <td></td>\n",
       "      <td></td>\n",
       "      <td></td>\n",
       "    </tr>\n",
       "    <tr>\n",
       "      <th>161</th>\n",
       "      <td>1555889989791072257</td>\n",
       "      <td>1555889989791072257</td>\n",
       "      <td>1.659788e+12</td>\n",
       "      <td>2022-08-06 21:14:15</td>\n",
       "      <td>+0900</td>\n",
       "      <td></td>\n",
       "      <td>NaN</td>\n",
       "      <td>th</td>\n",
       "      <td>[]</td>\n",
       "      <td>[]</td>\n",
       "      <td>...</td>\n",
       "      <td></td>\n",
       "      <td></td>\n",
       "      <td></td>\n",
       "      <td></td>\n",
       "      <td></td>\n",
       "      <td>[]</td>\n",
       "      <td></td>\n",
       "      <td></td>\n",
       "      <td></td>\n",
       "      <td></td>\n",
       "    </tr>\n",
       "    <tr>\n",
       "      <th>185</th>\n",
       "      <td>1555889742541201409</td>\n",
       "      <td>1555889142902448130</td>\n",
       "      <td>1.659788e+12</td>\n",
       "      <td>2022-08-06 21:13:16</td>\n",
       "      <td>+0900</td>\n",
       "      <td></td>\n",
       "      <td>NaN</td>\n",
       "      <td>qme</td>\n",
       "      <td>[]</td>\n",
       "      <td>[]</td>\n",
       "      <td>...</td>\n",
       "      <td></td>\n",
       "      <td></td>\n",
       "      <td></td>\n",
       "      <td></td>\n",
       "      <td></td>\n",
       "      <td>[{'screen_name': 'gg___wp____', 'name': 'j', '...</td>\n",
       "      <td></td>\n",
       "      <td></td>\n",
       "      <td></td>\n",
       "      <td></td>\n",
       "    </tr>\n",
       "  </tbody>\n",
       "</table>\n",
       "<p>5 rows × 38 columns</p>\n",
       "</div>"
      ],
      "text/plain": [
       "                      id      conversation_id    created_at  \\\n",
       "2    1555891887986311169  1555890094711930880  1.659789e+12   \n",
       "101  1555890713367281664  1555889142902448130  1.659788e+12   \n",
       "151  1555890047236411392  1555889142902448130  1.659788e+12   \n",
       "161  1555889989791072257  1555889989791072257  1.659788e+12   \n",
       "185  1555889742541201409  1555889142902448130  1.659788e+12   \n",
       "\n",
       "                    date timezone place tweet language hashtags cashtags  ...  \\\n",
       "2    2022-08-06 21:21:47    +0900         NaN      qme       []       []  ...   \n",
       "101  2022-08-06 21:17:07    +0900         NaN       en       []       []  ...   \n",
       "151  2022-08-06 21:14:28    +0900         NaN       en       []       []  ...   \n",
       "161  2022-08-06 21:14:15    +0900         NaN       th       []       []  ...   \n",
       "185  2022-08-06 21:13:16    +0900         NaN      qme       []       []  ...   \n",
       "\n",
       "     geo source user_rt_id user_rt  retweet_id  \\\n",
       "2                                                \n",
       "101                                              \n",
       "151                                              \n",
       "161                                              \n",
       "185                                              \n",
       "\n",
       "                                              reply_to retweet_date translate  \\\n",
       "2    [{'screen_name': 'se____lene', 'name': '𝙲𝙷𝙰', ...                          \n",
       "101  [{'screen_name': 'gg___wp____', 'name': 'j', '...                          \n",
       "151  [{'screen_name': 'gg___wp____', 'name': 'j', '...                          \n",
       "161                                                 []                          \n",
       "185  [{'screen_name': 'gg___wp____', 'name': 'j', '...                          \n",
       "\n",
       "    trans_src  trans_dest  \n",
       "2                          \n",
       "101                        \n",
       "151                        \n",
       "161                        \n",
       "185                        \n",
       "\n",
       "[5 rows x 38 columns]"
      ]
     },
     "execution_count": 32,
     "metadata": {},
     "output_type": "execute_result"
    }
   ],
   "source": [
    "Tweets_df.loc[Tweets_df.tweet.isnull()][:5]"
   ]
  },
  {
   "cell_type": "code",
   "execution_count": 33,
   "id": "2762d405",
   "metadata": {},
   "outputs": [],
   "source": [
    "Tweets_df = Tweets_df.dropna(how='any')"
   ]
  },
  {
   "cell_type": "code",
   "execution_count": 34,
   "id": "8d3c9fd7",
   "metadata": {},
   "outputs": [
    {
     "name": "stdout",
     "output_type": "stream",
     "text": [
      "89876\n"
     ]
    }
   ],
   "source": [
    "print(len(Tweets_df))"
   ]
  },
  {
   "cell_type": "code",
   "execution_count": 37,
   "id": "bfc3d156",
   "metadata": {},
   "outputs": [
    {
     "data": {
      "text/plain": [
       "0                               아 씨발 개처웃음 존나 웃김 캐해 레전드다\n",
       "1                                    갤러리 보다가 갑자기 보고 개웃음\n",
       "3                         바밍 라이브 너무 신남 한국에서 라이브 좀 자주 해라\n",
       "4                                   그대는 늘 행복의 한복판에 있길  \n",
       "5     인문학을 한다는 자부심 연구하고 싶은 주제에 매달리는 기쁨 등이 내 삶의 추진력이다...\n",
       "6     옛날엔 하루하루가 행복했던거같은데 지금은 행복을 찾을 길이 없어 이게 다 돈때문이야...\n",
       "7                                            조심해서 들어가야햐\n",
       "8                           ㅋㅋㅋㅋㅋㅋㅋㅋㅋ고생햇어 행복과 육체를 맞바꿨구나\n",
       "9                                         응 사실 기쁨의 눈물  \n",
       "10                                 우래들 행복하기만 해나도 행복만 할래\n",
       "Name: tweet, dtype: object"
      ]
     },
     "execution_count": 37,
     "metadata": {},
     "output_type": "execute_result"
    }
   ],
   "source": [
    "Tweets_df[:10]['tweet']"
   ]
  },
  {
   "cell_type": "code",
   "execution_count": 44,
   "id": "2206db98",
   "metadata": {},
   "outputs": [],
   "source": [
    "from wordcloud import WordCloud, STOPWORDS \n",
    "import matplotlib.pyplot as plt \n",
    "from matplotlib import rc\n",
    "import pandas as pd \n",
    "import urllib.request"
   ]
  },
  {
   "cell_type": "code",
   "execution_count": 45,
   "id": "eb9bbd54",
   "metadata": {},
   "outputs": [
    {
     "data": {
      "text/plain": [
       "('AppleGothic.ttf', <http.client.HTTPMessage at 0x2eea1592100>)"
      ]
     },
     "execution_count": 45,
     "metadata": {},
     "output_type": "execute_result"
    }
   ],
   "source": [
    "urllib.request.urlretrieve(\"http://macsplex.com/?module=file&act=procFileDownload&file_srl=2851&sid=ea4a36b12467c4446c21e70762c7d10f&module_srl=2822g\", filename=\"AppleGothic.ttf\")"
   ]
  },
  {
   "cell_type": "code",
   "execution_count": 46,
   "id": "51dbc6dc",
   "metadata": {},
   "outputs": [],
   "source": [
    "comment_words = ''\n",
    "stopwords = set(STOPWORDS)\n",
    "\n",
    "tokenized_text = []"
   ]
  },
  {
   "cell_type": "code",
   "execution_count": 47,
   "id": "c2d57dd3",
   "metadata": {},
   "outputs": [],
   "source": [
    "for val in Tweets_df[\"tweet\"]:\n",
    "\n",
    "  # 문장을 string으로 만들기\n",
    "  val = str(val)\n",
    "\n",
    "  # 문장을 쪼개기\n",
    "  tokens = val.split()\n",
    "\n",
    "  tokenized_text.append(tokens)\n",
    "  comment_words += \" \".join(tokens) + \" \""
   ]
  },
  {
   "cell_type": "code",
   "execution_count": 48,
   "id": "233ec43f",
   "metadata": {},
   "outputs": [
    {
     "data": {
      "image/png": "[encoded data removed]",
      "text/plain": [
       "<Figure size 576x576 with 1 Axes>"
      ]
     },
     "metadata": {
      "needs_background": "light"
     },
     "output_type": "display_data"
    }
   ],
   "source": [
    "wordcloud = WordCloud(width = 800, height = 800, \n",
    "                font_path='AppleGothic.ttf',\n",
    "                background_color ='white', \n",
    "                stopwords = stopwords, \n",
    "                min_font_size = 10).generate(comment_words) \n",
    "\n",
    "# plot the WordCloud image                        \n",
    "plt.figure(figsize = (8, 8), facecolor = None) \n",
    "plt.imshow(wordcloud) \n",
    "plt.axis(\"off\") \n",
    "plt.tight_layout(pad = 0) \n",
    "  \n",
    "plt.show() "
   ]
  },
  {
   "cell_type": "code",
   "execution_count": 57,
   "id": "82f6e834",
   "metadata": {},
   "outputs": [],
   "source": [
    "token_count =dict()"
   ]
  },
  {
   "cell_type": "code",
   "execution_count": 64,
   "id": "5c2d8ab7",
   "metadata": {},
   "outputs": [],
   "source": [
    "for val in Tweets_df[\"tweet\"]:\n",
    "\n",
    "  # 문장을 string으로 만들기\n",
    "  val = str(val)\n",
    "\n",
    "  # 문장을 쪼개기\n",
    "  tokens = val.split()\n",
    "  for i in range(len(tokens)):\n",
    "    if tokens[i] in token_count.keys():\n",
    "      token_count[tokens[i]] +=1\n",
    "    else:\n",
    "      token_count[tokens[i]] = 1\n",
    "  tokenized_text.append(tokens)"
   ]
  },
  {
   "cell_type": "code",
   "execution_count": 76,
   "id": "d2d707a3",
   "metadata": {},
   "outputs": [],
   "source": [
    "token_cnt_li = list(token_count.items())"
   ]
  },
  {
   "cell_type": "code",
   "execution_count": 75,
   "id": "4558d398",
   "metadata": {},
   "outputs": [
    {
     "name": "stdout",
     "output_type": "stream",
     "text": [
      "3799\n"
     ]
    }
   ],
   "source": [
    "print(token_count['아'])"
   ]
  },
  {
   "cell_type": "code",
   "execution_count": 80,
   "id": "9947518b",
   "metadata": {},
   "outputs": [
    {
     "name": "stdout",
     "output_type": "stream",
     "text": [
      "3799\n"
     ]
    }
   ],
   "source": [
    "print(token_cnt_li[0][1])"
   ]
  },
  {
   "cell_type": "code",
   "execution_count": 84,
   "id": "9c64f762",
   "metadata": {},
   "outputs": [],
   "source": [
    "token_cnt_li.sort(key=lambda x:x[1], reverse=True)"
   ]
  },
  {
   "cell_type": "code",
   "execution_count": 89,
   "id": "2fdedcc9",
   "metadata": {},
   "outputs": [
    {
     "name": "stdout",
     "output_type": "stream",
     "text": [
      "[('웃음', 11725), ('너무', 8417), ('행복', 7689), ('진짜', 6157), ('그', 5524), ('수', 5373), ('행복을', 4714), ('내', 4647), ('웃음이', 4128), ('것', 3929), ('이', 3887), ('더', 3849), ('아', 3799), ('웃음을', 3775), ('내가', 3733), ('다', 3512), ('거', 3447), ('나', 3188), ('잘', 3132), ('안', 3056), ('하고', 2756), ('보고', 2549), ('오늘', 2537), ('있는', 2531), ('그냥', 2457), ('한', 2375), ('우리', 2362), ('근데', 2306), ('정말', 2292), ('나는', 2291), ('행복이', 2280), ('저', 2259), ('또', 2141), ('네', 2129), ('게', 2012), ('하는', 1987), ('좀', 1945), ('많이', 1904), ('그런', 1874), ('지금', 1851), ('난', 1789), ('기쁨', 1777), ('때', 1756), ('그리고', 1728), ('ㅋ', 1677), ('제', 1675), ('행복만', 1672), ('왜', 1670), ('건', 1641), ('할', 1641), ('이런', 1622), ('넘', 1597), ('같이', 1583), ('나의', 1573), ('이렇게', 1572), ('좋은', 1567), ('다시', 1564), ('하', 1512), ('아니', 1501), ('항상', 1493), ('그렇게', 1415), ('나도', 1393), ('같은', 1381), ('이제', 1313), ('행복은', 1265), ('없는', 1256), ('함께', 1228), ('제가', 1214), ('네가', 1190), ('즐거움', 1186), ('못', 1183), ('다른', 1179), ('보면', 1165), ('걸', 1155), ('그래도', 1145), ('모든', 1144), ('이거', 1141), ('계속', 1123), ('사람', 1110), ('하지만', 1100), ('뭐', 1022), ('신남', 1018), ('것도', 1013), ('이게', 1009), ('하루', 1007), ('꼭', 1004), ('오늘도', 999), ('날', 998), ('해', 989), ('그래서', 973), ('말', 961), ('큰', 953), ('걍', 943), ('사랑해', 942), ('그럼', 941), ('행복한', 940), ('그게', 938), ('늘', 925), ('ㅋㅋ', 924), ('사람이', 912)]\n"
     ]
    }
   ],
   "source": [
    "print(token_cnt_li[:100])"
   ]
  },
  {
   "cell_type": "code",
   "execution_count": 90,
   "id": "8aa89419",
   "metadata": {},
   "outputs": [],
   "source": [
    "pleasure_word = []"
   ]
  },
  {
   "cell_type": "code",
   "execution_count": 91,
   "id": "9831acdb",
   "metadata": {},
   "outputs": [],
   "source": [
    "for i in range(100):\n",
    "    pleasure_word.append(token_cnt_li[i][0])"
   ]
  },
  {
   "cell_type": "code",
   "execution_count": 92,
   "id": "995d1c2c",
   "metadata": {},
   "outputs": [
    {
     "name": "stdout",
     "output_type": "stream",
     "text": [
      "['웃음', '너무', '행복', '진짜', '그', '수', '행복을', '내', '웃음이', '것', '이', '더', '아', '웃음을', '내가', '다', '거', '나', '잘', '안', '하고', '보고', '오늘', '있는', '그냥', '한', '우리', '근데', '정말', '나는', '행복이', '저', '또', '네', '게', '하는', '좀', '많이', '그런', '지금', '난', '기쁨', '때', '그리고', 'ㅋ', '제', '행복만', '왜', '건', '할', '이런', '넘', '같이', '나의', '이렇게', '좋은', '다시', '하', '아니', '항상', '그렇게', '나도', '같은', '이제', '행복은', '없는', '함께', '제가', '네가', '즐거움', '못', '다른', '보면', '걸', '그래도', '모든', '이거', '계속', '사람', '하지만', '뭐', '신남', '것도', '이게', '하루', '꼭', '오늘도', '날', '해', '그래서', '말', '큰', '걍', '사랑해', '그럼', '행복한', '그게', '늘', 'ㅋㅋ', '사람이']\n"
     ]
    }
   ],
   "source": [
    "print(pleasure_word)"
   ]
  },
  {
   "cell_type": "code",
   "execution_count": 95,
   "id": "b0cc72cb",
   "metadata": {},
   "outputs": [
    {
     "name": "stdout",
     "output_type": "stream",
     "text": [
      "[!] No more data! Scraping will stop now.\n",
      "found 0 deleted tweets in this search.\n"
     ]
    }
   ],
   "source": [
    "nest_asyncio.apply()\n",
    "c = twint.Config()\n",
    "c.Search = \"개쌍년 OR 분노 OR 격노 OR 분개 OR 씹새끼\"\n",
    "c.Limit = 100000\n",
    "c.Pandas = True\n",
    "c.Hide_output= True\n",
    "twint.run.Search(c)\n",
    "Tweets_df2 = twint.storage.panda.Tweets_df"
   ]
  },
  {
   "cell_type": "code",
   "execution_count": 96,
   "id": "a1b0938d",
   "metadata": {},
   "outputs": [
    {
     "name": "stdout",
     "output_type": "stream",
     "text": [
      "                        id      conversation_id    created_at  \\\n",
      "0      1556003510168485888  1555986214909792257  1.659815e+12   \n",
      "1      1556002953927938049  1555793618358894593  1.659815e+12   \n",
      "2      1556002797203558402  1556002797203558402  1.659815e+12   \n",
      "3      1556002705780355072  1556002705780355072  1.659815e+12   \n",
      "4      1556000626634784768  1556000626634784768  1.659814e+12   \n",
      "...                    ...                  ...           ...   \n",
      "25340  1552342154667708416  1552342154667708416  1.658942e+12   \n",
      "25341  1552342071515627521  1552342071515627521  1.658942e+12   \n",
      "25342  1552342024694956032  1552342024694956032  1.658942e+12   \n",
      "25343  1552341969451372546  1552341969451372546  1.658942e+12   \n",
      "25344  1552341964867047424  1552326566306148352  1.658942e+12   \n",
      "\n",
      "                      date timezone place  \\\n",
      "0      2022-08-07 04:45:20    +0900         \n",
      "1      2022-08-07 04:43:08    +0900         \n",
      "2      2022-08-07 04:42:30    +0900         \n",
      "3      2022-08-07 04:42:08    +0900         \n",
      "4      2022-08-07 04:33:53    +0900         \n",
      "...                    ...      ...   ...   \n",
      "25340  2022-07-28 02:16:25    +0900         \n",
      "25341  2022-07-28 02:16:05    +0900         \n",
      "25342  2022-07-28 02:15:54    +0900         \n",
      "25343  2022-07-28 02:15:41    +0900         \n",
      "25344  2022-07-28 02:15:40    +0900         \n",
      "\n",
      "                                                   tweet language hashtags  \\\n",
      "0      억지력으로 남게해달라고요 미친새끼등라 작별도 제대로못하고 이렇게 사라진다고? 이게말...       ko       []   \n",
      "1      쪼마랴 노선 너무너무 즐거웠음… 분노 가득하고 아버지와 참 닮은 쪼마랴  그리고 다...       ko       []   \n",
      "2      분노가 자신을 향할 때 우울이 된다. 우울한 사람은 사실 분노하고 있는 것이다. 왜...       ko       []   \n",
      "3      이집트가 中 전투기 써본후 격노해 FA-50 '역대급' 전면교체 선포한 충격 상황 ...       ko       []   \n",
      "4      데연시해봤는데 번역의한계인진몰라도 존나그냥 몰입안돼 근데 제작진도 장난치면서 만든게...       ko       []   \n",
      "...                                                  ...      ...      ...   \n",
      "25340  그냥 하던대로. 사랑이나 하고싶다고 (덕질하고싶다는뜻. 헤테로간 교미x) 전방에 분...       ko       []   \n",
      "25341  야 미친새끼야 니는 의사한테 전화해야할거아니야 이씹!!!! 야!!!! 그게 사랑이야...       ko       []   \n",
      "25342  콘서트 코앞에 두고 얼마나 경계심 없이 싸돌아댕겼으면 ㅉㅉ 정작 욕쳐먹어야될 새끼는...       ko       []   \n",
      "25343  근데진짜 약간... 2차에서보단 키리+바쿠는 키리시마가 더 시끄러웠는데 원작보니까 ...       ko       []   \n",
      "25344  @maga_catus 이 일을 아주 오래오래 생각하면서 화내야겠다고  맘먹었지만 현...       ko       []   \n",
      "\n",
      "      cashtags  ...  geo source user_rt_id user_rt  retweet_id  \\\n",
      "0           []  ...                                              \n",
      "1           []  ...                                              \n",
      "2           []  ...                                              \n",
      "3           []  ...                                              \n",
      "4           []  ...                                              \n",
      "...        ...  ...  ...    ...        ...     ...         ...   \n",
      "25340       []  ...                                              \n",
      "25341       []  ...                                              \n",
      "25342       []  ...                                              \n",
      "25343       []  ...                                              \n",
      "25344       []  ...                                              \n",
      "\n",
      "                                                reply_to retweet_date  \\\n",
      "0                                                     []                \n",
      "1                                                     []                \n",
      "2                                                     []                \n",
      "3                                                     []                \n",
      "4                                                     []                \n",
      "...                                                  ...          ...   \n",
      "25340                                                 []                \n",
      "25341                                                 []                \n",
      "25342                                                 []                \n",
      "25343                                                 []                \n",
      "25344  [{'screen_name': 'maga_catus', 'name': '르넵', '...                \n",
      "\n",
      "      translate trans_src  trans_dest  \n",
      "0                                      \n",
      "1                                      \n",
      "2                                      \n",
      "3                                      \n",
      "4                                      \n",
      "...         ...       ...         ...  \n",
      "25340                                  \n",
      "25341                                  \n",
      "25342                                  \n",
      "25343                                  \n",
      "25344                                  \n",
      "\n",
      "[25345 rows x 38 columns]\n"
     ]
    }
   ],
   "source": [
    "print(Tweets_df2)"
   ]
  },
  {
   "cell_type": "code",
   "execution_count": 97,
   "id": "69318642",
   "metadata": {},
   "outputs": [],
   "source": [
    "Tweets_df2.to_csv('./data_anger.csv', index=False, encoding=\"utf-8-sig\")"
   ]
  },
  {
   "cell_type": "code",
   "execution_count": 98,
   "id": "9e42fca0",
   "metadata": {},
   "outputs": [
    {
     "data": {
      "text/plain": [
       "(24105, 89876)"
      ]
     },
     "execution_count": 98,
     "metadata": {},
     "output_type": "execute_result"
    }
   ],
   "source": [
    "Tweets_df2['tweet'].nunique(), Tweets_df['id'].nunique()"
   ]
  },
  {
   "cell_type": "code",
   "execution_count": 99,
   "id": "13f2b9bb",
   "metadata": {},
   "outputs": [],
   "source": [
    "Tweets_df2.drop_duplicates(subset=['tweet'], inplace=True)"
   ]
  },
  {
   "cell_type": "code",
   "execution_count": 100,
   "id": "a58cbca0",
   "metadata": {},
   "outputs": [
    {
     "name": "stdout",
     "output_type": "stream",
     "text": [
      "총 샘플의 수 : 24105\n"
     ]
    }
   ],
   "source": [
    "print('총 샘플의 수 :',len(Tweets_df2))"
   ]
  },
  {
   "cell_type": "code",
   "execution_count": 101,
   "id": "1224a7c0",
   "metadata": {},
   "outputs": [
    {
     "name": "stderr",
     "output_type": "stream",
     "text": [
      "C:\\Users\\comet\\AppData\\Local\\Temp\\ipykernel_1516\\3506912279.py:1: FutureWarning: The default value of regex will change from True to False in a future version.\n",
      "  Tweets_df2['tweet'] = Tweets_df2['tweet'].str.replace(\"[^ㄱ-ㅎㅏ-ㅣ가-힣 ]\",\"\")\n"
     ]
    },
    {
     "data": {
      "text/plain": [
       "0    억지력으로 남게해달라고요 미친새끼등라 작별도 제대로못하고 이렇게 사라진다고 이게말이...\n",
       "1    쪼마랴 노선 너무너무 즐거웠음 분노 가득하고 아버지와 참 닮은 쪼마랴  그리고 다시...\n",
       "2    분노가 자신을 향할 때 우울이 된다 우울한 사람은 사실 분노하고 있는 것이다 왜 누...\n",
       "3          이집트가  전투기 써본후 격노해  역대급 전면교체 선포한 충격 상황   출처 \n",
       "4    데연시해봤는데 번역의한계인진몰라도 존나그냥 몰입안돼 근데 제작진도 장난치면서 만든게...\n",
       "Name: tweet, dtype: object"
      ]
     },
     "execution_count": 101,
     "metadata": {},
     "output_type": "execute_result"
    }
   ],
   "source": [
    "Tweets_df2['tweet'] = Tweets_df2['tweet'].str.replace(\"[^ㄱ-ㅎㅏ-ㅣ가-힣 ]\",\"\")\n",
    "Tweets_df2[:5]['tweet']"
   ]
  },
  {
   "cell_type": "code",
   "execution_count": 102,
   "id": "9213b7a6",
   "metadata": {},
   "outputs": [
    {
     "name": "stderr",
     "output_type": "stream",
     "text": [
      "C:\\Users\\comet\\AppData\\Local\\Temp\\ipykernel_1516\\2899577528.py:1: FutureWarning: The default value of regex will change from True to False in a future version.\n",
      "  Tweets_df2['tweet'] = Tweets_df2['tweet'].str.replace('^ +', \"\")\n"
     ]
    }
   ],
   "source": [
    "Tweets_df2['tweet'] = Tweets_df2['tweet'].str.replace('^ +', \"\")"
   ]
  },
  {
   "cell_type": "code",
   "execution_count": 103,
   "id": "a915a6c6",
   "metadata": {},
   "outputs": [
    {
     "name": "stdout",
     "output_type": "stream",
     "text": [
      "354\n"
     ]
    }
   ],
   "source": [
    "import numpy as np\n",
    "Tweets_df2['tweet'].replace('', np.nan, inplace=True)\n",
    "print(Tweets_df2['tweet'].isnull().sum())"
   ]
  },
  {
   "cell_type": "code",
   "execution_count": 104,
   "id": "44e8910c",
   "metadata": {},
   "outputs": [
    {
     "data": {
      "text/html": [
       "<div>\n",
       "<style scoped>\n",
       "    .dataframe tbody tr th:only-of-type {\n",
       "        vertical-align: middle;\n",
       "    }\n",
       "\n",
       "    .dataframe tbody tr th {\n",
       "        vertical-align: top;\n",
       "    }\n",
       "\n",
       "    .dataframe thead th {\n",
       "        text-align: right;\n",
       "    }\n",
       "</style>\n",
       "<table border=\"1\" class=\"dataframe\">\n",
       "  <thead>\n",
       "    <tr style=\"text-align: right;\">\n",
       "      <th></th>\n",
       "      <th>id</th>\n",
       "      <th>conversation_id</th>\n",
       "      <th>created_at</th>\n",
       "      <th>date</th>\n",
       "      <th>timezone</th>\n",
       "      <th>place</th>\n",
       "      <th>tweet</th>\n",
       "      <th>language</th>\n",
       "      <th>hashtags</th>\n",
       "      <th>cashtags</th>\n",
       "      <th>...</th>\n",
       "      <th>geo</th>\n",
       "      <th>source</th>\n",
       "      <th>user_rt_id</th>\n",
       "      <th>user_rt</th>\n",
       "      <th>retweet_id</th>\n",
       "      <th>reply_to</th>\n",
       "      <th>retweet_date</th>\n",
       "      <th>translate</th>\n",
       "      <th>trans_src</th>\n",
       "      <th>trans_dest</th>\n",
       "    </tr>\n",
       "  </thead>\n",
       "  <tbody>\n",
       "    <tr>\n",
       "      <th>114</th>\n",
       "      <td>1555980567170101248</td>\n",
       "      <td>1555980567170101248</td>\n",
       "      <td>1.659810e+12</td>\n",
       "      <td>2022-08-07 03:14:10</td>\n",
       "      <td>+0900</td>\n",
       "      <td></td>\n",
       "      <td>NaN</td>\n",
       "      <td>zxx</td>\n",
       "      <td>[]</td>\n",
       "      <td>[]</td>\n",
       "      <td>...</td>\n",
       "      <td></td>\n",
       "      <td></td>\n",
       "      <td></td>\n",
       "      <td></td>\n",
       "      <td></td>\n",
       "      <td>[]</td>\n",
       "      <td></td>\n",
       "      <td></td>\n",
       "      <td></td>\n",
       "      <td></td>\n",
       "    </tr>\n",
       "    <tr>\n",
       "      <th>130</th>\n",
       "      <td>1555977753828405248</td>\n",
       "      <td>1555977753828405248</td>\n",
       "      <td>1.659809e+12</td>\n",
       "      <td>2022-08-07 03:02:59</td>\n",
       "      <td>+0900</td>\n",
       "      <td></td>\n",
       "      <td>NaN</td>\n",
       "      <td>zxx</td>\n",
       "      <td>[]</td>\n",
       "      <td>[]</td>\n",
       "      <td>...</td>\n",
       "      <td></td>\n",
       "      <td></td>\n",
       "      <td></td>\n",
       "      <td></td>\n",
       "      <td></td>\n",
       "      <td>[]</td>\n",
       "      <td></td>\n",
       "      <td></td>\n",
       "      <td></td>\n",
       "      <td></td>\n",
       "    </tr>\n",
       "    <tr>\n",
       "      <th>383</th>\n",
       "      <td>1555945974673072128</td>\n",
       "      <td>1555678514397040640</td>\n",
       "      <td>1.659801e+12</td>\n",
       "      <td>2022-08-07 00:56:43</td>\n",
       "      <td>+0900</td>\n",
       "      <td></td>\n",
       "      <td>NaN</td>\n",
       "      <td>ru</td>\n",
       "      <td>[]</td>\n",
       "      <td>[]</td>\n",
       "      <td>...</td>\n",
       "      <td></td>\n",
       "      <td></td>\n",
       "      <td></td>\n",
       "      <td></td>\n",
       "      <td></td>\n",
       "      <td>[{'screen_name': 'crim3s_Vas', 'name': 'X💜X💜',...</td>\n",
       "      <td></td>\n",
       "      <td></td>\n",
       "      <td></td>\n",
       "      <td></td>\n",
       "    </tr>\n",
       "    <tr>\n",
       "      <th>406</th>\n",
       "      <td>1555944158631985152</td>\n",
       "      <td>1555943966700634114</td>\n",
       "      <td>1.659801e+12</td>\n",
       "      <td>2022-08-07 00:49:30</td>\n",
       "      <td>+0900</td>\n",
       "      <td></td>\n",
       "      <td>NaN</td>\n",
       "      <td>zxx</td>\n",
       "      <td>[]</td>\n",
       "      <td>[]</td>\n",
       "      <td>...</td>\n",
       "      <td></td>\n",
       "      <td></td>\n",
       "      <td></td>\n",
       "      <td></td>\n",
       "      <td></td>\n",
       "      <td>[]</td>\n",
       "      <td></td>\n",
       "      <td></td>\n",
       "      <td></td>\n",
       "      <td></td>\n",
       "    </tr>\n",
       "    <tr>\n",
       "      <th>519</th>\n",
       "      <td>1555935297610719235</td>\n",
       "      <td>1555933464196947968</td>\n",
       "      <td>1.659799e+12</td>\n",
       "      <td>2022-08-07 00:14:17</td>\n",
       "      <td>+0900</td>\n",
       "      <td></td>\n",
       "      <td>NaN</td>\n",
       "      <td>qme</td>\n",
       "      <td>[]</td>\n",
       "      <td>[]</td>\n",
       "      <td>...</td>\n",
       "      <td></td>\n",
       "      <td></td>\n",
       "      <td></td>\n",
       "      <td></td>\n",
       "      <td></td>\n",
       "      <td>[]</td>\n",
       "      <td></td>\n",
       "      <td></td>\n",
       "      <td></td>\n",
       "      <td></td>\n",
       "    </tr>\n",
       "  </tbody>\n",
       "</table>\n",
       "<p>5 rows × 38 columns</p>\n",
       "</div>"
      ],
      "text/plain": [
       "                      id      conversation_id    created_at  \\\n",
       "114  1555980567170101248  1555980567170101248  1.659810e+12   \n",
       "130  1555977753828405248  1555977753828405248  1.659809e+12   \n",
       "383  1555945974673072128  1555678514397040640  1.659801e+12   \n",
       "406  1555944158631985152  1555943966700634114  1.659801e+12   \n",
       "519  1555935297610719235  1555933464196947968  1.659799e+12   \n",
       "\n",
       "                    date timezone place tweet language hashtags cashtags  ...  \\\n",
       "114  2022-08-07 03:14:10    +0900         NaN      zxx       []       []  ...   \n",
       "130  2022-08-07 03:02:59    +0900         NaN      zxx       []       []  ...   \n",
       "383  2022-08-07 00:56:43    +0900         NaN       ru       []       []  ...   \n",
       "406  2022-08-07 00:49:30    +0900         NaN      zxx       []       []  ...   \n",
       "519  2022-08-07 00:14:17    +0900         NaN      qme       []       []  ...   \n",
       "\n",
       "     geo source user_rt_id user_rt  retweet_id  \\\n",
       "114                                              \n",
       "130                                              \n",
       "383                                              \n",
       "406                                              \n",
       "519                                              \n",
       "\n",
       "                                              reply_to retweet_date translate  \\\n",
       "114                                                 []                          \n",
       "130                                                 []                          \n",
       "383  [{'screen_name': 'crim3s_Vas', 'name': 'X💜X💜',...                          \n",
       "406                                                 []                          \n",
       "519                                                 []                          \n",
       "\n",
       "    trans_src  trans_dest  \n",
       "114                        \n",
       "130                        \n",
       "383                        \n",
       "406                        \n",
       "519                        \n",
       "\n",
       "[5 rows x 38 columns]"
      ]
     },
     "execution_count": 104,
     "metadata": {},
     "output_type": "execute_result"
    }
   ],
   "source": [
    "Tweets_df2.loc[Tweets_df2.tweet.isnull()][:5]"
   ]
  },
  {
   "cell_type": "code",
   "execution_count": 105,
   "id": "66b8a02c",
   "metadata": {},
   "outputs": [],
   "source": [
    "Tweets_df2 = Tweets_df2.dropna(how='any')"
   ]
  },
  {
   "cell_type": "code",
   "execution_count": 106,
   "id": "2200b685",
   "metadata": {},
   "outputs": [
    {
     "name": "stdout",
     "output_type": "stream",
     "text": [
      "23751\n"
     ]
    }
   ],
   "source": [
    "print(len(Tweets_df2))"
   ]
  },
  {
   "cell_type": "code",
   "execution_count": 107,
   "id": "290c1007",
   "metadata": {},
   "outputs": [
    {
     "data": {
      "text/plain": [
       "0    억지력으로 남게해달라고요 미친새끼등라 작별도 제대로못하고 이렇게 사라진다고 이게말이...\n",
       "1    쪼마랴 노선 너무너무 즐거웠음 분노 가득하고 아버지와 참 닮은 쪼마랴  그리고 다시...\n",
       "2    분노가 자신을 향할 때 우울이 된다 우울한 사람은 사실 분노하고 있는 것이다 왜 누...\n",
       "3          이집트가  전투기 써본후 격노해  역대급 전면교체 선포한 충격 상황   출처 \n",
       "4    데연시해봤는데 번역의한계인진몰라도 존나그냥 몰입안돼 근데 제작진도 장난치면서 만든게...\n",
       "5    제가 얼마전에 서치하다 분노햇던 리버스캐해트윗이 저거엿는데 시팔ㅋㅋㅋ 하는 생각 다...\n",
       "6                         아까 잠올때 잘걸 안자고 버티다가 후회하고 분노하고\n",
       "7    몸을 잔뜩 웅크린 채 한참을 흐느낀다 분노가 가득 차다 못해 넘쳐 온 몸이 떨려온다...\n",
       "8    잔느 얼터 기억이 있건 없건 내가 잔 다르크라는 사실에 변함은 없어 잔느 분명 그 ...\n",
       "9    그래서 탄생에 반대되는 것을 택하겠다 이 말이 하고 싶은 겁니까 다른 이도 아닌 그...\n",
       "Name: tweet, dtype: object"
      ]
     },
     "execution_count": 107,
     "metadata": {},
     "output_type": "execute_result"
    }
   ],
   "source": [
    "Tweets_df2[:10]['tweet']"
   ]
  },
  {
   "cell_type": "code",
   "execution_count": 108,
   "id": "ea5239cd",
   "metadata": {},
   "outputs": [],
   "source": [
    "comment_words = ''\n",
    "stopwords = set(STOPWORDS)"
   ]
  },
  {
   "cell_type": "code",
   "execution_count": 109,
   "id": "5c686207",
   "metadata": {},
   "outputs": [],
   "source": [
    "token_count2 =dict()"
   ]
  },
  {
   "cell_type": "code",
   "execution_count": 110,
   "id": "79118a9c",
   "metadata": {},
   "outputs": [],
   "source": [
    "for val in Tweets_df2[\"tweet\"]:\n",
    "\n",
    "  # 문장을 string으로 만들기\n",
    "  val = str(val)\n",
    "\n",
    "  # 문장을 쪼개기\n",
    "  tokens = val.split()\n",
    "  for i in range(len(tokens)):\n",
    "    if tokens[i] in token_count2.keys():\n",
    "      token_count2[tokens[i]] +=1\n",
    "    else:\n",
    "      token_count2[tokens[i]] = 1\n",
    "  #tokenized_text.append(tokens)"
   ]
  },
  {
   "cell_type": "code",
   "execution_count": 111,
   "id": "f3da2c0a",
   "metadata": {},
   "outputs": [],
   "source": [
    "token_cnt_li2 = list(token_count2.items())"
   ]
  },
  {
   "cell_type": "code",
   "execution_count": 114,
   "id": "176e235a",
   "metadata": {},
   "outputs": [],
   "source": [
    "token_cnt_li2.sort(key=lambda x:x[1], reverse=True)"
   ]
  },
  {
   "cell_type": "code",
   "execution_count": 115,
   "id": "96cf1f45",
   "metadata": {},
   "outputs": [
    {
     "name": "stdout",
     "output_type": "stream",
     "text": [
      "[('분노', 3309), ('그', 1986), ('분노가', 1572), ('진짜', 1566), ('이', 1532), ('분노를', 1384), ('수', 1266), ('분노의', 1249), ('너무', 1186), ('다', 1060), ('내가', 1056), ('왜', 1038), ('안', 1001), ('것', 990), ('더', 984), ('근데', 931), ('내', 916), ('분노하고', 912), ('거', 836), ('그냥', 763), ('아', 719), ('하고', 709), ('대한', 708), ('나', 703), ('한', 675), ('하는', 674), ('나는', 664), ('좀', 642), ('있는', 616), ('또', 615), ('분노와', 599), ('분노에', 595), ('저', 593), ('지금', 587), ('그리고', 579), ('잘', 575), ('보고', 560), ('질투하고', 541), ('게', 538), ('아니', 532), ('그런', 526), ('때', 524), ('할', 522), ('분노로', 518), ('난', 509), ('시기하고', 508), ('없는', 481), ('이런', 467), ('정말', 442), ('분노는', 440), ('분노한', 438), ('분노하는', 433), ('같은', 423), ('시샘하고', 422), ('하', 413), ('다른', 407), ('오늘', 402), ('분개하고', 397), ('미워하고', 394), ('걍', 394), ('다시', 390), ('건', 390), ('그렇게', 376), ('이제', 367), ('못', 367), ('절망하고', 363), ('하지만', 361), ('모든', 348), ('갑자기', 342), ('어떻게', 338), ('그래서', 337), ('존나', 336), ('걸', 324), ('이렇게', 319), ('ㅋ', 313), ('때문에', 303), ('보면', 300), ('아니라', 300), ('사람', 297), ('뭐', 294), ('이게', 288), ('씹새끼', 285), ('아파하고', 285), ('것도', 284), ('사람이', 284), ('이거', 283), ('제', 280), ('나도', 274), ('그게', 271), ('계속', 268), ('우리', 265), ('같이', 262), ('ㅋㅋ', 259), ('네', 259), ('어떤', 257), ('결국', 256), ('자기', 254), ('많이', 252), ('날', 252), ('사실', 246)]\n"
     ]
    }
   ],
   "source": [
    "print(token_cnt_li2[:100])"
   ]
  },
  {
   "cell_type": "code",
   "execution_count": 116,
   "id": "402c67d1",
   "metadata": {},
   "outputs": [],
   "source": [
    "angry_word = []"
   ]
  },
  {
   "cell_type": "code",
   "execution_count": 117,
   "id": "8afd7890",
   "metadata": {},
   "outputs": [],
   "source": [
    "for i in range(100):\n",
    "    angry_word.append(token_cnt_li2[i][0])"
   ]
  },
  {
   "cell_type": "code",
   "execution_count": 118,
   "id": "0e4a44b4",
   "metadata": {},
   "outputs": [
    {
     "name": "stdout",
     "output_type": "stream",
     "text": [
      "['분노', '그', '분노가', '진짜', '이', '분노를', '수', '분노의', '너무', '다', '내가', '왜', '안', '것', '더', '근데', '내', '분노하고', '거', '그냥', '아', '하고', '대한', '나', '한', '하는', '나는', '좀', '있는', '또', '분노와', '분노에', '저', '지금', '그리고', '잘', '보고', '질투하고', '게', '아니', '그런', '때', '할', '분노로', '난', '시기하고', '없는', '이런', '정말', '분노는', '분노한', '분노하는', '같은', '시샘하고', '하', '다른', '오늘', '분개하고', '미워하고', '걍', '다시', '건', '그렇게', '이제', '못', '절망하고', '하지만', '모든', '갑자기', '어떻게', '그래서', '존나', '걸', '이렇게', 'ㅋ', '때문에', '보면', '아니라', '사람', '뭐', '이게', '씹새끼', '아파하고', '것도', '사람이', '이거', '제', '나도', '그게', '계속', '우리', '같이', 'ㅋㅋ', '네', '어떤', '결국', '자기', '많이', '날', '사실']\n"
     ]
    }
   ],
   "source": [
    "print(angry_word)"
   ]
  },
  {
   "cell_type": "code",
   "execution_count": 119,
   "id": "b41c810d",
   "metadata": {},
   "outputs": [
    {
     "name": "stdout",
     "output_type": "stream",
     "text": [
      "[!] No more data! Scraping will stop now.\n",
      "found 0 deleted tweets in this search.\n"
     ]
    }
   ],
   "source": [
    "nest_asyncio.apply()\n",
    "c = twint.Config()\n",
    "c.Search = \"슬픔 OR 울다 OR 애통 OR 애도 OR 울부짖다\"\n",
    "c.Limit = 100000\n",
    "c.Pandas = True\n",
    "c.Hide_output= True\n",
    "twint.run.Search(c)\n",
    "Tweets_df3 = twint.storage.panda.Tweets_df"
   ]
  },
  {
   "cell_type": "code",
   "execution_count": 120,
   "id": "5d6193a9",
   "metadata": {},
   "outputs": [
    {
     "name": "stdout",
     "output_type": "stream",
     "text": [
      "                        id      conversation_id    created_at  \\\n",
      "0      1556009462573723649  1556009462573723649  1.659817e+12   \n",
      "1      1556009431233691649  1556009431233691649  1.659817e+12   \n",
      "2      1556009347200663552  1555779070751035392  1.659817e+12   \n",
      "3      1556009342901846016  1556009342901846016  1.659817e+12   \n",
      "4      1556009113984700416  1556009113984700416  1.659816e+12   \n",
      "...                    ...                  ...           ...   \n",
      "98255  1552511564028477440  1552511074809053184  1.658983e+12   \n",
      "98256  1552511423754149888  1552511423754149888  1.658983e+12   \n",
      "98257  1552511405299236864  1552511405299236864  1.658983e+12   \n",
      "98258  1552511359887089664  1552511359887089664  1.658983e+12   \n",
      "98259  1552511291675140097  1552511291675140097  1.658983e+12   \n",
      "\n",
      "                      date timezone place  \\\n",
      "0      2022-08-07 05:08:59    +0900         \n",
      "1      2022-08-07 05:08:52    +0900         \n",
      "2      2022-08-07 05:08:32    +0900         \n",
      "3      2022-08-07 05:08:31    +0900         \n",
      "4      2022-08-07 05:07:36    +0900         \n",
      "...                    ...      ...   ...   \n",
      "98255  2022-07-28 13:29:35    +0900         \n",
      "98256  2022-07-28 13:29:02    +0900         \n",
      "98257  2022-07-28 13:28:57    +0900         \n",
      "98258  2022-07-28 13:28:47    +0900         \n",
      "98259  2022-07-28 13:28:30    +0900         \n",
      "\n",
      "                                                   tweet language hashtags  \\\n",
      "0      아시발 진짜 평생 면상 안보고싶은데 굳이 기어와서 개귀찮게 지랄할거 생각하니깐 슬픔...       ko       []   \n",
      "1      높은 자리가 성좌라면 그 발치를 맴도는 이는 어느 위치일까. 사랑의 무게를 저울로 ...       ko       []   \n",
      "2      질질 흐르는 ㄱ멍보면서 차이사랑 차사장이  남자한테 박히는게 최적화되버렸다, 우리들...       ko       []   \n",
      "3      사뭇 진지한 얼굴이었지만 여전히 장난스러운 얼굴울 했다. 과장된 진지한 표정으로 턱...       ko       []   \n",
      "4           아, 내일부터 전 혼자가 되겠군요. ... 이렇게 많은 사람들과 절연해야한다니.       ko       []   \n",
      "...                                                  ...      ...      ...   \n",
      "98255  @J1_H2sss 아진짜개웃긴다저숨막혀요진짜 아 아ㅜㅜㅜㅜㅜㅜㅠㅜㅜㅜㅜㅜㅜㅜㅜㅜㅜㅜ...       ko       []   \n",
      "98256  남겨놓은 글을 지우고, 사진을 전부 버린다해도 결국 마음에 남는다. 이 마음마저 깨...       ko       []   \n",
      "98257            그거 너무 슬퍼... 저 아이의 슬픔은 어디에서 오는가.........       ko       []   \n",
      "98258                             9화 고래 연출 미쳤다…… 경이로울 지경       ko       []   \n",
      "98259  학원 늦었는데 숙제도 안 했는데 일단 약 먹어야한다는 게 너무 슬픔 레전드맛없음 비...       ko       []   \n",
      "\n",
      "      cashtags  ...  geo source user_rt_id user_rt  retweet_id  \\\n",
      "0           []  ...                                              \n",
      "1           []  ...                                              \n",
      "2           []  ...                                              \n",
      "3           []  ...                                              \n",
      "4           []  ...                                              \n",
      "...        ...  ...  ...    ...        ...     ...         ...   \n",
      "98255       []  ...                                              \n",
      "98256       []  ...                                              \n",
      "98257       []  ...                                              \n",
      "98258       []  ...                                              \n",
      "98259       []  ...                                              \n",
      "\n",
      "                                                reply_to retweet_date  \\\n",
      "0                                                     []                \n",
      "1                                                     []                \n",
      "2                                                     []                \n",
      "3                                                     []                \n",
      "4                                                     []                \n",
      "...                                                  ...          ...   \n",
      "98255  [{'screen_name': 'J1_H2sss', 'name': '좌청룡', 'i...                \n",
      "98256                                                 []                \n",
      "98257                                                 []                \n",
      "98258                                                 []                \n",
      "98259                                                 []                \n",
      "\n",
      "      translate trans_src  trans_dest  \n",
      "0                                      \n",
      "1                                      \n",
      "2                                      \n",
      "3                                      \n",
      "4                                      \n",
      "...         ...       ...         ...  \n",
      "98255                                  \n",
      "98256                                  \n",
      "98257                                  \n",
      "98258                                  \n",
      "98259                                  \n",
      "\n",
      "[98260 rows x 38 columns]\n"
     ]
    }
   ],
   "source": [
    "print(Tweets_df3)"
   ]
  },
  {
   "cell_type": "code",
   "execution_count": 121,
   "id": "19dcb692",
   "metadata": {},
   "outputs": [],
   "source": [
    "Tweets_df3.to_csv('./data_sad.csv', index=False, encoding=\"utf-8-sig\")"
   ]
  },
  {
   "cell_type": "code",
   "execution_count": 122,
   "id": "92926762",
   "metadata": {},
   "outputs": [
    {
     "data": {
      "text/plain": [
       "(92767, 98260)"
      ]
     },
     "execution_count": 122,
     "metadata": {},
     "output_type": "execute_result"
    }
   ],
   "source": [
    "Tweets_df3['tweet'].nunique(), Tweets_df3['id'].nunique()"
   ]
  },
  {
   "cell_type": "code",
   "execution_count": 123,
   "id": "1124efa4",
   "metadata": {},
   "outputs": [],
   "source": [
    "Tweets_df3.drop_duplicates(subset=['tweet'], inplace=True)"
   ]
  },
  {
   "cell_type": "code",
   "execution_count": 124,
   "id": "a89e6fd4",
   "metadata": {},
   "outputs": [
    {
     "name": "stdout",
     "output_type": "stream",
     "text": [
      "총 샘플의 수 : 92767\n"
     ]
    }
   ],
   "source": [
    "print('총 샘플의 수 :',len(Tweets_df3))"
   ]
  },
  {
   "cell_type": "code",
   "execution_count": 125,
   "id": "0edbd541",
   "metadata": {},
   "outputs": [
    {
     "name": "stderr",
     "output_type": "stream",
     "text": [
      "C:\\Users\\comet\\AppData\\Local\\Temp\\ipykernel_1516\\2164212534.py:1: FutureWarning: The default value of regex will change from True to False in a future version.\n",
      "  Tweets_df3['tweet'] = Tweets_df3['tweet'].str.replace(\"[^ㄱ-ㅎㅏ-ㅣ가-힣 ]\",\"\")\n"
     ]
    },
    {
     "data": {
      "text/plain": [
       "0    아시발 진짜 평생 면상 안보고싶은데 굳이 기어와서 개귀찮게 지랄할거 생각하니깐 슬픔...\n",
       "1    높은 자리가 성좌라면 그 발치를 맴도는 이는 어느 위치일까 사랑의 무게를 저울로 잰...\n",
       "2    질질 흐르는 ㄱ멍보면서 차이사랑 차사장이  남자한테 박히는게 최적화되버렸다 우리들없...\n",
       "3    사뭇 진지한 얼굴이었지만 여전히 장난스러운 얼굴울 했다 과장된 진지한 표정으로 턱을...\n",
       "4               아 내일부터 전 혼자가 되겠군요  이렇게 많은 사람들과 절연해야한다니\n",
       "Name: tweet, dtype: object"
      ]
     },
     "execution_count": 125,
     "metadata": {},
     "output_type": "execute_result"
    }
   ],
   "source": [
    "Tweets_df3['tweet'] = Tweets_df3['tweet'].str.replace(\"[^ㄱ-ㅎㅏ-ㅣ가-힣 ]\",\"\")\n",
    "Tweets_df3[:5]['tweet']"
   ]
  },
  {
   "cell_type": "code",
   "execution_count": 126,
   "id": "5f0d8e32",
   "metadata": {},
   "outputs": [
    {
     "name": "stderr",
     "output_type": "stream",
     "text": [
      "C:\\Users\\comet\\AppData\\Local\\Temp\\ipykernel_1516\\384159139.py:1: FutureWarning: The default value of regex will change from True to False in a future version.\n",
      "  Tweets_df3['tweet'] = Tweets_df3['tweet'].str.replace('^ +', \"\")\n"
     ]
    }
   ],
   "source": [
    "Tweets_df3['tweet'] = Tweets_df3['tweet'].str.replace('^ +', \"\")"
   ]
  },
  {
   "cell_type": "code",
   "execution_count": 127,
   "id": "4af6b636",
   "metadata": {},
   "outputs": [
    {
     "name": "stdout",
     "output_type": "stream",
     "text": [
      "270\n"
     ]
    }
   ],
   "source": [
    "Tweets_df3['tweet'].replace('', np.nan, inplace=True)\n",
    "print(Tweets_df3['tweet'].isnull().sum())"
   ]
  },
  {
   "cell_type": "code",
   "execution_count": 128,
   "id": "bccf0b81",
   "metadata": {},
   "outputs": [],
   "source": [
    "Tweets_df3 = Tweets_df3.dropna(how='any')"
   ]
  },
  {
   "cell_type": "code",
   "execution_count": 129,
   "id": "0b0dbff7",
   "metadata": {},
   "outputs": [
    {
     "name": "stdout",
     "output_type": "stream",
     "text": [
      "92497\n"
     ]
    }
   ],
   "source": [
    "print(len(Tweets_df3))"
   ]
  },
  {
   "cell_type": "code",
   "execution_count": 130,
   "id": "9ae9b10a",
   "metadata": {},
   "outputs": [
    {
     "data": {
      "text/plain": [
       "0    아시발 진짜 평생 면상 안보고싶은데 굳이 기어와서 개귀찮게 지랄할거 생각하니깐 슬픔...\n",
       "1    높은 자리가 성좌라면 그 발치를 맴도는 이는 어느 위치일까 사랑의 무게를 저울로 잰...\n",
       "2    질질 흐르는 ㄱ멍보면서 차이사랑 차사장이  남자한테 박히는게 최적화되버렸다 우리들없...\n",
       "3    사뭇 진지한 얼굴이었지만 여전히 장난스러운 얼굴울 했다 과장된 진지한 표정으로 턱을...\n",
       "4               아 내일부터 전 혼자가 되겠군요  이렇게 많은 사람들과 절연해야한다니\n",
       "5    흐아아앙 아방수처럼울기 흐아아앙 애들살려줘 행복하게지내게해줘 딴거다필요없고 건강행복...\n",
       "6    스테인드글라스 의왕시 울히르사랑해 해찌추천템 주례없는결혼식 사진찍는게취미 서울나들이...\n",
       "7    커뮤 얘기하니까 커뮤도 끌리지만 기력이 안됨 이제 모두와 대화하는 것자체를 못하겟음...\n",
       "8    또 무슨 말을 해야 하더라 이매라는 필명은 자조하듯 지은 필명입니다 또 다른 외부요...\n",
       "9                                    진짜 너무 좋아 광광광 울고싶다\n",
       "Name: tweet, dtype: object"
      ]
     },
     "execution_count": 130,
     "metadata": {},
     "output_type": "execute_result"
    }
   ],
   "source": [
    "Tweets_df3[:10]['tweet']"
   ]
  },
  {
   "cell_type": "code",
   "execution_count": 131,
   "id": "eafe9fc0",
   "metadata": {},
   "outputs": [],
   "source": [
    "comment_words = ''\n",
    "stopwords = set(STOPWORDS)"
   ]
  },
  {
   "cell_type": "code",
   "execution_count": 132,
   "id": "3c47d7b6",
   "metadata": {},
   "outputs": [],
   "source": [
    "token_count3 =dict()"
   ]
  },
  {
   "cell_type": "code",
   "execution_count": 133,
   "id": "e0033fb7",
   "metadata": {},
   "outputs": [],
   "source": [
    "for val in Tweets_df3[\"tweet\"]:\n",
    "\n",
    "  # 문장을 string으로 만들기\n",
    "  val = str(val)\n",
    "\n",
    "  # 문장을 쪼개기\n",
    "  tokens = val.split()\n",
    "  for i in range(len(tokens)):\n",
    "    if tokens[i] in token_count3.keys():\n",
    "      token_count3[tokens[i]] +=1\n",
    "    else:\n",
    "      token_count3[tokens[i]] = 1\n",
    "  #tokenized_text.append(tokens)"
   ]
  },
  {
   "cell_type": "code",
   "execution_count": 134,
   "id": "fca74737",
   "metadata": {},
   "outputs": [],
   "source": [
    "token_cnt_li3 = list(token_count3.items())"
   ]
  },
  {
   "cell_type": "code",
   "execution_count": 135,
   "id": "7303bd47",
   "metadata": {},
   "outputs": [],
   "source": [
    "token_cnt_li3.sort(key=lambda x:x[1], reverse=True)"
   ]
  },
  {
   "cell_type": "code",
   "execution_count": 136,
   "id": "b8aea849",
   "metadata": {},
   "outputs": [
    {
     "name": "stdout",
     "output_type": "stream",
     "text": [
      "[('다', 13081), ('울', 12080), ('너무', 11143), ('진짜', 9504), ('슬픔', 8012), ('그', 6199), ('것', 6001), ('수', 5686), ('내가', 5335), ('더', 5178), ('안', 5100), ('거', 5003), ('나', 4973), ('울고', 4713), ('근데', 4514), ('이', 4277), ('잘', 4214), ('내', 3870), ('그냥', 3749), ('아', 3684), ('좀', 3603), ('하고', 3524), ('애도', 3371), ('또', 3043), ('왜', 2971), ('한', 2937), ('나는', 2861), ('있는', 2858), ('보고', 2628), ('때', 2568), ('난', 2541), ('게', 2515), ('하는', 2492), ('오늘', 2491), ('저', 2473), ('넘', 2382), ('많이', 2346), ('지금', 2316), ('정말', 2303), ('이렇게', 2287), ('우리', 2251), ('아니', 2184), ('다들', 2160), ('못', 2141), ('그리고', 2119), ('같이', 2114), ('그런', 2072), ('하', 2058), ('이제', 2046), ('울고싶다', 1958), ('할', 1958), ('슬픔을', 1907), ('같은', 1887), ('건', 1859), ('다시', 1858), ('이런', 1844), ('그렇게', 1783), ('없는', 1754), ('ㅋ', 1745), ('나도', 1671), ('ㅠㅠ', 1631), ('그래도', 1573), ('걍', 1566), ('계속', 1509), ('네', 1494), ('그래서', 1486), ('제가', 1447), ('다른', 1437), ('ㅠ', 1414), ('하지만', 1412), ('것도', 1379), ('울지', 1360), ('제', 1348), ('걸', 1308), ('사람이', 1287), ('어떻게', 1272), ('뭐', 1264), ('좋겠다', 1262), ('이거', 1258), ('슬픔이', 1239), ('듯', 1229), ('말', 1215), ('사실', 1211), ('보면', 1199), ('혼자', 1178), ('갑자기', 1174), ('꼭', 1136), ('하면', 1135), ('사람', 1132), ('날', 1126), ('같아요', 1115), ('그럼', 1073), ('눈물', 1055), ('ㅋㅋ', 1053), ('좋은', 1049), ('아니고', 1030), ('저는', 1021), ('네가', 1018), ('모든', 1014), ('너', 1004)]\n"
     ]
    }
   ],
   "source": [
    "print(token_cnt_li3[:100])"
   ]
  },
  {
   "cell_type": "code",
   "execution_count": 137,
   "id": "cd7bde6a",
   "metadata": {},
   "outputs": [],
   "source": [
    "sad_word = []"
   ]
  },
  {
   "cell_type": "code",
   "execution_count": 138,
   "id": "43255c4c",
   "metadata": {},
   "outputs": [],
   "source": [
    "for i in range(100):\n",
    "    sad_word.append(token_cnt_li3[i][0])"
   ]
  },
  {
   "cell_type": "code",
   "execution_count": 139,
   "id": "16aa2409",
   "metadata": {},
   "outputs": [
    {
     "name": "stdout",
     "output_type": "stream",
     "text": [
      "['다', '울', '너무', '진짜', '슬픔', '그', '것', '수', '내가', '더', '안', '거', '나', '울고', '근데', '이', '잘', '내', '그냥', '아', '좀', '하고', '애도', '또', '왜', '한', '나는', '있는', '보고', '때', '난', '게', '하는', '오늘', '저', '넘', '많이', '지금', '정말', '이렇게', '우리', '아니', '다들', '못', '그리고', '같이', '그런', '하', '이제', '울고싶다', '할', '슬픔을', '같은', '건', '다시', '이런', '그렇게', '없는', 'ㅋ', '나도', 'ㅠㅠ', '그래도', '걍', '계속', '네', '그래서', '제가', '다른', 'ㅠ', '하지만', '것도', '울지', '제', '걸', '사람이', '어떻게', '뭐', '좋겠다', '이거', '슬픔이', '듯', '말', '사실', '보면', '혼자', '갑자기', '꼭', '하면', '사람', '날', '같아요', '그럼', '눈물', 'ㅋㅋ', '좋은', '아니고', '저는', '네가', '모든', '너']\n"
     ]
    }
   ],
   "source": [
    "print(sad_word)"
   ]
  },
  {
   "cell_type": "code",
   "execution_count": 140,
   "id": "4a68af11",
   "metadata": {},
   "outputs": [
    {
     "name": "stdout",
     "output_type": "stream",
     "text": [
      "[!] No more data! Scraping will stop now.\n",
      "found 0 deleted tweets in this search.\n"
     ]
    }
   ],
   "source": [
    "nest_asyncio.apply()\n",
    "c = twint.Config()\n",
    "c.Search = \"역겹다 OR 흉측 OR 징그럽다 OR 구역질 OR 더럽다\"\n",
    "c.Limit = 100000\n",
    "c.Pandas = True\n",
    "c.Hide_output= True\n",
    "twint.run.Search(c)\n",
    "Tweets_df4 = twint.storage.panda.Tweets_df"
   ]
  },
  {
   "cell_type": "code",
   "execution_count": 141,
   "id": "feeb98a0",
   "metadata": {},
   "outputs": [
    {
     "name": "stdout",
     "output_type": "stream",
     "text": [
      "                       id      conversation_id    created_at  \\\n",
      "0     1556024224070139904  1556024224070139904  1.659820e+12   \n",
      "1     1556024051684229122  1556024051684229122  1.659820e+12   \n",
      "2     1556020008869711873  1556013391772536832  1.659819e+12   \n",
      "3     1556019720301600768  1556019720301600768  1.659819e+12   \n",
      "4     1556019703037931521  1556019703037931521  1.659819e+12   \n",
      "...                   ...                  ...           ...   \n",
      "8342  1552496162027950080  1552496162027950080  1.658979e+12   \n",
      "8343  1552494446834761728  1552494446834761728  1.658978e+12   \n",
      "8344  1552493628865400832  1552493628865400832  1.658978e+12   \n",
      "8345  1552493547831508994  1552493547831508994  1.658978e+12   \n",
      "8346  1552493488637235200  1549597980881473536  1.658978e+12   \n",
      "\n",
      "                     date timezone place  \\\n",
      "0     2022-08-07 06:07:39    +0900         \n",
      "1     2022-08-07 06:06:58    +0900         \n",
      "2     2022-08-07 05:50:54    +0900         \n",
      "3     2022-08-07 05:49:45    +0900         \n",
      "4     2022-08-07 05:49:41    +0900         \n",
      "...                   ...      ...   ...   \n",
      "8342  2022-07-28 12:28:23    +0900         \n",
      "8343  2022-07-28 12:21:34    +0900         \n",
      "8344  2022-07-28 12:18:19    +0900         \n",
      "8345  2022-07-28 12:18:00    +0900         \n",
      "8346  2022-07-28 12:17:46    +0900         \n",
      "\n",
      "                                                  tweet language    hashtags  \\\n",
      "0     대부분 사람들은 나에게 소리를 지르거나 막대기를 휘두르거나 한다. 나는 더럽기 때문...       ko  [my_heart]   \n",
      "1     귀관이 구역질로 중대가를 연주할 실력이 된다면 모를까, 그렇지 않은 바에야 작업 방해다.       ko          []   \n",
      "2     @mmmilk0729 아ㅠ ㅠ ㅠ ㅋㅋㅌㅋㅋㅋㅋㅋㅋㅋㅋㅋㅋ 은하 그냥 눈치껏 그랬나...       ko          []   \n",
      "3     형이랑 이러는 것도 이제 구역질나서 못해먹겠다 우리 그냥 각자 갈길 가요 다이아 반...       ko          []   \n",
      "4     오늘 일반 돌리는데 상대팀 자꾸 저지 들고 게임 더럽게 하길래 우리팀은 오딘 들고 ...       ko          []   \n",
      "...                                                 ...      ...         ...   \n",
      "8342  내자리만 엉망진창 존나더럽내 그치만 다 필요한것들이라 정리할려면 며칠은 걸리고 파ㅡ...       ko          []   \n",
      "8343  불꽃처럼 타오르는 청춘🎶  넌나의 실험대상~난너의 창조주~  이그림이~~날대신해~~...       ko          []   \n",
      "8344  페북 진짜 역겹고 싫음.. 지들 멋대로 다 불펌해가고 지글이 마냥 다 찾은 거 처럼...       ko          []   \n",
      "8345  아까부터 징그럽다 했는데 이게 무슨..! 이렇게 생각하고 왜..왜 이러는 거야 해리...       ko          []   \n",
      "8346  @99sang_ar 에~ 마지? 그 더러운걸 귀엽게 보셨다구요? 저는요.. 정말 너...       ko          []   \n",
      "\n",
      "     cashtags  ...  geo source user_rt_id user_rt  retweet_id  \\\n",
      "0          []  ...                                              \n",
      "1          []  ...                                              \n",
      "2          []  ...                                              \n",
      "3          []  ...                                              \n",
      "4          []  ...                                              \n",
      "...       ...  ...  ...    ...        ...     ...         ...   \n",
      "8342       []  ...                                              \n",
      "8343       []  ...                                              \n",
      "8344       []  ...                                              \n",
      "8345       []  ...                                              \n",
      "8346       []  ...                                              \n",
      "\n",
      "                                               reply_to retweet_date  \\\n",
      "0                                                    []                \n",
      "1                                                    []                \n",
      "2     [{'screen_name': 'mmmilk0729', 'name': '♞_。🅣션」...                \n",
      "3                                                    []                \n",
      "4                                                    []                \n",
      "...                                                 ...          ...   \n",
      "8342                                                 []                \n",
      "8343                                                 []                \n",
      "8344                                                 []                \n",
      "8345                                                 []                \n",
      "8346  [{'screen_name': '99sang_ar', 'name': '구구', 'i...                \n",
      "\n",
      "     translate trans_src  trans_dest  \n",
      "0                                     \n",
      "1                                     \n",
      "2                                     \n",
      "3                                     \n",
      "4                                     \n",
      "...        ...       ...         ...  \n",
      "8342                                  \n",
      "8343                                  \n",
      "8344                                  \n",
      "8345                                  \n",
      "8346                                  \n",
      "\n",
      "[8347 rows x 38 columns]\n"
     ]
    }
   ],
   "source": [
    "print(Tweets_df4)"
   ]
  },
  {
   "cell_type": "code",
   "execution_count": 142,
   "id": "215c9899",
   "metadata": {},
   "outputs": [],
   "source": [
    "Tweets_df4.to_csv('./data_aversion.csv', index=False, encoding=\"utf-8-sig\")"
   ]
  },
  {
   "cell_type": "code",
   "execution_count": 143,
   "id": "1aa07b46",
   "metadata": {},
   "outputs": [
    {
     "data": {
      "text/plain": [
       "(7743, 8347)"
      ]
     },
     "execution_count": 143,
     "metadata": {},
     "output_type": "execute_result"
    }
   ],
   "source": [
    "Tweets_df4['tweet'].nunique(), Tweets_df4['id'].nunique()"
   ]
  },
  {
   "cell_type": "code",
   "execution_count": 144,
   "id": "0898d308",
   "metadata": {},
   "outputs": [],
   "source": [
    "Tweets_df4.drop_duplicates(subset=['tweet'], inplace=True)"
   ]
  },
  {
   "cell_type": "code",
   "execution_count": 145,
   "id": "29c55478",
   "metadata": {},
   "outputs": [
    {
     "name": "stdout",
     "output_type": "stream",
     "text": [
      "총 샘플의 수 : 7743\n"
     ]
    }
   ],
   "source": [
    "print('총 샘플의 수 :',len(Tweets_df4))"
   ]
  },
  {
   "cell_type": "code",
   "execution_count": 146,
   "id": "caab7742",
   "metadata": {},
   "outputs": [
    {
     "name": "stderr",
     "output_type": "stream",
     "text": [
      "C:\\Users\\comet\\AppData\\Local\\Temp\\ipykernel_1516\\1997718406.py:1: FutureWarning: The default value of regex will change from True to False in a future version.\n",
      "  Tweets_df4['tweet'] = Tweets_df4['tweet'].str.replace(\"[^ㄱ-ㅎㅏ-ㅣ가-힣 ]\",\"\")\n"
     ]
    },
    {
     "data": {
      "text/plain": [
       "0    대부분 사람들은 나에게 소리를 지르거나 막대기를 휘두르거나 한다 나는 더럽기 때문에...\n",
       "1      귀관이 구역질로 중대가를 연주할 실력이 된다면 모를까 그렇지 않은 바에야 작업 방해다\n",
       "2     아ㅠ ㅠ ㅠ ㅋㅋㅌㅋㅋㅋㅋㅋㅋㅋㅋㅋㅋ 은하 그냥 눈치껏 그랬나 들어오세요 이러고 ...\n",
       "3    형이랑 이러는 것도 이제 구역질나서 못해먹겠다 우리 그냥 각자 갈길 가요 다이아 반...\n",
       "4    오늘 일반 돌리는데 상대팀 자꾸 저지 들고 게임 더럽게 하길래 우리팀은 오딘 들고 ...\n",
       "Name: tweet, dtype: object"
      ]
     },
     "execution_count": 146,
     "metadata": {},
     "output_type": "execute_result"
    }
   ],
   "source": [
    "Tweets_df4['tweet'] = Tweets_df4['tweet'].str.replace(\"[^ㄱ-ㅎㅏ-ㅣ가-힣 ]\",\"\")\n",
    "Tweets_df4[:5]['tweet']"
   ]
  },
  {
   "cell_type": "code",
   "execution_count": 147,
   "id": "306fee0c",
   "metadata": {},
   "outputs": [
    {
     "name": "stderr",
     "output_type": "stream",
     "text": [
      "C:\\Users\\comet\\AppData\\Local\\Temp\\ipykernel_1516\\2539288771.py:1: FutureWarning: The default value of regex will change from True to False in a future version.\n",
      "  Tweets_df4['tweet'] = Tweets_df4['tweet'].str.replace('^ +', \"\")\n"
     ]
    }
   ],
   "source": [
    "Tweets_df4['tweet'] = Tweets_df4['tweet'].str.replace('^ +', \"\")"
   ]
  },
  {
   "cell_type": "code",
   "execution_count": 148,
   "id": "d0d8424f",
   "metadata": {},
   "outputs": [
    {
     "name": "stdout",
     "output_type": "stream",
     "text": [
      "0\n"
     ]
    }
   ],
   "source": [
    "Tweets_df4['tweet'].replace('', np.nan, inplace=True)\n",
    "print(Tweets_df4['tweet'].isnull().sum())"
   ]
  },
  {
   "cell_type": "code",
   "execution_count": 149,
   "id": "bb0200db",
   "metadata": {},
   "outputs": [],
   "source": [
    "comment_words = ''\n",
    "stopwords = set(STOPWORDS)"
   ]
  },
  {
   "cell_type": "code",
   "execution_count": 150,
   "id": "129abbd6",
   "metadata": {},
   "outputs": [],
   "source": [
    "token_count4 =dict()"
   ]
  },
  {
   "cell_type": "code",
   "execution_count": 151,
   "id": "1a89c5b4",
   "metadata": {},
   "outputs": [],
   "source": [
    "for val in Tweets_df4[\"tweet\"]:\n",
    "\n",
    "  # 문장을 string으로 만들기\n",
    "  val = str(val)\n",
    "\n",
    "  # 문장을 쪼개기\n",
    "  tokens = val.split()\n",
    "  for i in range(len(tokens)):\n",
    "    if tokens[i] in token_count4.keys():\n",
    "      token_count4[tokens[i]] +=1\n",
    "    else:\n",
    "      token_count4[tokens[i]] = 1\n",
    "  #tokenized_text.append(tokens)"
   ]
  },
  {
   "cell_type": "code",
   "execution_count": 152,
   "id": "b1f8c503",
   "metadata": {},
   "outputs": [],
   "source": [
    "token_cnt_li4 = list(token_count4.items())"
   ]
  },
  {
   "cell_type": "code",
   "execution_count": 153,
   "id": "437a6dce",
   "metadata": {},
   "outputs": [],
   "source": [
    "token_cnt_li4.sort(key=lambda x:x[1], reverse=True)"
   ]
  },
  {
   "cell_type": "code",
   "execution_count": 154,
   "id": "f238adc4",
   "metadata": {},
   "outputs": [
    {
     "name": "stdout",
     "output_type": "stream",
     "text": [
      "[('더럽게', 1104), ('진짜', 1104), ('다', 947), ('역겹다', 818), ('너무', 693), ('더럽다', 666), ('그', 609), ('안', 541), ('내가', 487), ('이', 414), ('좀', 399), ('내', 383), ('거', 375), ('구역질', 373), ('더럽고', 372), ('그냥', 371), ('수', 366), ('더', 358), ('왜', 342), ('근데', 341), ('아', 336), ('것', 322), ('나', 308), ('징그럽다', 302), ('하고', 295), ('하는', 291), ('나는', 272), ('있는', 254), ('정말', 249), ('잘', 240), ('한', 236), ('이런', 227), ('구역질이', 226), ('난', 222), ('게', 222), ('저', 217), ('그런', 215), ('존나', 206), ('또', 199), ('건', 198), ('아니', 197), ('못', 194), ('할', 192), ('뭐', 185), ('같은', 181), ('그리고', 175), ('그렇게', 174), ('기분', 167), ('네', 162), ('보고', 161), ('말', 161), ('이렇게', 155), ('많이', 155), ('걍', 149), ('없는', 147), ('흉측한', 146), ('제', 146), ('다시', 143), ('하', 141), ('ㅋ', 133), ('너', 132), ('다른', 131), ('계속', 130), ('것도', 129), ('걸', 126), ('다들', 126), ('역겹고', 125), ('지금', 124), ('이제', 123), ('사람', 122), ('때', 121), ('무슨', 121), ('보면', 119), ('어떻게', 119), ('제가', 119), ('참', 119), ('ㅋㅋ', 118), ('징그럽게', 117), ('날', 116), ('그래도', 114), ('오늘', 112), ('이거', 110), ('사람이', 108), ('자기', 108), ('와', 107), ('그래서', 106), ('이게', 106), ('더럽다고', 104), ('하지만', 102), ('그게', 98), ('아니라', 97), ('하나', 96), ('하면서', 95), ('듯', 92), ('나도', 89), ('같이', 89), ('한다', 85), ('손', 85), ('누가', 85), ('좋겠다', 84)]\n"
     ]
    }
   ],
   "source": [
    "print(token_cnt_li4[:100])"
   ]
  },
  {
   "cell_type": "code",
   "execution_count": 168,
   "id": "136d5bc4",
   "metadata": {},
   "outputs": [],
   "source": [
    "aversion_word = []\n",
    "pleasure_word = []\n"
   ]
  },
  {
   "cell_type": "code",
   "execution_count": 169,
   "id": "9bcbd2ce",
   "metadata": {},
   "outputs": [],
   "source": [
    "for i in range(200):\n",
    "    aversion_word.append(token_cnt_li4[i][0])"
   ]
  },
  {
   "cell_type": "code",
   "execution_count": 170,
   "id": "dac369c2",
   "metadata": {},
   "outputs": [
    {
     "name": "stdout",
     "output_type": "stream",
     "text": [
      "['더럽게', '진짜', '다', '역겹다', '너무', '더럽다', '그', '안', '내가', '이', '좀', '내', '거', '구역질', '더럽고', '그냥', '수', '더', '왜', '근데', '아', '것', '나', '징그럽다', '하고', '하는', '나는', '있는', '정말', '잘', '한', '이런', '구역질이', '난', '게', '저', '그런', '존나', '또', '건', '아니', '못', '할', '뭐', '같은', '그리고', '그렇게', '기분', '네', '보고', '말', '이렇게', '많이', '걍', '없는', '흉측한', '제', '다시', '하', 'ㅋ', '너', '다른', '계속', '것도', '걸', '다들', '역겹고', '지금', '이제', '사람', '때', '무슨', '보면', '어떻게', '제가', '참', 'ㅋㅋ', '징그럽게', '날', '그래도', '오늘', '이거', '사람이', '자기', '와', '그래서', '이게', '더럽다고', '하지만', '그게', '아니라', '하나', '하면서', '듯', '나도', '같이', '한다', '손', '누가', '좋겠다', '일', '하면', '줄', '얼마나', '시발', '손을', '말을', '해', '그래', '얼굴', '모든', '제발', '우리', '자꾸', '역시', '더러운', '사실', '씨발', '번', '해도', '저는', '이미', '그거', '전', '징그럽고', '때문에', '그걸', '결국', 'ㅅㅂ', '먹고', '않고', '좋은', '하지', '있는데', '제일', '없다', '진심', '하는데', '둘', '있다', '꼭', '네가', '가장', '보는', '갑자기', '바로', '엄청', '그럼', '난다', '넌', '아주', '전에', '원래', '저런', '함', '개', '지', '것을', '눈', '입', '알고', '이건', '않는', '뭘', '막', 'ㅋㅋㅋ', '기분이', '해서', '구역질을', '나를', '어떤', '사람들', '사람들이', '말고', 'ㅠ', '일단', '아니면', '했는데', '없이', '위해', '야', 'ㅠㅠ', '생각', '두', '않은', '아니고', '없어서', '되는', '그건', '아무리', '것은', '것이', '혼자', '아닌', '뭔가', '약간', '거야', '중', '요즘', '자신의']\n"
     ]
    }
   ],
   "source": [
    "print(aversion_word)"
   ]
  },
  {
   "cell_type": "code",
   "execution_count": 171,
   "id": "4af8d169",
   "metadata": {},
   "outputs": [
    {
     "name": "stdout",
     "output_type": "stream",
     "text": [
      "['웃음', '너무', '행복', '진짜', '그', '수', '행복을', '내', '웃음이', '것', '이', '더', '아', '웃음을', '내가', '다', '거', '나', '잘', '안', '하고', '보고', '오늘', '있는', '그냥', '한', '우리', '근데', '정말', '나는', '행복이', '저', '또', '네', '게', '하는', '좀', '많이', '그런', '지금', '난', '기쁨', '때', '그리고', 'ㅋ', '제', '행복만', '왜', '건', '할', '이런', '넘', '같이', '나의', '이렇게', '좋은', '다시', '하', '아니', '항상', '그렇게', '나도', '같은', '이제', '행복은', '없는', '함께', '제가', '네가', '즐거움', '못', '다른', '보면', '걸', '그래도', '모든', '이거', '계속', '사람', '하지만', '뭐', '신남', '것도', '이게', '하루', '꼭', '오늘도', '날', '해', '그래서', '말', '큰', '걍', '사랑해', '그럼', '행복한', '그게', '늘', 'ㅋㅋ', '사람이', '저는', '너', '생일', '듯', 'ㅠ', '당신의', 'ㅠㅠ', '어떻게', '즐거움을', '위해', '있어', '행복의', '많은', '갑자기', '저도', '너의', '기쁨을', '어떤', '볼', '하면서', '가장', '함박웃음', '일', '좋아', '웃는', '그래', '감사합니다', '눈', '헛웃음', '거야', '무슨', '줄', '중', '있어서', 'ㅋㅋㅋ', '사실', '조금', '말을', '언제나', '좋아하는', '바로', '혼자', '제일', '다들', '아니라', '같아요', '가득한', '역시', '나를', '보는', '있을', '덕분에', '웃음만', '임영웅', '같아', '하나', '고마워', '주는', '것이', '때문에', '있다', '행복해보여서', '전', '것을', '얼굴', '그저', '하면', '엄청', '해도', '없이', '될', '자꾸', '완전', '두', '자기', '아직', '행복과', '모두', '사랑', '이미', '그거', '같아서', '응', '아주', '결국', '번', '막', '보면서', '요즘', '작은', '참', '되는', 'ㅋㅋㅋㅋ', '나옴', '열심히', '것은', '너는', '얼마나', '와', '너무너무']\n"
     ]
    }
   ],
   "source": [
    "for i in range(200):\n",
    "    pleasure_word.append(token_cnt_li[i][0])\n",
    "print(pleasure_word)"
   ]
  },
  {
   "cell_type": "code",
   "execution_count": 172,
   "id": "c89b16e9",
   "metadata": {},
   "outputs": [
    {
     "name": "stdout",
     "output_type": "stream",
     "text": [
      "['다', '울', '너무', '진짜', '슬픔', '그', '것', '수', '내가', '더', '안', '거', '나', '울고', '근데', '이', '잘', '내', '그냥', '아', '좀', '하고', '애도', '또', '왜', '한', '나는', '있는', '보고', '때', '난', '게', '하는', '오늘', '저', '넘', '많이', '지금', '정말', '이렇게', '우리', '아니', '다들', '못', '그리고', '같이', '그런', '하', '이제', '울고싶다', '할', '슬픔을', '같은', '건', '다시', '이런', '그렇게', '없는', 'ㅋ', '나도', 'ㅠㅠ', '그래도', '걍', '계속', '네', '그래서', '제가', '다른', 'ㅠ', '하지만', '것도', '울지', '제', '걸', '사람이', '어떻게', '뭐', '좋겠다', '이거', '슬픔이', '듯', '말', '사실', '보면', '혼자', '갑자기', '꼭', '하면', '사람', '날', '같아요', '그럼', '눈물', 'ㅋㅋ', '좋은', '아니고', '저는', '네가', '모든', '너', '이게', '좋다', '조금', '같아서', '하면서', '울다', '때문에', '그게', '어려울', '얼마나', '엄청', '귀여울', '일', '정도로', '애들', '자기', '무슨', '줄', '하나', '막', '둘', '결국', '있는데', '거야', '해', '전', '함께', '와', '같아', '나를', '이미', '눈', '어떤', '같은데', '했는데', '있을', '그래', '있어', '역시', '제일', '존나', '저도', '보고싶다', '번', '항상', '아직', '바로', '있다', '해서', '완전', '말을', '울다가', '아니라', '귀엽다', '우는', '그거', '뭔가', '해도', '하는데', '없이', '슬픔에', '볼', '가장', '없어서', '같음', 'ㅋㅋㅋ', '제발', '많은', '일단', '있어서', '얼굴', '맨날', '두', '있음', '나의', '있고', '엉엉', '중', '요즘', '보면서', '큰', '수도', '보는', '누가', '것이', '열심히', '알고', '좋아', '그저', '눈물이', '않고', '참', '손', '함', '수가', '될', '자꾸', '않는', '좋아하는', '말고']\n"
     ]
    }
   ],
   "source": [
    "sad_word = []\n",
    "for i in range(200):\n",
    "    sad_word.append(token_cnt_li3[i][0])\n",
    "print(sad_word)"
   ]
  },
  {
   "cell_type": "code",
   "execution_count": 173,
   "id": "d8a61c20",
   "metadata": {},
   "outputs": [
    {
     "name": "stdout",
     "output_type": "stream",
     "text": [
      "['분노', '그', '분노가', '진짜', '이', '분노를', '수', '분노의', '너무', '다', '내가', '왜', '안', '것', '더', '근데', '내', '분노하고', '거', '그냥', '아', '하고', '대한', '나', '한', '하는', '나는', '좀', '있는', '또', '분노와', '분노에', '저', '지금', '그리고', '잘', '보고', '질투하고', '게', '아니', '그런', '때', '할', '분노로', '난', '시기하고', '없는', '이런', '정말', '분노는', '분노한', '분노하는', '같은', '시샘하고', '하', '다른', '오늘', '분개하고', '미워하고', '걍', '다시', '건', '그렇게', '이제', '못', '절망하고', '하지만', '모든', '갑자기', '어떻게', '그래서', '존나', '걸', '이렇게', 'ㅋ', '때문에', '보면', '아니라', '사람', '뭐', '이게', '씹새끼', '아파하고', '것도', '사람이', '이거', '제', '나도', '그게', '계속', '우리', '같이', 'ㅋㅋ', '네', '어떤', '결국', '자기', '많이', '날', '사실', '무슨', '위해', '듯', '나를', '중', '씨발', '못하고', '저는', '제가', '그래도', '하면서', '말', '있다', '분노도', '하면', '너', '있는데', '자신의', '전', '이미', '것을', '않는', '것이', '그럼', '화가', '같음', '나의', '것은', '않고', '다들', '가장', '하나', '그걸', '줄', '알고', '향한', '말을', '시발', '없이', '좋은', '혼자', '진심으로', '일', '네가', '되는', '바로', '없어', '감정을', '아니고', '와', '있음', '분노할', '함', '해', 'ㅋㅋㅋ', '그저', '역시', '하지', '번', '모두', '아닌', '거야', '해서', '아주', '저도', '그래', '슬픔', '슬퍼하고', '많은', '년', '하는데', '이건', '자꾸', '누가', '것에', '감정이', '사람들이', '사람을', '했는데', '개', '된', '일단', '넘', '없음', '돈', '그라데이션', '얼마나', '해도', '없다', '함께', '물론', '눈', '같아요', '일이', '있어', '새끼', '아직', '그거', '제일', '두']\n"
     ]
    }
   ],
   "source": [
    "angry_word = []\n",
    "for i in range(200):\n",
    "    angry_word.append(token_cnt_li2[i][0])\n",
    "print(angry_word)"
   ]
  },
  {
   "cell_type": "code",
   "execution_count": null,
   "id": "eb5d08b3",
   "metadata": {},
   "outputs": [],
   "source": []
  }
 ],
 "metadata": {
  "kernelspec": {
   "display_name": "Python 3 (ipykernel)",
   "language": "python",
   "name": "python3"
  },
  "language_info": {
   "codemirror_mode": {
    "name": "ipython",
    "version": 3
   },
   "file_extension": ".py",
   "mimetype": "text/x-python",
   "name": "python",
   "nbconvert_exporter": "python",
   "pygments_lexer": "ipython3",
   "version": "3.9.12"
  }
 },
 "nbformat": 4,
 "nbformat_minor": 5
}
