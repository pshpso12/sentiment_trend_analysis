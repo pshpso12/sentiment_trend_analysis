{
 "cells": [
  {
   "cell_type": "code",
   "execution_count": 1,
   "id": "8c481bb2",
   "metadata": {},
   "outputs": [],
   "source": [
    "from wordcloud import WordCloud, STOPWORDS \n",
    "import matplotlib.pyplot as plt \n",
    "from matplotlib import rc\n",
    "import pandas as pd \n",
    "import urllib.request\n",
    "import numpy as np"
   ]
  },
  {
   "cell_type": "code",
   "execution_count": 4,
   "id": "944ccb84",
   "metadata": {},
   "outputs": [],
   "source": [
    "AA = pd.read_csv(\"./dAAb_JP.csv\")\n",
    "BB = pd.read_csv(\"./dBBb_JP.csv\")\n",
    "CC = pd.read_csv(\"./dCCb_JP.csv\")\n",
    "DD = pd.read_csv(\"./dDDb_JP.csv\")"
   ]
  },
  {
   "cell_type": "code",
   "execution_count": 7,
   "id": "c610625a",
   "metadata": {},
   "outputs": [
    {
     "name": "stdout",
     "output_type": "stream",
     "text": [
      "                                                 tweet  label1  label2  \\\n",
      "0              舐められたいし舐めたいえロい動画だーいしゅき大人の関係募集中プロフィールみてね     0.0     0.0   \n",
      "1                           気軽に絡んで友達少ないから仲良くしてくれたら嬉しいな     1.0     0.0   \n",
      "2                                 ねこくわがた画伯のをコエラレルキガシナイ     0.0     0.0   \n",
      "3                                               女子陸上エロ     0.0     0.0   \n",
      "4      うさん臭い奴で俺のようにど助平で短気ではっきり出している方が住み心地がいいし生き甲斐もあるしな     0.0     0.0   \n",
      "...                                                ...     ...     ...   \n",
      "88525                                               臭い     0.0     0.0   \n",
      "88526            めっちゃギリギリ電車乗れたんだけど汗やばいから絶対余計に臭いから地獄すぎる     0.0     0.0   \n",
      "88527                      よくこんな臭いのにねれるよなぁ笑蚊取り線香やめて欲しい     0.0     0.0   \n",
      "88528                                  弟臭がする後で叱っとかにゃいと     0.0     0.0   \n",
      "88529      世間にはその足の臭い特に女子学生の靴や若いおねぇさんが履くブーツへのフェチがあってだな     0.0     0.0   \n",
      "\n",
      "       label3  new_label1  new_label2  new_label3  \n",
      "0         0.0         0.0         0.0         0.0  \n",
      "1         0.0         1.0         0.0         0.0  \n",
      "2         0.0         0.0         0.0         0.0  \n",
      "3         0.0         0.0         0.0         0.0  \n",
      "4         1.0         0.0         0.0         2.0  \n",
      "...       ...         ...         ...         ...  \n",
      "88525     1.0         0.0         0.0         2.0  \n",
      "88526     3.0         0.0         1.0         4.0  \n",
      "88527     1.0         0.0         0.0         2.0  \n",
      "88528     1.0         0.0         0.0         1.0  \n",
      "88529     2.0         0.0         0.0         3.0  \n",
      "\n",
      "[88530 rows x 7 columns]\n"
     ]
    }
   ],
   "source": [
    "print(DD)"
   ]
  },
  {
   "cell_type": "code",
   "execution_count": 8,
   "id": "22d56ee1",
   "metadata": {},
   "outputs": [],
   "source": [
    "AA1 = []\n",
    "AA2 = []\n",
    "AA3 = []\n",
    "AA4 = []\n",
    "for i in range(len(AA)):\n",
    "    if AA['new_label1'][i] == AA['new_label2'][i] == AA['new_label3'][i]:\n",
    "        AA4.append([AA['tweet'][i],0])\n",
    "    elif AA['new_label1'][i] > AA['new_label2'][i] + AA['new_label3'][i]:\n",
    "        AA1.append([AA['tweet'][i],1])\n",
    "    elif AA['new_label2'][i] > AA['new_label1'][i] + AA['new_label3'][i]:\n",
    "        AA2.append([AA['tweet'][i],2])\n",
    "    elif AA['new_label3'][i] > AA['new_label1'][i] + AA['new_label2'][i]:\n",
    "        AA3.append([AA['tweet'][i],3])"
   ]
  },
  {
   "cell_type": "code",
   "execution_count": 11,
   "id": "6171cbcb",
   "metadata": {},
   "outputs": [
    {
     "name": "stdout",
     "output_type": "stream",
     "text": [
      "[['大丈夫誰も来ないでひっそりと終わるから', 3], ['立海と青学氷帝ならジャージユニ完備です頭はジャッカルと手塚と忍足宍戸があって海堂追加で用意したいなって感じでして遊んでいただけるキャラあれば何卒', 3], ['頼むから前の席の小澤さんの髪筆箱に挟まないでその時は楽しいかもしれないけど年後の小澤さんの結婚式のスピーチの文で公開処刑食らうから', 3], ['特にどんどんみんな余裕がなくなってきてるからねえ自分が苦しい時に他人の楽しい姿を見たら嫉ましくなるのも当然だから普段から他人と比べる事をしちゃだめよね', 3], ['風呂入ると楽しいのに風呂入るかって気持ちになるまでの時間と服脱ぐまでの過程が異様にめんどくさく感じるどうして', 3], ['大阪王将肉餃子個入合計個たれ袋付冷凍食品ぎょうざ冷凍食品をチェック出来ます', 3], ['コールマンテントクロスドームグリーン人用おすすめ', 3], ['グラブルコスするレイヤーさんの造形見るの大好きなんだよなグラブルに限らずゲーム系のコスは既製品に頼らず自前のつよつよ技術力でぶん殴ってくる人たち多いから見るの楽しい', 3], ['パソコンカテゴリー人気な商品はこれパーソナルホワイトいつでもどこでも最上のエンターテインメントを', 3], ['おやすみなさいです', 3], ['後ハメ加工と表面処理してた前髪はちょっとはめ込みキツくて不安があったので調整もせんとね手間かかって楽しいわ', 3], ['仕事が楽しいから恋人なんていなくても大丈夫と強がる女性ほど実は弱虫で甘えん坊の傾向心の奥では誰か頼りがいがある男性に支えて欲しいと願っている', 3], ['サシで時間りんあらんの話して時間足りねーなと解散するのでオタクは楽しいしアイドルは尊い', 3], ['適当に虫で遊んでたらつレベル下がった臭い', 3], ['パソコンカテゴリー人気商品デスクトップパソコン一推し環境に配慮した整備済み品オフィスも搭載されてます', 3], ['アイリスオーヤマ電気圧力鍋父の日ギフトプレゼント圧力鍋人用低温調理可能卓上鍋予約機能付き自動メニュー種類ガラス蓋付きレシピブック付き大人気', 3], ['テスト段階なので皆様に遊んでいただける形にするにはまだ時間がかかりそうです笑ウディタでもこういうことできるんだなっていう自己理解は深まったように思います', 3], ['健康食品おすすめ味の素クノールスープバラエティボックス袋入スープに最適な品質の野菜やミルクなどをふんだんに使ったなめらかでコクのある良質なスープです', 3], ['スーパーでの買い物が楽しくなる食品添加物の超簡単な見分け方', 3], ['サーキュレーターモーター度回転首振り段階風量畳リモコンタイマー付静音真上送風機扇風機認証済みブラックコレは欲しくなる', 3], ['部屋着くの時過ぎ笑笑大丈夫楽しいよ', 3], ['親友夫婦さんと楽しい一時だったんですね沖縄料理美味しそう', 3], ['ジューシー鶏の唐揚げメガ盛り冷凍食品をチェック出来ます', 3], ['パソコンカテゴリーこれで決まりデスクトップパソコン一推しノートパソコン環境に配慮した整備済み品オフィスも搭載されてます', 3], ['俺がよく圧圧言ってフォロワさんに変なイメージ植えつけちゃうといけないので補足しときますが大槻りこさんは話しててホント楽しいですこれは自信を持ってお薦めできるいつでも全力過剰すぎるくらい全力できてくれるそれが嬉しい圧って別に怒られる事じゃなくてそういう意味での圧です', 3], ['こういうキショキショ部分が生理的に無理なんだよななんで端末使ってるんですか', 3], ['サーキュレーターモーター度回転首振り段階風量畳リモコンタイマー付静音真上送風機扇風機認証済みブラックコレは気になる', 3], ['スカイツリーみたいな高層建築物の上層階から冷えた空気を地表に吸引して周囲を冷やすとかそういう構造物を妄想するのがことのほか楽しい関係のネタとしてもおいしい', 3], ['わあああ理佐ちゃんオタク楽しいいい理佐ちゃん表紙おめでとう', 3], ['お誘い頂いてフォトナ待機島でエモートしてたら間に入ってきた笑そこに立たないでー笑待機島やっぱり楽しいなぁ艸クリエで出会った不思議な生物がかわいかったイソギンチャクなのかな貝の中にいる子がお気に入り', 3], ['パナソニックヘアーアイロンストレート用ナノケア海外対応黒イチオシ', 3], ['パソコンカテゴリーこれで決まりデスクトップパソコン一推し環境に配慮した整備済み品オフィスも搭載されてます', 3], ['ばんろび広場赤ゾロ使用赤緑ロー赤ゾロ緑キッド使用紫カイドウ緑おでん使用青紫クロコダイル赤ゾロ赤ゾロ使用青ドフラミンゴ今日はたくさん出来た楽しかったおでんが勝てん', 3], ['パソコンカテゴリー人気商品ノートパソコンインチ低消費電力高性能優れた日常作業効率を提供', 3], ['寝室に旦那さんの夢に出たらになっちゃうこれでしたかオタク楽しいですね見てるだけで元気でます', 3], ['アンジュと一緒に見れて楽しかったあらすじと場面カットだけ見たら不気味でホラーかと思ってたけどだんだん登場人物みんなが愛らしく感じてくるから不思議スリルとハートフルで一杯の物語でしたゆっくり寝てねおやすみなさい賢者の時間', 3], ['源泉掛け流しの美人湯美人になったら山海の幸満載の豊後自慢料理を思う存分堪能贅沢なひと時癒しの郷', 3], ['ただいま帰宅途中今日は洗濯機がご機嫌斜めだったり杏仁豆腐行方不明だったりしたものの笑お客様との時間でそんなのもろもろ吹っ飛んで今日も楽しい一日でした抗原キットありがとうございます黒澤の健康まで気を遣ってくれて感謝ですではおやすみ', 3], ['健康食品売れ筋カゴメ野菜と豆の具だくさんポタージュスープレトルト食品野菜スープ袋じっくり時間をかけて豆や野菜を煮込み素材の豊かな風味と柔らかい歯ごたえを追及', 3], ['旦那が帰ってきた瞬間即やる一緒にやって汗かけば強制的にお風呂入るしね最近は旦那がなんでもフィットボクシングやってからにするって言うようになった一緒にやるから頑張れるだから楽しい仲間がいるって素晴らしいフィットボクシング', 3], ['健康食品おすすめカゴメ野菜生活グリーンスムージーゴールド食物繊維がしっかり摂れる自然な甘さと飲みごたえのベジタブルスムージーです', 3], ['パソコンカテゴリー人気な商品はこれミニストレージを簡単に拡張ディユアルディスプレイ出力にも対応', 3], ['まりぽち投票所ミスキャンパス同志社エントリー野口満理奈インスタライブ楽しかったで推しのいない方はまりなちゃんに清き票をよろしくお願いします投票はこちら野口満理奈ミスキャンパス同志社まりぽち', 3], ['ポータブル電源ポータブルバッテリー大容量出力瞬間最大機能パススルー機能付き高速充電時間家庭用蓄電池停電対応旅行車中泊アウトドアキャンプこれは買いたい', 3], ['おやすみなさい', 3], ['今日はトラフグの写真を上げて寝るおやすみ', 3], ['パナソニックメンズシェーバーラムダッシュ枚刃お風呂剃り可黒いちおし', 3], ['全室離れでプライベート空間を満喫源泉掛け流しの露天風呂は美人湯と謳われる上質な温泉なんですぶぶ庵', 3], ['これは俺の頭の構造上の問題なんだろうけど作品や文章を解釈するのに複数回じっくり読まないと文字に起こせないなんとなく理解してるだけで終わってしまう反復するうちに漠然と理解していることの輪郭が次第にくっきりしてその先に進んでいく段階が番楽しい', 3], ['健康食品オススメ鉄プラスコラーゲンウエハース枚ココアたっぷりサクッと香ばしい健康サポートウエハースです', 3]]\n"
     ]
    }
   ],
   "source": [
    "print(AA3[50:100])"
   ]
  },
  {
   "cell_type": "code",
   "execution_count": 12,
   "id": "d0ad5ed2",
   "metadata": {},
   "outputs": [],
   "source": [
    "APA0 = pd.DataFrame(AA1,columns=['tweet','label'])\n",
    "APA1 = pd.DataFrame(AA2,columns=['tweet','label'])\n",
    "APA2 = pd.DataFrame(AA3,columns=['tweet','label'])\n",
    "APA3 = pd.DataFrame(AA4,columns=['tweet','label'])\n",
    "APA = pd.concat([APA0,APA1,APA2,APA3])"
   ]
  },
  {
   "cell_type": "code",
   "execution_count": 13,
   "id": "f6b9e4a0",
   "metadata": {},
   "outputs": [],
   "source": [
    "APA.to_csv('./APA_JP.csv', index=False, encoding=\"utf-8-sig\")"
   ]
  },
  {
   "cell_type": "code",
   "execution_count": 14,
   "id": "ea4f5bc7",
   "metadata": {},
   "outputs": [],
   "source": [
    "BB1 = []\n",
    "BB2 = []\n",
    "BB3 = []\n",
    "BB4 = []\n",
    "for i in range(len(BB)):\n",
    "    if BB['new_label1'][i] == BB['new_label2'][i] == BB['new_label3'][i]:\n",
    "        BB4.append([BB['tweet'][i],0])\n",
    "    elif BB['new_label1'][i] > BB['new_label2'][i] + BB['new_label3'][i]:\n",
    "        BB1.append([BB['tweet'][i],1])\n",
    "    elif BB['new_label2'][i] > BB['new_label1'][i] + BB['new_label3'][i]:\n",
    "        BB2.append([BB['tweet'][i],2])\n",
    "    elif BB['new_label3'][i] > BB['new_label1'][i] + BB['new_label2'][i]:\n",
    "        BB3.append([BB['tweet'][i],3])"
   ]
  },
  {
   "cell_type": "code",
   "execution_count": 16,
   "id": "d23d9500",
   "metadata": {},
   "outputs": [
    {
     "name": "stdout",
     "output_type": "stream",
     "text": [
      "[['蒼白お兄さんが蒼白回ってて悲しいのは良さそうな物理杯が出ても嬉しくないところだよ雷蒼白杯はよ', 3], ['もしかして理不尽に吠えるおっさんは口喧嘩したいワケじゃなくて俺に撲殺されたいのかなあぁそれは気づかなかったよそしたら悲しい奴らだわね', 3], ['おやすみなさいはです', 3], ['大正義エイラーニャだからヘーキヘーキ大丈夫だって安心しろよ', 3], ['その日は勝負下着自前のバックで挑んだためちゃんまいのちゃんまい自身がクパァしてしまった次第であります具が大きいボツ理由が我ながら最低すぎて悲しいまい', 3], ['アリス出て駅向かってたのに忘れ物してターンしたし用事あって連絡した人からの返事が素っ気なくて腹たったし電車乗ったら向かい側にゲあったしバターサンド忘れたことがとにかく悲しいバターサンドちゃん', 3], ['何かあって口が裂けちゃったとかかと思いました笑笑お口ぶさいくなんて悲しいこと言わないでください', 3], ['もうこれはヤバイだろ理系辞めるわ', 3], ['月下旬くらいにもう亡くなった料理上手な人が作る醤油味でしいたけとか入ってる寒天食べたいっていう話をしたら何を思ったのか母が既製品の甘い卵寒天買ってきたのよ似ても似つかねぇだろって喧嘩してそれっきりの物を今開封したら', 3], ['カーバメイト系は作用機序が有機リン系に似ているわ駆除された虫の死骸を食べたと思われる鳥が死んだ例が報告されているから要注意よ', 3], ['理系学生やめます', 3], ['困ったときにはお呼びなさい口笛吹いて口笛吹いて泣きたいときや悲しいときは口笛吹いて口笛吹いて', 3], ['一人暮らしの時家にに人を上げることが苦痛だった来客には必ずスリッパを履かせベッドとか座られるのもキツくて謝って床に座らせてたし帰った後に来客が手を拭いたタオルなどは洗濯機に全部入れていた孤独は嫌なのに他人と暮らせる日は一生来ないかもしれなくて悲しい克服することが多すぎる', 3], ['ありがとうございますーそうなんですよ悲しいかな歳くってるもんでまあまあ結構な経験してるんです確かに若そうだし想像力も不足してるトガリたい年頃なのかもしれませんね', 3], ['どこかに出かけることが難しくてそれでも家でのんびりが好きだから大丈夫って私の隣で一緒に大の字で寝てくれて私が悲しいからもうしないで言わないでって言ったことは絶対にもうしないし言わない', 3], ['プチプラだけでも大丈夫な肌質でよかったって言い返してまえ', 3], ['西の魔女が死んだ読了自然に立ち返り自分のリズムを作るそして自分の人生を自分で決めることで自分の人生の主導権を握る自分で決めるこれがどれだけ大事かを改めて学んだ', 3], ['僕とマッチすると不機嫌になっちゃう配信者さんいるんだけど悲しい', 3], ['絵描きのカップルさんが好きでフォローしてたけど離婚されたらしい言ってしまえば他人事やのに悲しい', 3], ['決断せずにダラダラと先伸ばす行為はハッキリ言って相手に失礼です決断に迷うことは相手や自分も含め疑っている証拠です自分自身が信用出来ないなんて悲しいし自分を信用出来ないのに相手を信じるとか無理だよー信用したいならまずは自分から自分が変われば勝手に信用される', 3], ['旦那がトイレ入ってから分くらい出てこないから大丈夫って声にかけに行ったら眠くておしっこ出ないって悲しい顔して便座に座ってたんだけどなんだこの生き物', 3], ['赤坂でシリアス将さん観てきたお悲しい物語やね将さん格好よかったッス皆で完走出来ますようになんでもないトマトなのにカミカミの神降臨舞台は魔物代わりに将さんの格好よさアップ完走出来ますように', 3], ['人を不快にさせると私も嫌な気持ちになるから人を不快にさせないように生きていきたいなかなか難しいこっちも不快になるだけならいいんやけど怒りの感情じゃなく悲しい気持ちになるので', 3], ['ワイ君と謎の人物逆ちゃう', 3], ['サマソニ最終荷物確認でありますレインコート出来るだけ潰したゴミ袋急な雨の荷物保護常備薬と絆創膏扇風機落としちゃうと悲しいのでぬいのタナカさんは留守番あと旅行でも先駆者たちが便利と言ってるトイレのにおい消しケア用品小林製薬さぁおやすみ', 3], ['花言葉ゲッケイジュ裏切り', 3], ['結婚や出産を理由に人生を諦めたなんて言われたら悲しい', 3], ['防衛用のゴーレムを止める合言葉が真理は死んだなのいかにも学術都市という感じだし追い求めるべきものである真理が失われたらその都市やそこに住む人にとってはもう終わりなのかなという', 3], ['話し合わず一方的にということなら悲しいですね私だったら自分の好きなことだけをします気の合う友人や家族と話したり好きな食べ物を食べたりひたすら眠ったり趣味に没頭したり今までやってみた続きは質問箱へ質問箱', 3], ['夫の遺品の新品タブレットスマホ解約時に存在知り分割払いだったので残金は私が払ったそのタブレットは現在次男がゲームで使ってる彼が先日ネット検索してたら履歴で小学生プレゼントが出てきたとのこと末っ子誕生日前に亡くなった夫あれこれプレゼント考えてたんだな', 3], ['例に漏れずカートンあともうちょい足すかは考えどころ', 3], ['資料も動画も語る人もいないんだな悲しいパイプライン好き系投資家とか論文好き系投資家は肩身狭いよな', 3], ['我あかちゃん動物と推しの絡みを見せられると全て帳消しにしちゃう悲しい生き物よね', 3], ['穏便にねお前が怪我したら悲しいよあと相手が怪我したら罪悪感凄いし', 3], ['この先どうなろうと結婚は二度としない相手は外モードかもしれないんだよ無理信用が出来なくなってしまったことが悲しいよねカサンドラ', 3], ['せっかく風呂場の掃除したのに濡れた足ですっ転んで負傷したの悲しい', 3], ['写真って捨てらんないよねもう亡くなった人の写真でも知らないひとの写真でもなんだか捨てられないはいまたしても断捨離失敗せめて自分の時はよほどお気に入りの奇跡の数枚をプリントして遺影用に残し残りはデータとしておくのが理想的だわこれ', 3], ['募って出すか出さないかでその人の本性も知れるでしょう本当に亡くなった人を慕っていたならなんて関係なく出せるじゃない渋るって事は口先だけって事だし将来的に裏切り者になるってわかるだろう自分の腹は傷めたくないが他人税金のなら使っていいって事はそういう事だ', 3], ['急な報告すみません祖母の体調の不調により今日から明日のいつまでになるかは不明ですが低浮上になります自分としても悲しいことなので理解していただけるとありがたいです', 3], ['はづきかなゲームアプリアニメから作品はいったのでアプリしたら違う面が見られたかも昨年月アプリ終了し再開準備中先月下旬に断念発表されサービス終了片悲しいですねいつか再開ないかマメ部ノースウェーブ', 3], ['あなるほど失礼しました三橋さんだからいずれ買おうとは思ってるけど一個中和剤用意してから挑もうかなメンタルやられたら悲しいから', 3], ['明日も立ち上がれることを祈ってお布団入りますぅ半分終わったからあと日このデスマーチ終わるまであと日強く生きようおやすみなさいお休み', 3], ['クラウディ嬉しいとか悲しいとか簡単に口にできる程度の感情しかない人の口から出た言葉信用できないわ', 3], ['普段は理解ないなあ悲しいなあで終わらせられるのに生理中にバカにされるともうﾝｱﾞｱﾞｱﾞｱﾞｱﾞｱﾞｱﾞｱﾞってなります', 3], ['わかるぅ美容室で髪を洗ってもらったあと寝れんぐらいのシャンプーの匂いきつい化粧品も試供品で匂いチェックしないと人気だからって買うと後悔するリップに匂いは死んでもいらん', 3], ['お時間のある時で大丈夫ですよ一応先にお送りしておきますねこちらになっております', 3], ['おー足痛', 3], ['我慢します言うたら相手にはい言われたわ流石に悲しいあっちの管理不足なのに', 3], ['物語が終わったり好きな人物が死するのは悲しいしかしそれは一つのピリオドに過ぎない物語は続く忘れない限り人物もまた然り忘れ去られた時が本当の終わりなのだから凌牙語録', 3], ['おっふそんな機種が対応してないありえますね悲しい', 3]]\n"
     ]
    }
   ],
   "source": [
    "print(BB3[50:100])"
   ]
  },
  {
   "cell_type": "code",
   "execution_count": 17,
   "id": "2df36e18",
   "metadata": {},
   "outputs": [],
   "source": [
    "BPB0 = pd.DataFrame(BB1,columns=['tweet','label'])\n",
    "BPB1 = pd.DataFrame(BB2,columns=['tweet','label'])\n",
    "BPB2 = pd.DataFrame(BB3,columns=['tweet','label'])\n",
    "BPB3 = pd.DataFrame(BB4,columns=['tweet','label'])\n",
    "BPB = pd.concat([BPB0,BPB1,BPB2,BPB3])"
   ]
  },
  {
   "cell_type": "code",
   "execution_count": 18,
   "id": "84f6da88",
   "metadata": {},
   "outputs": [],
   "source": [
    "BPB.to_csv('./BPB_JP.csv', index=False, encoding=\"utf-8-sig\")"
   ]
  },
  {
   "cell_type": "code",
   "execution_count": 19,
   "id": "43f28365",
   "metadata": {},
   "outputs": [],
   "source": [
    "CC1 = []\n",
    "CC2 = []\n",
    "CC3 = []\n",
    "CC4 = []\n",
    "for i in range(len(CC)):\n",
    "    if CC['new_label1'][i] == CC['new_label2'][i] == CC['new_label3'][i]:\n",
    "        CC4.append([CC['tweet'][i],0])\n",
    "    elif CC['new_label1'][i] > CC['new_label2'][i] + CC['new_label3'][i]:\n",
    "        CC1.append([CC['tweet'][i],1])\n",
    "    elif CC['new_label2'][i] > CC['new_label1'][i] + CC['new_label3'][i]:\n",
    "        CC2.append([CC['tweet'][i],2])\n",
    "    elif CC['new_label3'][i] > CC['new_label1'][i] + CC['new_label2'][i]:\n",
    "        CC3.append([CC['tweet'][i],3])"
   ]
  },
  {
   "cell_type": "code",
   "execution_count": 21,
   "id": "e5cf3a9c",
   "metadata": {},
   "outputs": [
    {
     "name": "stdout",
     "output_type": "stream",
     "text": [
      "[['小沢氏不動産その他の仲間たちとかなんかなかったけ', 3], ['暗黙じゃないかもしれないけど本人たちが朝から使ってる楽屋だよ私物の荷物とかメイク道具とかティッヒュとか着替えとかあるんでしょキモオタバレエの時楽屋ってだいたいお菓子と着替えの山積みなんだけど勝手にそれ想像してるよ', 3], ['自分もわかりやすいとは思うのですがほとんどの人は何も分かってなく萩生田さんの顔だけみてこの顔は悪そうなことする顔だと勝手に思い込みテレビの報道に同調してるようにみえるのですなんとかならないものかと', 3], ['私の口座番号教えるからそこから勝手に取ってって', 3], ['もう飽きたからいいやとか言いながら返すやつね痛すぎ飽きたんじゃないんですかあ悔しくて指が勝手に動いちゃうんですかね', 3], ['新井勝手に飲んだの先生我慢してるのに', 3], ['えごめんマジでド新規のオタクだけどスノのペンラ色って自担カラー良くない目で見られてんのええしかもスノ達もそりゃ自分推してくれる人にファンサしたいだろうなって勝手に思っちゃってるんだけどそれ良くないのもちろん白が元特別だとは思ってるけどさ', 3], ['通りもんってなんやねん勝手に通ってろ', 3], ['自分で勝手に思って自分はそれができないから違うことをしてるだけでほかのリスナーに強要するつもりはないんですけど', 3], ['勝手に変な名前をつけるんじゃあない', 3], ['わかんない勝手に判断してだめだったなんてことになっても嫌だし笑', 3], ['有馬君用だけめっちゃどうしたんだよこれってセンスのやつ持ち帰っててほしいお前これ誰向けのデザインだよってくらい人を選ぶやつをそっと夜中に勝手につけさせて翌朝キレられててほしい', 3], ['私は勝手に弥宵さんのに激重感情向けたし', 3], ['私はお兄さんが背負う物とそれらの重さに勝手に想いを馳せるときさんの光芒を聴く特に間奏後のラスサビ転調したメロディーとその歌詞に眼の奥がじわりと痛む', 3], ['原油なんとなくなんとなくだけど原油は仕込時だと勝手に思って仕込んだ投資ではなくあくまで投機的に面白い原油オイル資産運用', 3], ['まず一歩やる気は勝手に出てこない', 3], ['最近なんか誰はいなくてもいいみたいなツイートよく見かけるんだけどソロで推したいなら勝手にやってくれすぎるお前の都合でグループ変わらんわってね', 3], ['勝手に腰くらいのロングかと思ってた人間です', 3], ['医療機関なにそれ人は人ですけど医療機関やから何なん他の仕事と違ってそんなにも偉いんですか感染者出たら同じやから業務が止まるからえそれって他の仕事でも同じですがそうなってもないのにも関わらずお前の空想話で勝手に妄想してるだけ必殺自分で自分の首を絞める', 3], ['シンクロ裏切りスプラトゥーン', 3], ['文字打ちながら勝手に自爆してる', 3], ['喉が勝手に咳しないように息吸わなくなるから寝れん', 3], ['通話が勝手に切れたので私もブチ切れながら就寝します', 3], ['シャドウキャット間合い管理上手いから足はええと相手の技が勝手にスカる', 3], ['だとの表示が途中で勝手に変わったりするしかも結構夜の部屋キーボードの音響く', 3], ['あなるほど分番組なのか勝手に時間だと思って見てたからあっという間だったんだ', 3], ['勝手に載せて怒られるかもしれないけどリア友がこんな具合だから調子が戻らない選手たちはほんとに心配', 3], ['プリミティブドラゴンのフィギュアーツ日本だと抽選販売で中国だと受注販売にしそうという勝手なイメージ', 3], ['少女マンガって空想やから理想の動きや表情や角度を勝手に描けて女子がキュンとする人物を完璧に作り上げられるけど玉ちゃんて実際の人間やのにまさにその少女マンガレベルの完璧な仕草見せてくるから毎度まじで心臓爆発する目線も右手も顔の角度も女子の理想ドンピシャでくる生きる少女マンガ', 3], ['勝手にツイートされてるよね連携かなんか切った方がいいまぁ大丈夫ならそのままでいいけど', 3], ['変な声出ちゃった見てる我もよく分からん許せん理不尽ってなって終わりましたねスン', 3], ['アイコンにした画像勝手に保存されるやつ解除するのどうやってやるんだっけ', 3], ['ご勝手に', 3], ['は勝手に殺すな', 3], ['ウィンナー食べたいこれディーディーが勝手に打った', 3], ['営業の天才勝手にぶいすぽ宣伝大使になるまとめぶいすぽ切り抜きより', 3], ['知り合いが抱ける俗勝手に俗嬢にされたあの子は強ご奉仕予約済み同人電子書籍コミック漫画人気です', 3], ['ここまでバカにされんといかんの舐めすぎやろあもぉ無理だわ勝手にしろ', 3], ['白蝋がまだ何も言ってないのにコンビニで物選んだらも全くしょうがないですねて勝手に代わりに財布開いて払ってはいて渡してくれる黒葛原くんの話ツボ過ぎてここに残しておきます', 3], ['これでオーバ行ったら裏切りにも程があるだろ', 3], ['ただ何億光年輝く星にもは歌詞としての言葉の省略等と捉えることもできるので微妙何億光年輝く文章として繋がっているなら何億光年の時間何億光年言葉にならないを表現僕はこれだと勝手に推測譜割としては間があるから何億光年の距離言葉を省略等', 3], ['返信ありがとうございます勝手にリツイートすみませんあのウォーキングベース始まったとこでうぉーと唸りました', 3], ['怒りのエッセンスってショットガンでのキルじゃなくてスパチャでキルするだけだから他の武器を使いながらスパチャを使ってれば勝手にクエストが進むのでついでに掘れちゃうんだよねキネティック枠唯一の速射フレームだから用に持っておくのも良いかと思います', 3], ['公式が息してないのに勝手にオタクが推しの手のひらで転がってる地獄だぞこっちはよ転がりすぎて全身打撲だわ', 3], ['系アカウントはフォローに気づき次第即ブロックですタイミングによってはフォロー直後だからフォローするだけ無駄脱サラ系勝手に脱サラしてろ言副業系興味無ぇんだよ金配り系フォロワー買って嬉しいか笑アダルト系勝手にやってろ出会い系', 3], ['龍星くん大好きです腹筋うっすら割れてるのも嬉しい情報実は勝手にもっとバッキバキかと思ってたんです笑だって熱い焼き場で日立って作業なんて重労働ですしでもああ自分とこのお菓子が好きやから食べてしまってやんわり割れなんやなと勝手に妄想して萌えとなっていたわけです', 3], ['裏切りか', 3], ['負の想像力の暴走を食い止めるには怒りを爆発させるスイッチを押すまでの距離をできるだけ遠くしておくことですそのためには自分はこう思うけど別の見方もあるんじゃないかとちょっと違う角度からものごとを見る力が必要だと思います', 3], ['いいや違うお前は自分の行動で思いが伝わったと勝手に心の隅で満足しとるんじゃ', 3], ['誘拐シリーズその勝手にお借りしました', 3]]\n"
     ]
    }
   ],
   "source": [
    "print(CC3[50:100])"
   ]
  },
  {
   "cell_type": "code",
   "execution_count": 22,
   "id": "25cb0540",
   "metadata": {},
   "outputs": [],
   "source": [
    "CPC0 = pd.DataFrame(CC1,columns=['tweet','label'])\n",
    "CPC1 = pd.DataFrame(CC2,columns=['tweet','label'])\n",
    "CPC2 = pd.DataFrame(CC3,columns=['tweet','label'])\n",
    "CPC3 = pd.DataFrame(CC4,columns=['tweet','label'])\n",
    "CPC = pd.concat([CPC0,CPC1,CPC2,CPC3])"
   ]
  },
  {
   "cell_type": "code",
   "execution_count": 23,
   "id": "6648bf1a",
   "metadata": {},
   "outputs": [],
   "source": [
    "CPC.to_csv('./CPC_JP.csv', index=False, encoding=\"utf-8-sig\")"
   ]
  },
  {
   "cell_type": "code",
   "execution_count": 24,
   "id": "43dd88c9",
   "metadata": {},
   "outputs": [],
   "source": [
    "DD1 = []\n",
    "DD2 = []\n",
    "DD3 = []\n",
    "DD4 = []\n",
    "for i in range(len(DD)):\n",
    "    if DD['new_label1'][i] == DD['new_label2'][i] == DD['new_label3'][i]:\n",
    "        DD4.append([DD['tweet'][i],0])\n",
    "    elif DD['new_label1'][i] > DD['new_label2'][i] + DD['new_label3'][i]:\n",
    "        DD1.append([DD['tweet'][i],1])\n",
    "    elif DD['new_label2'][i] > DD['new_label1'][i] + DD['new_label3'][i]:\n",
    "        DD2.append([DD['tweet'][i],2])\n",
    "    elif DD['new_label3'][i] > DD['new_label1'][i] + DD['new_label2'][i]:\n",
    "        DD3.append([DD['tweet'][i],3])"
   ]
  },
  {
   "cell_type": "code",
   "execution_count": 25,
   "id": "8c702d2a",
   "metadata": {},
   "outputs": [],
   "source": [
    "DPD0 = pd.DataFrame(DD1,columns=['tweet','label'])\n",
    "DPD1 = pd.DataFrame(DD2,columns=['tweet','label'])\n",
    "DPD2 = pd.DataFrame(DD3,columns=['tweet','label'])\n",
    "DPD3 = pd.DataFrame(DD4,columns=['tweet','label'])\n",
    "DPD = pd.concat([DPD0,DPD1,DPD2,DPD3])"
   ]
  },
  {
   "cell_type": "code",
   "execution_count": 26,
   "id": "88391594",
   "metadata": {},
   "outputs": [],
   "source": [
    "DPD.to_csv('./DPD_JP.csv', index=False, encoding=\"utf-8-sig\")"
   ]
  },
  {
   "cell_type": "code",
   "execution_count": 27,
   "id": "901546b1",
   "metadata": {},
   "outputs": [],
   "source": [
    "KRdata = pd.concat([APA,BPB,CPC,DPD])"
   ]
  },
  {
   "cell_type": "code",
   "execution_count": 28,
   "id": "d86824a0",
   "metadata": {},
   "outputs": [],
   "source": [
    "KRdata.to_csv('./JPdata.csv', index=False, encoding=\"utf-8-sig\")"
   ]
  },
  {
   "cell_type": "code",
   "execution_count": 29,
   "id": "241fdd6b",
   "metadata": {},
   "outputs": [
    {
     "data": {
      "text/plain": [
       "3    108156\n",
       "1     96910\n",
       "2     94180\n",
       "0     15007\n",
       "Name: label, dtype: int64"
      ]
     },
     "execution_count": 29,
     "metadata": {},
     "output_type": "execute_result"
    }
   ],
   "source": [
    "KRdata['label'].value_counts()"
   ]
  },
  {
   "cell_type": "code",
   "execution_count": 30,
   "id": "f1933d09",
   "metadata": {},
   "outputs": [
    {
     "data": {
      "text/plain": [
       "<AxesSubplot:>"
      ]
     },
     "execution_count": 30,
     "metadata": {},
     "output_type": "execute_result"
    },
    {
     "data": {
      "image/png": "[encoded data removed]",
      "text/plain": [
       "<Figure size 360x360 with 1 Axes>"
      ]
     },
     "metadata": {
      "needs_background": "light"
     },
     "output_type": "display_data"
    }
   ],
   "source": [
    "CountStatus = pd.value_counts(KRdata['label'].values, sort=True)\n",
    "CountStatus.plot.bar()\n",
    "CountStatus.plot.bar(grid=True, figsize=(5,5), fontsize=10)"
   ]
  },
  {
   "cell_type": "code",
   "execution_count": null,
   "id": "0c0345db",
   "metadata": {},
   "outputs": [],
   "source": []
  }
 ],
 "metadata": {
  "kernelspec": {
   "display_name": "Python 3 (ipykernel)",
   "language": "python",
   "name": "python3"
  },
  "language_info": {
   "codemirror_mode": {
    "name": "ipython",
    "version": 3
   },
   "file_extension": ".py",
   "mimetype": "text/x-python",
   "name": "python",
   "nbconvert_exporter": "python",
   "pygments_lexer": "ipython3",
   "version": "3.9.12"
  }
 },
 "nbformat": 4,
 "nbformat_minor": 5
}
