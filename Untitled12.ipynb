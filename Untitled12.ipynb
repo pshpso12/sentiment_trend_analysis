{
 "cells": [
  {
   "cell_type": "code",
   "execution_count": 2,
   "id": "5c70fab5",
   "metadata": {},
   "outputs": [],
   "source": [
    "from wordcloud import WordCloud, STOPWORDS \n",
    "import matplotlib.pyplot as plt \n",
    "from matplotlib import rc\n",
    "import pandas as pd \n",
    "import urllib.request\n",
    "import numpy as np"
   ]
  },
  {
   "cell_type": "code",
   "execution_count": 2,
   "id": "eae83d97",
   "metadata": {},
   "outputs": [],
   "source": [
    "KRdata = pd.read_csv(\"./KRdata.csv\")"
   ]
  },
  {
   "cell_type": "code",
   "execution_count": 95,
   "id": "c874db75",
   "metadata": {},
   "outputs": [],
   "source": [
    "JPdata = pd.read_csv(\"./JPdata.csv\")"
   ]
  },
  {
   "cell_type": "code",
   "execution_count": 4,
   "id": "322352f4",
   "metadata": {},
   "outputs": [
    {
     "data": {
      "text/plain": [
       "1    95068\n",
       "2    49280\n",
       "0    30000\n",
       "3    17311\n",
       "Name: label, dtype: int64"
      ]
     },
     "execution_count": 4,
     "metadata": {},
     "output_type": "execute_result"
    }
   ],
   "source": [
    "KRdata['label'].value_counts()"
   ]
  },
  {
   "cell_type": "code",
   "execution_count": 96,
   "id": "e80909f5",
   "metadata": {
    "scrolled": true
   },
   "outputs": [
    {
     "data": {
      "text/plain": [
       "3    108156\n",
       "1     96910\n",
       "2     94180\n",
       "0     15007\n",
       "Name: label, dtype: int64"
      ]
     },
     "execution_count": 96,
     "metadata": {},
     "output_type": "execute_result"
    }
   ],
   "source": [
    "JPdata['label'].value_counts()"
   ]
  },
  {
   "cell_type": "code",
   "execution_count": null,
   "id": "5c039674",
   "metadata": {},
   "outputs": [],
   "source": [
    "unkr1 = KRdata.loc[KRdata['label']==1].sample(n=10000, replace=False)\n",
    "unkr2 = KRdata.loc[KRdata['label']==2].sample(n=10000, replace=False)\n",
    "unkr3 = KRdata.loc[KRdata['label']==3].sample(n=10000, replace=False)\n",
    "unkr0 = KRdata.loc[KRdata['label']==0].sample(n=10000, replace=False)"
   ]
  },
  {
   "cell_type": "code",
   "execution_count": 15,
   "id": "049b11a6",
   "metadata": {},
   "outputs": [],
   "source": [
    "newKR = pd.DataFrame()"
   ]
  },
  {
   "cell_type": "code",
   "execution_count": 22,
   "id": "b53448dd",
   "metadata": {},
   "outputs": [],
   "source": [
    "newKR = pd.concat([unkr1,unkr2,unkr3,unkr0])"
   ]
  },
  {
   "cell_type": "code",
   "execution_count": 23,
   "id": "db30314a",
   "metadata": {},
   "outputs": [
    {
     "name": "stdout",
     "output_type": "stream",
     "text": [
      "                                                    tweet  label\n",
      "755             쿵야즈 받으면 그게 로또고 그게 행복ㅇㅣ고 그게 궁시렁 궁시렁 어쩌고저쩌고      1\n",
      "70381                              보는 동안 계속 웃음만 나온다 넘 기여워      1\n",
      "7990    호냥이는 냐흥 기광아 매일 같은 일상의 연속이지만 오늘은 하루밖에 없으니까 작은 행...      1\n",
      "99135   무슨 뜻이냐면 보통 사람과 사람 사이로 생각해본다면 서로 신체가 가까이 있어야 가깝...      1\n",
      "53134   흐흐 물론이지금새 얼굴이 붉어져서 숨어버리는 너를 보자 귀여운듯 웃음이 새어나왔다 ...      1\n",
      "...                                                   ...    ...\n",
      "162454                                 울먹이는듯한보이스가좋다감격에벅차서      0\n",
      "162794                                         선생님그려왔어요        0\n",
      "83634    아니 새벽에 잘 자다가 천둥번개땜에 깨서 잠 설친거 진짜 억울하네 하늘이 나를 억까한다      0\n",
      "164063                          잔인하다 잔인해 채컴 못 들어간 사람들 울겟다      0\n",
      "190922  안경 암만 닦아도 더럽길래 세척 겸 수리 맡겼는데 사장님이 몇 번 슥슥 닦더니 깨끗...      0\n",
      "\n",
      "[40000 rows x 2 columns]\n"
     ]
    }
   ],
   "source": [
    "print(newKR)"
   ]
  },
  {
   "cell_type": "code",
   "execution_count": 97,
   "id": "42ba8d87",
   "metadata": {},
   "outputs": [],
   "source": [
    "unjp1 = JPdata.loc[JPdata['label']==1].sample(n=10000, replace=False)\n",
    "unjp2 = JPdata.loc[JPdata['label']==2].sample(n=10000, replace=False)\n",
    "unjp3 = JPdata.loc[JPdata['label']==3].sample(n=10000, replace=False)\n",
    "unjp0 = JPdata.loc[JPdata['label']==0].sample(n=10000, replace=False)"
   ]
  },
  {
   "cell_type": "code",
   "execution_count": 98,
   "id": "e6960b03",
   "metadata": {},
   "outputs": [],
   "source": [
    "newJP = pd.DataFrame()"
   ]
  },
  {
   "cell_type": "code",
   "execution_count": 99,
   "id": "3990a686",
   "metadata": {},
   "outputs": [],
   "source": [
    "newJP = pd.concat([unjp1,unjp2,unjp3,unjp0])"
   ]
  },
  {
   "cell_type": "code",
   "execution_count": 100,
   "id": "7d7114a9",
   "metadata": {},
   "outputs": [
    {
     "name": "stdout",
     "output_type": "stream",
     "text": [
      "                                                    tweet  label\n",
      "49124                             色んなオタクしましためちゃくちゃ楽しかったなあ      1\n",
      "10981      アンサングデュエット残夜までちゃんぽろ突発やらせていただきました楽しかった腐れ縁っていいよな      1\n",
      "69671                                  また一緒に歌えて楽しかったよ第話美月      1\n",
      "71074   みぃなちゃんがエオルゼア光の戦士にキャラメイクのセンスの高さにほんと脱帽ほんまかわいく美人に...      1\n",
      "67008                                    お疲れ様でした楽しいのが番ですね      1\n",
      "...                                                   ...    ...\n",
      "314147                                                 加油      0\n",
      "87599                           ふわぁさすがに眠くなってきちゃったそろそろねよっか      0\n",
      "170421                                        人魚メーカーで作った子      0\n",
      "88968              お盆休みに南の島に行ってきた楽しい人たちが大量に電車に乗っている近寄らないで      0\n",
      "172191                                             たのしかった      0\n",
      "\n",
      "[40000 rows x 2 columns]\n"
     ]
    }
   ],
   "source": [
    "print(newJP)"
   ]
  },
  {
   "cell_type": "code",
   "execution_count": 28,
   "id": "be32bc96",
   "metadata": {},
   "outputs": [
    {
     "data": {
      "text/plain": [
       "1    10000\n",
       "2    10000\n",
       "3    10000\n",
       "0    10000\n",
       "Name: label, dtype: int64"
      ]
     },
     "execution_count": 28,
     "metadata": {},
     "output_type": "execute_result"
    }
   ],
   "source": [
    "newKR['label'].value_counts()"
   ]
  },
  {
   "cell_type": "code",
   "execution_count": 101,
   "id": "a45adea9",
   "metadata": {},
   "outputs": [
    {
     "data": {
      "text/plain": [
       "1    10000\n",
       "2    10000\n",
       "3    10000\n",
       "0    10000\n",
       "Name: label, dtype: int64"
      ]
     },
     "execution_count": 101,
     "metadata": {},
     "output_type": "execute_result"
    }
   ],
   "source": [
    "newJP['label'].value_counts()"
   ]
  },
  {
   "cell_type": "code",
   "execution_count": 30,
   "id": "46267c0d",
   "metadata": {},
   "outputs": [
    {
     "data": {
      "text/plain": [
       "<AxesSubplot:>"
      ]
     },
     "execution_count": 30,
     "metadata": {},
     "output_type": "execute_result"
    },
    {
     "data": {
      "image/png": "[encoded data removed]",
      "text/plain": [
       "<Figure size 360x360 with 1 Axes>"
      ]
     },
     "metadata": {
      "needs_background": "light"
     },
     "output_type": "display_data"
    }
   ],
   "source": [
    "CountStatus = pd.value_counts(newJP['label'].values, sort=True)\n",
    "CountStatus.plot.bar()\n",
    "CountStatus.plot.bar(grid=True, figsize=(5,5), fontsize=10)"
   ]
  },
  {
   "cell_type": "code",
   "execution_count": 31,
   "id": "36206045",
   "metadata": {},
   "outputs": [
    {
     "data": {
      "text/plain": [
       "<AxesSubplot:>"
      ]
     },
     "execution_count": 31,
     "metadata": {},
     "output_type": "execute_result"
    },
    {
     "data": {
      "image/png": "[encoded data removed]",
      "text/plain": [
       "<Figure size 360x360 with 1 Axes>"
      ]
     },
     "metadata": {
      "needs_background": "light"
     },
     "output_type": "display_data"
    }
   ],
   "source": [
    "CountStatus = pd.value_counts(newKR['label'].values, sort=True)\n",
    "CountStatus.plot.bar()\n",
    "CountStatus.plot.bar(grid=True, figsize=(5,5), fontsize=10)"
   ]
  },
  {
   "cell_type": "code",
   "execution_count": 32,
   "id": "34042df1",
   "metadata": {},
   "outputs": [],
   "source": [
    "newKR.to_csv('./newKR.csv', index=False, encoding=\"utf-8-sig\")"
   ]
  },
  {
   "cell_type": "code",
   "execution_count": 102,
   "id": "a86a0699",
   "metadata": {},
   "outputs": [],
   "source": [
    "newJP.to_csv('./newJP.csv', index=False, encoding=\"utf-8-sig\")"
   ]
  },
  {
   "cell_type": "code",
   "execution_count": 36,
   "id": "e9a4e6b3",
   "metadata": {
    "scrolled": true
   },
   "outputs": [],
   "source": [
    "A = newKR.sample(n=20, replace=False)"
   ]
  },
  {
   "cell_type": "code",
   "execution_count": 38,
   "id": "27faf84d",
   "metadata": {},
   "outputs": [],
   "source": [
    "A.to_csv('./Forser.csv', index=False, encoding=\"utf-8-sig\")"
   ]
  },
  {
   "cell_type": "code",
   "execution_count": 3,
   "id": "2c416113",
   "metadata": {},
   "outputs": [],
   "source": [
    "newKR = pd.read_csv(\"./newKR.csv\")"
   ]
  },
  {
   "cell_type": "code",
   "execution_count": 107,
   "id": "317cd45e",
   "metadata": {},
   "outputs": [],
   "source": [
    "newJP = pd.read_csv(\"./newJP.csv\")"
   ]
  },
  {
   "cell_type": "code",
   "execution_count": 25,
   "id": "2f91c1a3",
   "metadata": {},
   "outputs": [],
   "source": [
    "A = newKR.sample(n=10, replace=False)"
   ]
  },
  {
   "cell_type": "code",
   "execution_count": 26,
   "id": "32ae293e",
   "metadata": {},
   "outputs": [],
   "source": [
    "A.to_csv('./Forser.csv', index=False, encoding=\"utf-8-sig\")"
   ]
  },
  {
   "cell_type": "code",
   "execution_count": 35,
   "id": "6f531c8a",
   "metadata": {},
   "outputs": [],
   "source": [
    "B = newJP.sample(n=10, replace=False)"
   ]
  },
  {
   "cell_type": "code",
   "execution_count": 36,
   "id": "07bbbfd6",
   "metadata": {},
   "outputs": [],
   "source": [
    "B.to_csv('./ForserJP.csv', index=False, encoding=\"utf-8-sig\")"
   ]
  },
  {
   "cell_type": "code",
   "execution_count": 118,
   "id": "6e7be573",
   "metadata": {},
   "outputs": [
    {
     "ename": "KeyError",
     "evalue": "3872",
     "output_type": "error",
     "traceback": [
      "\u001b[1;31m---------------------------------------------------------------------------\u001b[0m",
      "\u001b[1;31mKeyError\u001b[0m                                  Traceback (most recent call last)",
      "File \u001b[1;32m~\\anaconda3\\lib\\site-packages\\pandas\\core\\indexes\\base.py:3621\u001b[0m, in \u001b[0;36mIndex.get_loc\u001b[1;34m(self, key, method, tolerance)\u001b[0m\n\u001b[0;32m   3620\u001b[0m \u001b[38;5;28;01mtry\u001b[39;00m:\n\u001b[1;32m-> 3621\u001b[0m     \u001b[38;5;28;01mreturn\u001b[39;00m \u001b[38;5;28;43mself\u001b[39;49m\u001b[38;5;241;43m.\u001b[39;49m\u001b[43m_engine\u001b[49m\u001b[38;5;241;43m.\u001b[39;49m\u001b[43mget_loc\u001b[49m\u001b[43m(\u001b[49m\u001b[43mcasted_key\u001b[49m\u001b[43m)\u001b[49m\n\u001b[0;32m   3622\u001b[0m \u001b[38;5;28;01mexcept\u001b[39;00m \u001b[38;5;167;01mKeyError\u001b[39;00m \u001b[38;5;28;01mas\u001b[39;00m err:\n",
      "File \u001b[1;32m~\\anaconda3\\lib\\site-packages\\pandas\\_libs\\index.pyx:136\u001b[0m, in \u001b[0;36mpandas._libs.index.IndexEngine.get_loc\u001b[1;34m()\u001b[0m\n",
      "File \u001b[1;32m~\\anaconda3\\lib\\site-packages\\pandas\\_libs\\index.pyx:163\u001b[0m, in \u001b[0;36mpandas._libs.index.IndexEngine.get_loc\u001b[1;34m()\u001b[0m\n",
      "File \u001b[1;32mpandas\\_libs\\hashtable_class_helper.pxi:2131\u001b[0m, in \u001b[0;36mpandas._libs.hashtable.Int64HashTable.get_item\u001b[1;34m()\u001b[0m\n",
      "File \u001b[1;32mpandas\\_libs\\hashtable_class_helper.pxi:2140\u001b[0m, in \u001b[0;36mpandas._libs.hashtable.Int64HashTable.get_item\u001b[1;34m()\u001b[0m\n",
      "\u001b[1;31mKeyError\u001b[0m: 3872",
      "\nThe above exception was the direct cause of the following exception:\n",
      "\u001b[1;31mKeyError\u001b[0m                                  Traceback (most recent call last)",
      "Input \u001b[1;32mIn [118]\u001b[0m, in \u001b[0;36m<cell line: 2>\u001b[1;34m()\u001b[0m\n\u001b[0;32m      1\u001b[0m allnu \u001b[38;5;241m=\u001b[39m \u001b[38;5;241m0\u001b[39m\n\u001b[0;32m      2\u001b[0m \u001b[38;5;28;01mfor\u001b[39;00m i \u001b[38;5;129;01min\u001b[39;00m \u001b[38;5;28mrange\u001b[39m(\u001b[38;5;28mlen\u001b[39m(newJP)):\n\u001b[1;32m----> 3\u001b[0m     m \u001b[38;5;241m=\u001b[39m p\u001b[38;5;241m.\u001b[39mfindall(\u001b[43mnewJP\u001b[49m\u001b[43m[\u001b[49m\u001b[38;5;124;43m'\u001b[39;49m\u001b[38;5;124;43mtweet\u001b[39;49m\u001b[38;5;124;43m'\u001b[39;49m\u001b[43m]\u001b[49m\u001b[43m[\u001b[49m\u001b[43mi\u001b[49m\u001b[43m]\u001b[49m)\n\u001b[0;32m      4\u001b[0m     \u001b[38;5;28;01mif\u001b[39;00m \u001b[38;5;28mlen\u001b[39m(m) \u001b[38;5;241m==\u001b[39m \u001b[38;5;241m0\u001b[39m:\n\u001b[0;32m      5\u001b[0m         \u001b[38;5;28mprint\u001b[39m(newJP[\u001b[38;5;124m'\u001b[39m\u001b[38;5;124mtweet\u001b[39m\u001b[38;5;124m'\u001b[39m][i])\n",
      "File \u001b[1;32m~\\anaconda3\\lib\\site-packages\\pandas\\core\\series.py:958\u001b[0m, in \u001b[0;36mSeries.__getitem__\u001b[1;34m(self, key)\u001b[0m\n\u001b[0;32m    955\u001b[0m     \u001b[38;5;28;01mreturn\u001b[39;00m \u001b[38;5;28mself\u001b[39m\u001b[38;5;241m.\u001b[39m_values[key]\n\u001b[0;32m    957\u001b[0m \u001b[38;5;28;01melif\u001b[39;00m key_is_scalar:\n\u001b[1;32m--> 958\u001b[0m     \u001b[38;5;28;01mreturn\u001b[39;00m \u001b[38;5;28;43mself\u001b[39;49m\u001b[38;5;241;43m.\u001b[39;49m\u001b[43m_get_value\u001b[49m\u001b[43m(\u001b[49m\u001b[43mkey\u001b[49m\u001b[43m)\u001b[49m\n\u001b[0;32m    960\u001b[0m \u001b[38;5;28;01mif\u001b[39;00m is_hashable(key):\n\u001b[0;32m    961\u001b[0m     \u001b[38;5;66;03m# Otherwise index.get_value will raise InvalidIndexError\u001b[39;00m\n\u001b[0;32m    962\u001b[0m     \u001b[38;5;28;01mtry\u001b[39;00m:\n\u001b[0;32m    963\u001b[0m         \u001b[38;5;66;03m# For labels that don't resolve as scalars like tuples and frozensets\u001b[39;00m\n",
      "File \u001b[1;32m~\\anaconda3\\lib\\site-packages\\pandas\\core\\series.py:1069\u001b[0m, in \u001b[0;36mSeries._get_value\u001b[1;34m(self, label, takeable)\u001b[0m\n\u001b[0;32m   1066\u001b[0m     \u001b[38;5;28;01mreturn\u001b[39;00m \u001b[38;5;28mself\u001b[39m\u001b[38;5;241m.\u001b[39m_values[label]\n\u001b[0;32m   1068\u001b[0m \u001b[38;5;66;03m# Similar to Index.get_value, but we do not fall back to positional\u001b[39;00m\n\u001b[1;32m-> 1069\u001b[0m loc \u001b[38;5;241m=\u001b[39m \u001b[38;5;28;43mself\u001b[39;49m\u001b[38;5;241;43m.\u001b[39;49m\u001b[43mindex\u001b[49m\u001b[38;5;241;43m.\u001b[39;49m\u001b[43mget_loc\u001b[49m\u001b[43m(\u001b[49m\u001b[43mlabel\u001b[49m\u001b[43m)\u001b[49m\n\u001b[0;32m   1070\u001b[0m \u001b[38;5;28;01mreturn\u001b[39;00m \u001b[38;5;28mself\u001b[39m\u001b[38;5;241m.\u001b[39mindex\u001b[38;5;241m.\u001b[39m_get_values_for_loc(\u001b[38;5;28mself\u001b[39m, loc, label)\n",
      "File \u001b[1;32m~\\anaconda3\\lib\\site-packages\\pandas\\core\\indexes\\base.py:3623\u001b[0m, in \u001b[0;36mIndex.get_loc\u001b[1;34m(self, key, method, tolerance)\u001b[0m\n\u001b[0;32m   3621\u001b[0m     \u001b[38;5;28;01mreturn\u001b[39;00m \u001b[38;5;28mself\u001b[39m\u001b[38;5;241m.\u001b[39m_engine\u001b[38;5;241m.\u001b[39mget_loc(casted_key)\n\u001b[0;32m   3622\u001b[0m \u001b[38;5;28;01mexcept\u001b[39;00m \u001b[38;5;167;01mKeyError\u001b[39;00m \u001b[38;5;28;01mas\u001b[39;00m err:\n\u001b[1;32m-> 3623\u001b[0m     \u001b[38;5;28;01mraise\u001b[39;00m \u001b[38;5;167;01mKeyError\u001b[39;00m(key) \u001b[38;5;28;01mfrom\u001b[39;00m \u001b[38;5;21;01merr\u001b[39;00m\n\u001b[0;32m   3624\u001b[0m \u001b[38;5;28;01mexcept\u001b[39;00m \u001b[38;5;167;01mTypeError\u001b[39;00m:\n\u001b[0;32m   3625\u001b[0m     \u001b[38;5;66;03m# If we have a listlike key, _check_indexing_error will raise\u001b[39;00m\n\u001b[0;32m   3626\u001b[0m     \u001b[38;5;66;03m#  InvalidIndexError. Otherwise we fall through and re-raise\u001b[39;00m\n\u001b[0;32m   3627\u001b[0m     \u001b[38;5;66;03m#  the TypeError.\u001b[39;00m\n\u001b[0;32m   3628\u001b[0m     \u001b[38;5;28mself\u001b[39m\u001b[38;5;241m.\u001b[39m_check_indexing_error(key)\n",
      "\u001b[1;31mKeyError\u001b[0m: 3872"
     ]
    }
   ],
   "source": [
    "allnu = 0\n",
    "for i in range(len(newJP)):\n",
    "    m = p.findall(newJP['tweet'][i])\n",
    "    if len(m) == 0:\n",
    "        print(newJP['tweet'][i])\n",
    "        newJP = newJP.drop(i)\n",
    "        allnu +=1\n",
    "print(allnu)\n",
    "        #newJP = newJP.drop(i)"
   ]
  },
  {
   "cell_type": "code",
   "execution_count": 113,
   "id": "effdfe92",
   "metadata": {},
   "outputs": [],
   "source": [
    "import re"
   ]
  },
  {
   "cell_type": "code",
   "execution_count": 65,
   "id": "fb73f090",
   "metadata": {},
   "outputs": [],
   "source": [
    "p = re.compile('[ぁ-んァ-ヶーｱ-ﾝﾞﾟ]')"
   ]
  },
  {
   "cell_type": "code",
   "execution_count": 104,
   "id": "4b9a6a2e",
   "metadata": {},
   "outputs": [
    {
     "ename": "KeyError",
     "evalue": "995",
     "output_type": "error",
     "traceback": [
      "\u001b[1;31m---------------------------------------------------------------------------\u001b[0m",
      "\u001b[1;31mKeyError\u001b[0m                                  Traceback (most recent call last)",
      "File \u001b[1;32m~\\anaconda3\\lib\\site-packages\\pandas\\core\\indexes\\base.py:3621\u001b[0m, in \u001b[0;36mIndex.get_loc\u001b[1;34m(self, key, method, tolerance)\u001b[0m\n\u001b[0;32m   3620\u001b[0m \u001b[38;5;28;01mtry\u001b[39;00m:\n\u001b[1;32m-> 3621\u001b[0m     \u001b[38;5;28;01mreturn\u001b[39;00m \u001b[38;5;28;43mself\u001b[39;49m\u001b[38;5;241;43m.\u001b[39;49m\u001b[43m_engine\u001b[49m\u001b[38;5;241;43m.\u001b[39;49m\u001b[43mget_loc\u001b[49m\u001b[43m(\u001b[49m\u001b[43mcasted_key\u001b[49m\u001b[43m)\u001b[49m\n\u001b[0;32m   3622\u001b[0m \u001b[38;5;28;01mexcept\u001b[39;00m \u001b[38;5;167;01mKeyError\u001b[39;00m \u001b[38;5;28;01mas\u001b[39;00m err:\n",
      "File \u001b[1;32m~\\anaconda3\\lib\\site-packages\\pandas\\_libs\\index.pyx:136\u001b[0m, in \u001b[0;36mpandas._libs.index.IndexEngine.get_loc\u001b[1;34m()\u001b[0m\n",
      "File \u001b[1;32m~\\anaconda3\\lib\\site-packages\\pandas\\_libs\\index.pyx:163\u001b[0m, in \u001b[0;36mpandas._libs.index.IndexEngine.get_loc\u001b[1;34m()\u001b[0m\n",
      "File \u001b[1;32mpandas\\_libs\\hashtable_class_helper.pxi:2131\u001b[0m, in \u001b[0;36mpandas._libs.hashtable.Int64HashTable.get_item\u001b[1;34m()\u001b[0m\n",
      "File \u001b[1;32mpandas\\_libs\\hashtable_class_helper.pxi:2140\u001b[0m, in \u001b[0;36mpandas._libs.hashtable.Int64HashTable.get_item\u001b[1;34m()\u001b[0m\n",
      "\u001b[1;31mKeyError\u001b[0m: 995",
      "\nThe above exception was the direct cause of the following exception:\n",
      "\u001b[1;31mKeyError\u001b[0m                                  Traceback (most recent call last)",
      "Input \u001b[1;32mIn [104]\u001b[0m, in \u001b[0;36m<cell line: 1>\u001b[1;34m()\u001b[0m\n\u001b[1;32m----> 1\u001b[0m \u001b[38;5;28mprint\u001b[39m(\u001b[43mnewJP\u001b[49m\u001b[43m[\u001b[49m\u001b[38;5;124;43m'\u001b[39;49m\u001b[38;5;124;43mtweet\u001b[39;49m\u001b[38;5;124;43m'\u001b[39;49m\u001b[43m]\u001b[49m\u001b[43m[\u001b[49m\u001b[38;5;241;43m995\u001b[39;49m\u001b[43m]\u001b[49m)\n",
      "File \u001b[1;32m~\\anaconda3\\lib\\site-packages\\pandas\\core\\series.py:958\u001b[0m, in \u001b[0;36mSeries.__getitem__\u001b[1;34m(self, key)\u001b[0m\n\u001b[0;32m    955\u001b[0m     \u001b[38;5;28;01mreturn\u001b[39;00m \u001b[38;5;28mself\u001b[39m\u001b[38;5;241m.\u001b[39m_values[key]\n\u001b[0;32m    957\u001b[0m \u001b[38;5;28;01melif\u001b[39;00m key_is_scalar:\n\u001b[1;32m--> 958\u001b[0m     \u001b[38;5;28;01mreturn\u001b[39;00m \u001b[38;5;28;43mself\u001b[39;49m\u001b[38;5;241;43m.\u001b[39;49m\u001b[43m_get_value\u001b[49m\u001b[43m(\u001b[49m\u001b[43mkey\u001b[49m\u001b[43m)\u001b[49m\n\u001b[0;32m    960\u001b[0m \u001b[38;5;28;01mif\u001b[39;00m is_hashable(key):\n\u001b[0;32m    961\u001b[0m     \u001b[38;5;66;03m# Otherwise index.get_value will raise InvalidIndexError\u001b[39;00m\n\u001b[0;32m    962\u001b[0m     \u001b[38;5;28;01mtry\u001b[39;00m:\n\u001b[0;32m    963\u001b[0m         \u001b[38;5;66;03m# For labels that don't resolve as scalars like tuples and frozensets\u001b[39;00m\n",
      "File \u001b[1;32m~\\anaconda3\\lib\\site-packages\\pandas\\core\\series.py:1069\u001b[0m, in \u001b[0;36mSeries._get_value\u001b[1;34m(self, label, takeable)\u001b[0m\n\u001b[0;32m   1066\u001b[0m     \u001b[38;5;28;01mreturn\u001b[39;00m \u001b[38;5;28mself\u001b[39m\u001b[38;5;241m.\u001b[39m_values[label]\n\u001b[0;32m   1068\u001b[0m \u001b[38;5;66;03m# Similar to Index.get_value, but we do not fall back to positional\u001b[39;00m\n\u001b[1;32m-> 1069\u001b[0m loc \u001b[38;5;241m=\u001b[39m \u001b[38;5;28;43mself\u001b[39;49m\u001b[38;5;241;43m.\u001b[39;49m\u001b[43mindex\u001b[49m\u001b[38;5;241;43m.\u001b[39;49m\u001b[43mget_loc\u001b[49m\u001b[43m(\u001b[49m\u001b[43mlabel\u001b[49m\u001b[43m)\u001b[49m\n\u001b[0;32m   1070\u001b[0m \u001b[38;5;28;01mreturn\u001b[39;00m \u001b[38;5;28mself\u001b[39m\u001b[38;5;241m.\u001b[39mindex\u001b[38;5;241m.\u001b[39m_get_values_for_loc(\u001b[38;5;28mself\u001b[39m, loc, label)\n",
      "File \u001b[1;32m~\\anaconda3\\lib\\site-packages\\pandas\\core\\indexes\\base.py:3623\u001b[0m, in \u001b[0;36mIndex.get_loc\u001b[1;34m(self, key, method, tolerance)\u001b[0m\n\u001b[0;32m   3621\u001b[0m     \u001b[38;5;28;01mreturn\u001b[39;00m \u001b[38;5;28mself\u001b[39m\u001b[38;5;241m.\u001b[39m_engine\u001b[38;5;241m.\u001b[39mget_loc(casted_key)\n\u001b[0;32m   3622\u001b[0m \u001b[38;5;28;01mexcept\u001b[39;00m \u001b[38;5;167;01mKeyError\u001b[39;00m \u001b[38;5;28;01mas\u001b[39;00m err:\n\u001b[1;32m-> 3623\u001b[0m     \u001b[38;5;28;01mraise\u001b[39;00m \u001b[38;5;167;01mKeyError\u001b[39;00m(key) \u001b[38;5;28;01mfrom\u001b[39;00m \u001b[38;5;21;01merr\u001b[39;00m\n\u001b[0;32m   3624\u001b[0m \u001b[38;5;28;01mexcept\u001b[39;00m \u001b[38;5;167;01mTypeError\u001b[39;00m:\n\u001b[0;32m   3625\u001b[0m     \u001b[38;5;66;03m# If we have a listlike key, _check_indexing_error will raise\u001b[39;00m\n\u001b[0;32m   3626\u001b[0m     \u001b[38;5;66;03m#  InvalidIndexError. Otherwise we fall through and re-raise\u001b[39;00m\n\u001b[0;32m   3627\u001b[0m     \u001b[38;5;66;03m#  the TypeError.\u001b[39;00m\n\u001b[0;32m   3628\u001b[0m     \u001b[38;5;28mself\u001b[39m\u001b[38;5;241m.\u001b[39m_check_indexing_error(key)\n",
      "\u001b[1;31mKeyError\u001b[0m: 995"
     ]
    }
   ],
   "source": [
    "print(newJP['tweet'][995])"
   ]
  },
  {
   "cell_type": "code",
   "execution_count": 85,
   "id": "d5aba75c",
   "metadata": {},
   "outputs": [
    {
     "data": {
      "text/html": [
       "<div>\n",
       "<style scoped>\n",
       "    .dataframe tbody tr th:only-of-type {\n",
       "        vertical-align: middle;\n",
       "    }\n",
       "\n",
       "    .dataframe tbody tr th {\n",
       "        vertical-align: top;\n",
       "    }\n",
       "\n",
       "    .dataframe thead th {\n",
       "        text-align: right;\n",
       "    }\n",
       "</style>\n",
       "<table border=\"1\" class=\"dataframe\">\n",
       "  <thead>\n",
       "    <tr style=\"text-align: right;\">\n",
       "      <th></th>\n",
       "      <th>tweet</th>\n",
       "      <th>label</th>\n",
       "    </tr>\n",
       "  </thead>\n",
       "  <tbody>\n",
       "    <tr>\n",
       "      <th>0</th>\n",
       "      <td>平和が一番好きなのになー楽しくやりたいよね</td>\n",
       "      <td>1</td>\n",
       "    </tr>\n",
       "    <tr>\n",
       "      <th>1</th>\n",
       "      <td>名前かしわ呼び方かしわ写真撮れるかとれる彼氏彼女いそういそう好き嫌い好き付き合えるかごめん通...</td>\n",
       "      <td>1</td>\n",
       "    </tr>\n",
       "    <tr>\n",
       "      <th>2</th>\n",
       "      <td>カッサビアーーーーーンいやーかっこよかったーーヘイナウみたいに座ってからジャーンプとかあった...</td>\n",
       "      <td>1</td>\n",
       "    </tr>\n",
       "    <tr>\n",
       "      <th>3</th>\n",
       "      <td>デザートおめーめちゃめちゃに楽しかったコラボお疲れ様でした</td>\n",
       "      <td>1</td>\n",
       "    </tr>\n",
       "    <tr>\n",
       "      <th>4</th>\n",
       "      <td>えどっちも楽しいから同じぐらいの値段になるんじゃないん</td>\n",
       "      <td>1</td>\n",
       "    </tr>\n",
       "    <tr>\n",
       "      <th>...</th>\n",
       "      <td>...</td>\n",
       "      <td>...</td>\n",
       "    </tr>\n",
       "    <tr>\n",
       "      <th>39928</th>\n",
       "      <td>昨日匹釣り上げたやつだわあつ森でな</td>\n",
       "      <td>0</td>\n",
       "    </tr>\n",
       "    <tr>\n",
       "      <th>39929</th>\n",
       "      <td>電通の中抜きより違う方の抜きが強く伝わってしまいましたニヤり</td>\n",
       "      <td>0</td>\n",
       "    </tr>\n",
       "    <tr>\n",
       "      <th>39930</th>\n",
       "      <td>リョーマヲチパで盛り上がれそうだからアマプラ来て欲しかったりする</td>\n",
       "      <td>0</td>\n",
       "    </tr>\n",
       "    <tr>\n",
       "      <th>39931</th>\n",
       "      <td>俺は何かで読んだフランツフェルディナンドの売れ方にずっと憧れてた廃校で勝手に夜な夜なライブし...</td>\n",
       "      <td>0</td>\n",
       "    </tr>\n",
       "    <tr>\n",
       "      <th>39932</th>\n",
       "      <td>もちろんその女子大生が嫌がっているかどうかはわかりませんが明らかに邪魔そうにしている店員に馴...</td>\n",
       "      <td>0</td>\n",
       "    </tr>\n",
       "  </tbody>\n",
       "</table>\n",
       "<p>39933 rows × 2 columns</p>\n",
       "</div>"
      ],
      "text/plain": [
       "                                                   tweet  label\n",
       "0                                  平和が一番好きなのになー楽しくやりたいよね      1\n",
       "1      名前かしわ呼び方かしわ写真撮れるかとれる彼氏彼女いそういそう好き嫌い好き付き合えるかごめん通...      1\n",
       "2      カッサビアーーーーーンいやーかっこよかったーーヘイナウみたいに座ってからジャーンプとかあった...      1\n",
       "3                          デザートおめーめちゃめちゃに楽しかったコラボお疲れ様でした      1\n",
       "4                            えどっちも楽しいから同じぐらいの値段になるんじゃないん      1\n",
       "...                                                  ...    ...\n",
       "39928                                  昨日匹釣り上げたやつだわあつ森でな      0\n",
       "39929                     電通の中抜きより違う方の抜きが強く伝わってしまいましたニヤり      0\n",
       "39930                   リョーマヲチパで盛り上がれそうだからアマプラ来て欲しかったりする      0\n",
       "39931  俺は何かで読んだフランツフェルディナンドの売れ方にずっと憧れてた廃校で勝手に夜な夜なライブし...      0\n",
       "39932  もちろんその女子大生が嫌がっているかどうかはわかりませんが明らかに邪魔そうにしている店員に馴...      0\n",
       "\n",
       "[39933 rows x 2 columns]"
      ]
     },
     "execution_count": 85,
     "metadata": {},
     "output_type": "execute_result"
    }
   ],
   "source": [
    "newJP.reset_index(drop=True)"
   ]
  },
  {
   "cell_type": "code",
   "execution_count": 119,
   "id": "1b1778d3",
   "metadata": {
    "scrolled": true
   },
   "outputs": [
    {
     "name": "stdout",
     "output_type": "stream",
     "text": [
      "                                                   tweet  label\n",
      "0                                色んなオタクしましためちゃくちゃ楽しかったなあ      1\n",
      "1         アンサングデュエット残夜までちゃんぽろ突発やらせていただきました楽しかった腐れ縁っていいよな      1\n",
      "2                                     また一緒に歌えて楽しかったよ第話美月      1\n",
      "3      みぃなちゃんがエオルゼア光の戦士にキャラメイクのセンスの高さにほんと脱帽ほんまかわいく美人に...      1\n",
      "4                                       お疲れ様でした楽しいのが番ですね      1\n",
      "...                                                  ...    ...\n",
      "39994                                           ボチボチでんなぁ      0\n",
      "39996                          ふわぁさすがに眠くなってきちゃったそろそろねよっか      0\n",
      "39997                                        人魚メーカーで作った子      0\n",
      "39998             お盆休みに南の島に行ってきた楽しい人たちが大量に電車に乗っている近寄らないで      0\n",
      "39999                                             たのしかった      0\n",
      "\n",
      "[39397 rows x 2 columns]\n"
     ]
    }
   ],
   "source": [
    "print(newJP)"
   ]
  },
  {
   "cell_type": "code",
   "execution_count": 120,
   "id": "ef66d412",
   "metadata": {},
   "outputs": [],
   "source": [
    "newJP.to_csv('./newJPppp.csv', index=False, encoding=\"utf-8-sig\")"
   ]
  },
  {
   "cell_type": "code",
   "execution_count": 122,
   "id": "6efb1359",
   "metadata": {},
   "outputs": [],
   "source": [
    "newJPpp = pd.read_csv(\"./newJPppp.csv\")"
   ]
  },
  {
   "cell_type": "code",
   "execution_count": 144,
   "id": "477337e1",
   "metadata": {},
   "outputs": [],
   "source": [
    "B = newJPpp.sample(n=10, replace=False)"
   ]
  },
  {
   "cell_type": "code",
   "execution_count": 145,
   "id": "b82ddbac",
   "metadata": {},
   "outputs": [],
   "source": [
    "B.to_csv('./ForserJP.csv', index=False, encoding=\"utf-8-sig\")"
   ]
  },
  {
   "cell_type": "code",
   "execution_count": null,
   "id": "e9302fca",
   "metadata": {},
   "outputs": [],
   "source": []
  }
 ],
 "metadata": {
  "kernelspec": {
   "display_name": "Python 3 (ipykernel)",
   "language": "python",
   "name": "python3"
  },
  "language_info": {
   "codemirror_mode": {
    "name": "ipython",
    "version": 3
   },
   "file_extension": ".py",
   "mimetype": "text/x-python",
   "name": "python",
   "nbconvert_exporter": "python",
   "pygments_lexer": "ipython3",
   "version": "3.9.12"
  }
 },
 "nbformat": 4,
 "nbformat_minor": 5
}
