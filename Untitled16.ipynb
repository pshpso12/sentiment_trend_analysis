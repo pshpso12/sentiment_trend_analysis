{
 "cells": [
  {
   "cell_type": "code",
   "execution_count": 1,
   "id": "a69a3ea9",
   "metadata": {},
   "outputs": [],
   "source": [
    "from wordcloud import WordCloud, STOPWORDS \n",
    "import matplotlib.pyplot as plt \n",
    "from matplotlib import rc\n",
    "import pandas as pd \n",
    "import urllib.request\n",
    "import numpy as np"
   ]
  },
  {
   "cell_type": "code",
   "execution_count": 2,
   "id": "bc4b1154",
   "metadata": {},
   "outputs": [],
   "source": [
    "word_1 = ['나오는', '즐거움', '삐짐', '웃음은', '하하', '볼때마다', '웃음으로', '나와', '느끼는', '당신', '뭐야', '행복이', '웃음', '소소한', '원망', '오랜만에', '평생', '개저웃음', '행복은', '행복', '작게', '내게', '행복과', '고마워', '기쁨을', '행복도', '웃음기', '행복을', '사랑', '생일', '말에', '당신은', '있다는', '주는', '표정', '웃음도', '축하해', '나에게', '보며', '사랑을', '화남', '좋겠어', '즐거움을', '순간', '짓고', '기쁨', '행복회로', '출처', '나옴', '행복만', '행복의', '평소', '가득한', '우리가', '행복에', '즐거움이', '잘못', '위한', '고개', '봐도', '귀여운', 'ㅋㅋㅋㅋㅋㅋ', '웃음을', '웃음에', '예쁜', '우리의', '행복해', '웃음이', '소중한', '있습니다', '잠시', '세상', '함박웃음', '음', '영상', '새로운', '있다면', '신남', '짓는', '기쁨의', '행복하게', '웃음만', '가득', '여전히', '행복해보여서', '앞으로도', '크게', '당신을', '행복으로', '기쁨이', '헛웃음', '귀여워서', '부탁']"
   ]
  },
  {
   "cell_type": "code",
   "execution_count": 3,
   "id": "8894a4ad",
   "metadata": {},
   "outputs": [],
   "source": [
    "word_2 = ['여기', '아쉬울', '그러다', '울다가', '아마', '이러고', '냅다', '마음을', '귀여울', '시간이', '나한테', '울지마', '이젠', '된다', '애가', '그대로', '없는데', '울어', '같고', '자기가', '되게', '슬픔에', '울기', '싶은데', '슬픔이', '거의', '했다', 'ㅠㅠㅠ', '어려울', '아무도', '밖에', '아닌데', '솔직히', '보고싶다', '수가', '정도로', '가서', '울고싶다', '생각을', '언니', '저렇게', '엄마', '울다', '우는', '집에', '둘다', '오히려', '있었다', '이번', '슬픔의', '모르는', '같다', '슬픔은', '가는', '아니야', '울고', '아님', '제대로', '슬픔을', '앞에서', '애들', '싶다', '그때', '울게', '애도', '슬픔과', '싶어서', '귀엽다', '보니까', '눈물을', '눈물이', '울지', '내일', '슬픔도', '아니다', '울겠다', 'ㄹㅇ', '무서울', '와서', '그러면', '없고', '지금은', '아무것도', '엉엉', '나랑', '애기']"
   ]
  },
  {
   "cell_type": "code",
   "execution_count": 4,
   "id": "8aef6540",
   "metadata": {},
   "outputs": [],
   "source": [
    "word_3 = ['저런', '분노하는', '역겹다', '미워하고', '분노와', '시기하고', '구역질', '징그럽다', '더럽다고', '시샘하고', '그라데이션', '화가', '분노로', '씹새끼', '시발', '구역질이', '흉측한', '감정이', '구역질을', '것에', '더럽다', '더럽게', '더럽고', '새끼', '분노는', '씨발', '질투하고', '분노도', '감정을', '역겹고', '향한', '분노의', '더러운', '분노하고', '징그럽게', '분개하고', '절망하고', '분노', '분노한', '슬퍼하고', '분노할', '아파하고', '난다', '분노를', '분노가', '징그럽고', '분노에']"
   ]
  },
  {
   "cell_type": "code",
   "execution_count": 66,
   "id": "3fde1d2b",
   "metadata": {},
   "outputs": [],
   "source": [
    "test1 = '정규민진짜 싫어 난 저런인간이 너무 싫어'"
   ]
  },
  {
   "cell_type": "code",
   "execution_count": 39,
   "id": "1d325ee9",
   "metadata": {},
   "outputs": [],
   "source": [
    "test1li = test1.replace('^ +', \"\")"
   ]
  },
  {
   "cell_type": "code",
   "execution_count": 40,
   "id": "1d9f51e3",
   "metadata": {},
   "outputs": [],
   "source": [
    "test1li = test1li.split(' ')"
   ]
  },
  {
   "cell_type": "code",
   "execution_count": 41,
   "id": "5c5125be",
   "metadata": {},
   "outputs": [
    {
     "name": "stdout",
     "output_type": "stream",
     "text": [
      "['해은언니', '잠깐', '저랑', '얘기', '좀', '해요']\n"
     ]
    }
   ],
   "source": [
    "print(test1li)"
   ]
  },
  {
   "cell_type": "code",
   "execution_count": 67,
   "id": "fb271c47",
   "metadata": {},
   "outputs": [],
   "source": [
    "for i in word_1:\n",
    "    if test1.find(i) != -1:\n",
    "        print(i)\n",
    "        print(test1.find(i))"
   ]
  },
  {
   "cell_type": "code",
   "execution_count": 68,
   "id": "052c7f3c",
   "metadata": {},
   "outputs": [],
   "source": [
    "for i in word_2:\n",
    "    if test1.find(i) != -1:\n",
    "        print(i)\n",
    "        print(test1.find(i))"
   ]
  },
  {
   "cell_type": "code",
   "execution_count": 69,
   "id": "e37e62b1",
   "metadata": {},
   "outputs": [
    {
     "name": "stdout",
     "output_type": "stream",
     "text": [
      "저런\n",
      "11\n"
     ]
    }
   ],
   "source": [
    "for i in word_3:\n",
    "    if test1.find(i) != -1:\n",
    "        print(i)\n",
    "        print(test1.find(i))"
   ]
  },
  {
   "cell_type": "code",
   "execution_count": 43,
   "id": "1e91e073",
   "metadata": {},
   "outputs": [
    {
     "name": "stdout",
     "output_type": "stream",
     "text": [
      "0 0 0\n"
     ]
    }
   ],
   "source": [
    "print(check_1, check_2, check_3)"
   ]
  },
  {
   "cell_type": "code",
   "execution_count": null,
   "id": "4396c0fe",
   "metadata": {},
   "outputs": [],
   "source": []
  }
 ],
 "metadata": {
  "kernelspec": {
   "display_name": "Python 3 (ipykernel)",
   "language": "python",
   "name": "python3"
  },
  "language_info": {
   "codemirror_mode": {
    "name": "ipython",
    "version": 3
   },
   "file_extension": ".py",
   "mimetype": "text/x-python",
   "name": "python",
   "nbconvert_exporter": "python",
   "pygments_lexer": "ipython3",
   "version": "3.9.12"
  }
 },
 "nbformat": 4,
 "nbformat_minor": 5
}
