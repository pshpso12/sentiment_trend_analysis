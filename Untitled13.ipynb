{
 "cells": [
  {
   "cell_type": "code",
   "execution_count": 1,
   "id": "77405acd",
   "metadata": {},
   "outputs": [],
   "source": [
    "import numpy as np\n",
    "import pandas as pd\n",
    "import matplotlib.pyplot as plt\n",
    "import urllib.request\n",
    "from sklearn.model_selection import train_test_split"
   ]
  },
  {
   "cell_type": "code",
   "execution_count": 2,
   "id": "53bd8259",
   "metadata": {},
   "outputs": [
    {
     "name": "stdout",
     "output_type": "stream",
     "text": [
      "<class 'pandas.core.frame.DataFrame'>\n",
      "RangeIndex: 39397 entries, 0 to 39396\n",
      "Data columns (total 2 columns):\n",
      " #   Column  Non-Null Count  Dtype \n",
      "---  ------  --------------  ----- \n",
      " 0   tweet   39397 non-null  object\n",
      " 1   label   39397 non-null  int64 \n",
      "dtypes: int64(1), object(1)\n",
      "memory usage: 615.7+ KB\n"
     ]
    }
   ],
   "source": [
    "kr_data = pd.read_csv('./newKR.csv')\n",
    "\n",
    "jp_data = pd.read_csv('./newJPppp.csv')\n",
    "\n",
    "jp_data.info()"
   ]
  },
  {
   "cell_type": "code",
   "execution_count": 3,
   "id": "9fa28b35",
   "metadata": {},
   "outputs": [
    {
     "name": "stdout",
     "output_type": "stream",
     "text": [
      "결측값 여부 : False\n"
     ]
    },
    {
     "data": {
      "text/html": [
       "<div>\n",
       "<style scoped>\n",
       "    .dataframe tbody tr th:only-of-type {\n",
       "        vertical-align: middle;\n",
       "    }\n",
       "\n",
       "    .dataframe tbody tr th {\n",
       "        vertical-align: top;\n",
       "    }\n",
       "\n",
       "    .dataframe thead th {\n",
       "        text-align: right;\n",
       "    }\n",
       "</style>\n",
       "<table border=\"1\" class=\"dataframe\">\n",
       "  <thead>\n",
       "    <tr style=\"text-align: right;\">\n",
       "      <th></th>\n",
       "      <th>tweet</th>\n",
       "      <th>label</th>\n",
       "    </tr>\n",
       "  </thead>\n",
       "  <tbody>\n",
       "  </tbody>\n",
       "</table>\n",
       "</div>"
      ],
      "text/plain": [
       "Empty DataFrame\n",
       "Columns: [tweet, label]\n",
       "Index: []"
      ]
     },
     "execution_count": 3,
     "metadata": {},
     "output_type": "execute_result"
    }
   ],
   "source": [
    "print('결측값 여부 :',jp_data.isnull().values.any())\n",
    "\n",
    "jp_data[jp_data['tweet'].isnull()]"
   ]
  },
  {
   "cell_type": "code",
   "execution_count": 4,
   "id": "1384d49e",
   "metadata": {},
   "outputs": [
    {
     "name": "stdout",
     "output_type": "stream",
     "text": [
      "v2열의 유니크한 값 : 38523\n",
      "총 샘플의 수 : 38523\n"
     ]
    },
    {
     "data": {
      "text/plain": [
       "<AxesSubplot:>"
      ]
     },
     "execution_count": 4,
     "metadata": {},
     "output_type": "execute_result"
    },
    {
     "data": {
      "image/png": "[encoded data removed]",
      "text/plain": [
       "<Figure size 432x288 with 1 Axes>"
      ]
     },
     "metadata": {
      "needs_background": "light"
     },
     "output_type": "display_data"
    }
   ],
   "source": [
    "print('v2열의 유니크한 값 :',jp_data['tweet'].nunique())\n",
    "\n",
    "jp_data.drop_duplicates(subset=['tweet'], inplace=True)\n",
    "\n",
    "print('총 샘플의 수 :',len(jp_data))\n",
    "\n",
    "jp_data['label'].value_counts().plot(kind='bar')"
   ]
  },
  {
   "cell_type": "code",
   "execution_count": 5,
   "id": "c2d26f39",
   "metadata": {},
   "outputs": [
    {
     "name": "stdout",
     "output_type": "stream",
     "text": [
      "메일 본문의 개수: 38523\n",
      "레이블의 개수: 38523\n"
     ]
    }
   ],
   "source": [
    "x_jpdata = jp_data['tweet']\n",
    "y_jpdata = jp_data['label']\n",
    "\n",
    "print('메일 본문의 개수: {}'.format(len(x_jpdata)))\n",
    "print('레이블의 개수: {}'.format(len(y_jpdata)))\n",
    "\n",
    "X_train, X_test, y_train, y_test = train_test_split(x_jpdata, y_jpdata, test_size=0.2, random_state=0, stratify=y_jpdata)"
   ]
  },
  {
   "cell_type": "code",
   "execution_count": 6,
   "id": "1a4e07fc",
   "metadata": {},
   "outputs": [],
   "source": [
    "import MeCab\n",
    "mecab_tagger = MeCab.Tagger(\"-Owakati\")"
   ]
  },
  {
   "cell_type": "code",
   "execution_count": 7,
   "id": "a9976879",
   "metadata": {},
   "outputs": [
    {
     "name": "stdout",
     "output_type": "stream",
     "text": [
      "[('無印', 5), ('幼女', 5), ('追いかける', 5), ('ざっ', 5), ('泊まっ', 5), ('報復', 5), ('バイオレンス', 5), ('関', 5), ('納め', 5), ('サッパリ', 5), ('見解', 5), ('どうこう', 5), ('叶え', 5), ('懸念', 5), ('水田', 5), ('ピンチ', 5), ('ミュ', 5), ('時空', 5), ('居れ', 5), ('引きこもり', 5), ('ちょいと', 5), ('有能', 5), ('ビュー', 5), ('オメガ', 5), ('カブ', 5), ('クルマ', 5), ('挙動', 5), ('迫る', 5), ('交友', 5), ('引っかかっ', 5), ('なつやすみ', 5), ('ギン', 5), ('減点', 5), ('二郎', 5), ('アクア', 5), ('いじり', 5), ('笑お', 5), ('渾身', 5), ('溜め', 5), ('救出', 5), ('肘', 5), ('弊社', 5), ('らしき', 5), ('ビ', 5), ('デタラメ', 5), ('ケド', 5), ('デカく', 5), ('タダ', 5), ('瀕死', 5), ('費やし', 5), ('キメ', 5), ('変われ', 5), ('プリマ', 5), ('タブー', 5), ('帰れる', 5), ('呆れる', 5), ('トライ', 5), ('初恋', 5), ('山崎', 5), ('スクリーン', 5), ('ギル', 5), ('推理', 5), ('愛で', 5), ('りえん', 5), ('緩和', 5), ('ファースト', 5), ('近づく', 5), ('貯まる', 5), ('とたん', 5), ('シチュ', 5), ('出口', 5), ('密度', 5), ('ハプニング', 5), ('逢い', 5), ('ガッツ', 5), ('弱み', 5), ('貰う', 5), ('闘志', 5), ('じゃー', 5), ('ベビ', 5), ('味わえ', 5), ('たけ', 5), ('裏切る', 5), ('ジュニア', 5), ('気絶', 5), ('ムラ', 5), ('受信', 5), ('怒り顔', 5), ('気さく', 5), ('進', 5), ('ネーミング', 5), ('ラブコメ', 5), ('攻', 5), ('断っ', 5), ('アクティブ', 5), ('釈迦', 5), ('わしゃ', 5), ('終止', 5), ('浜', 5), ('敬遠', 5), ('境', 5), ('近隣', 5), ('叱る', 5), ('叱り', 5), ('フライパン', 5), ('掘る', 5), ('低下', 5), ('ばけ', 5), ('ぷー', 5), ('論争', 5), ('アドリブ', 5), ('宝塚', 5), ('発掘', 5), ('健やか', 5), ('訪れる', 5), ('音質', 5), ('添付', 5), ('素麺', 5), ('暗記', 5), ('違え', 5), ('叶う', 5), ('令', 5), ('ネジ', 5), ('びしょびしょ', 5), ('ヤッ', 5), ('被弾', 5), ('配', 5), ('胸糞', 5), ('ちゅん', 5), ('上陸', 5), ('塚', 5), ('すけべ', 5), ('パンケーキ', 5), ('へえ', 5), ('ユニクロ', 5), ('ほんのり', 5), ('コロコロ', 5), ('ふゆ', 5), ('削る', 5), ('ハピ', 5), ('クサイ', 5), ('生気', 5), ('フレーズ', 5), ('でしょー', 5), ('海苔', 5), ('審神者', 5), ('シュー', 5), ('はね', 5), ('廉く', 5), ('アメスピ', 5), ('生き残る', 5), ('国語', 5), ('千歳', 5), ('ホース', 5), ('ってぇ', 5), ('許容', 5), ('引き寄せ', 5), ('バブ', 5), ('バリ', 5), ('匂う', 5), ('寒く', 5), ('驚か', 5), ('乗れる', 5), ('定型', 5), ('恋心', 5), ('陰口', 5), ('恐ろしく', 5), ('始動', 5), ('出馬', 5), ('かと', 5), ('向上', 5), ('狼', 5), ('ファミコン', 5), ('要る', 5), ('パジャマ', 5), ('ブロッコリー', 5), ('見下し', 5), ('和装', 5), ('エコー', 5), ('八木', 5), ('方面', 5), ('ﾋ', 5), ('委託', 5), ('ケータイ', 5), ('おっしゃっ', 5), ('代弁', 5), ('許', 5), ('自粛', 5), ('居心地', 5), ('沸か', 5), ('みっともない', 5), ('口元', 5), ('手抜き', 5), ('圧力', 5), ('飲める', 5), ('領域', 5), ('マスターデュエル', 5), ('族', 5), ('したがっ', 5), ('落合', 5), ('手探り', 5), ('惚気', 5), ('改良', 5), ('リモート', 5), ('上目', 5), ('遣い', 5), ('秀逸', 5), ('運ぶ', 5), ('コマ', 5), ('さっそく', 5), ('深海', 5), ('持ち歩い', 5), ('徳', 5), ('母校', 5), ('系列', 5), ('栄光', 5), ('とろ', 5), ('ベタベタ', 5), ('偽', 5), ('合作', 5), ('鴨', 5), ('たき', 5), ('堪ら', 5), ('優里', 5), ('事項', 5), ('本目', 5), ('へぇ', 5), ('豚骨', 5), ('醍醐', 5), ('エッセイ', 5), ('一条', 5), ('ゆかり', 5), ('切なく', 5), ('ハナ', 5), ('酸欠', 5), ('どんぐり', 5), ('ペンライト', 5), ('郡山', 5), ('ハシゴ', 5), ('取り扱い', 5), ('催促', 5), ('拭か', 5), ('愛す', 5), ('妾', 5), ('ネイビー', 5), ('めった', 5), ('深み', 5), ('沖', 5), ('ジェシー', 5), ('危うく', 5), ('ボロクソ', 5), ('保つ', 5), ('タイムス', 5), ('玉子', 5), ('タウン', 5), ('繋げ', 5), ('風格', 5), ('がわ', 5), ('汚く', 5), ('従兄弟', 5), ('いただけれ', 5), ('既存', 5), ('フォント', 5), ('割り切っ', 5), ('ダンテ', 5), ('コピ', 5), ('同胞', 5), ('ルー', 5), ('裕太', 5), ('マクロ', 5), ('防犯', 5), ('降る', 5), ('まみ', 5), ('切り落とさ', 5), ('快感', 5), ('掛け合い', 5), ('組む', 5), ('ｽﾔ', 5), ('リーク', 5), ('喰らい', 5), ('抗原', 5), ('右目', 5), ('あたま', 5), ('装飾', 5), ('雄大', 5), ('ズルい', 5), ('レる', 5), ('試行', 5), ('シチュエーション', 5), ('呼び出し', 5), ('怠惰', 5), ('立浪', 5), ('呪詛', 5), ('虚しく', 5), ('クル', 5), ('惑星', 5), ('戒', 5), ('染', 5), ('ヒント', 5), ('配送', 5), ('ムル', 5), ('ゆっ', 5), ('輝い', 5), ('急遽', 5), ('被せ', 5), ('濡れる', 5), ('尻尾', 5), ('譲れ', 5), ('医学', 5), ('節介', 5), ('ゴン', 5), ('やべえ', 5), ('暦', 5), ('悪事', 5), ('タイマー', 5), ('予備', 5), ('前職', 5), ('ワープ', 5), ('拝ん', 5), ('振り返る', 5), ('湾', 5), ('伸ばす', 5), ('アマルフィ', 5), ('バナー', 5), ('粘着', 5), ('スイング', 5), ('弾く', 5), ('惜しく', 5), ('キヨ', 5), ('用事', 5), ('心情', 5), ('物凄く', 5), ('売春', 5), ('騎乗', 5), ('リレ', 5), ('試み', 5), ('だに', 5), ('カイト', 5), ('マジカル', 5), ('涼しかっ', 5), ('不潔', 5), ('トム', 5), ('息抜き', 5), ('優しかっ', 5), ('アモアス', 5), ('手法', 5), ('赴任', 5), ('便秘', 5), ('横転', 5), ('まいり', 5), ('フォロワ', 5), ('ちゃおう', 5), ('裏話', 5), ('岸辺', 5), ('給与', 5), ('庭師', 5), ('トータル', 5), ('うれし', 5), ('ジー', 5), ('動かさ', 5), ('拾う', 5), ('衰え', 5), ('フォルダ', 5), ('もやもや', 5), ('おんぶ', 5), ('ﾍﾟｺﾘ', 5), ('立ち回り', 5), ('作目', 5), ('付き添い', 5), ('ナワバリ', 5), ('先読み', 5), ('ルーレット', 5), ('取り戻し', 5), ('増', 5), ('かき', 5), ('がてら', 5), ('お洒落', 5), ('正式', 5), ('尽くさ', 5), ('万引き', 5), ('ジャンボ', 5), ('くるくる', 5), ('レット', 5), ('ナンパ', 5), ('ハルク', 5), ('敬意', 5), ('イエズス', 5), ('ノンケ', 5), ('衰退', 5), ('茨城', 5), ('分断', 5), ('理事', 5), ('カープ', 5), ('ギュ', 5), ('見ろ', 5), ('筈', 5), ('黄金', 5), ('ブルーム', 5), ('庇護', 5), ('発端', 5), ('喋ん', 5), ('単発', 5), ('改変', 5), ('放射', 5), ('禁煙', 5), ('櫻井', 5), ('工', 5), ('おもい', 5), ('行事', 5), ('片っ端', 5), ('役員', 5), ('輝き', 5), ('贔屓', 5), ('あやうく', 5), ('増幅', 5), ('バード', 5), ('基づく', 5), ('連番', 5), ('梅雨', 5), ('タロット', 5), ('苛ま', 5), ('流せ', 5), ('きき', 5), ('日月', 5), ('脅かし', 5), ('トイレット', 5), ('トラップ', 5), ('温もり', 5), ('恒例', 5), ('ともだち', 5), ('元帥', 5), ('ヨウ', 5), ('無敵', 5), ('白米', 5), ('昼夜', 5), ('ゴースト', 5), ('鬱陶しい', 5), ('加熱', 5), ('市長', 5), ('たまご', 5), ('しず', 5), ('知名', 5), ('暴食', 5), ('チラシ', 5), ('サロメ', 5), ('ノイズ', 5), ('はやっ', 5), ('映る', 5), ('知恵', 5), ('解体', 5), ('インテリア', 5), ('グダグダ', 5), ('気兼ね', 5), ('薬局', 5), ('オカルト', 5), ('ｷ', 5), ('天狗', 5), ('エゴサ', 5), ('思春', 5), ('発熱', 5), ('茶会', 5), ('かけ離れ', 5), ('ぶー', 5), ('侑', 5), ('つぶやき', 5), ('コラーゲン', 5), ('撫でる', 5), ('ゲリラ', 5), ('野望', 5), ('沈む', 5), ('バウンティ', 5), ('陥り', 5), ('クリエイティブ', 5), ('ブリーズ', 5), ('屑', 5), ('ヘル', 5), ('変えよう', 5), ('退場', 5), ('淡', 5), ('憧れる', 5), ('観覧', 5), ('せっけん', 5), ('焦げ', 5), ('覗か', 5), ('フォー', 5), ('オーダー', 5), ('ガリガリ', 5), ('爆睡', 5), ('独裁', 5), ('唱える', 5), ('栄冠', 5), ('珈琲', 5), ('うそ', 5), ('ネエ', 5), ('まさしく', 5), ('称号', 5), ('花園', 5), ('腰痛', 5), ('かぶっ', 5), ('こな', 5), ('うきうき', 5), ('アンデルセン', 5), ('かま', 5), ('溝', 5), ('直球', 5), ('話し合っ', 5), ('おもん', 5), ('なまじ', 5), ('ドライ', 5), ('しまむら', 5), ('接続', 5), ('ひっくり返っ', 5), ('赤髪', 5), ('権威', 5), ('レール', 5), ('幹事', 5), ('罒', 5), ('求', 5), ('ポリ', 5), ('ずいぶん', 5), ('絶叫', 5), ('近年', 5), ('治験', 5), ('逃れ', 5), ('今晩', 5), ('激し', 5), ('どいつ', 5), ('印刷', 5), ('吹き', 5), ('オフィス', 5), ('工場', 5), ('願', 5), ('キリ', 5), ('プラモ', 5), ('ティア', 5), ('平均', 5), ('アド', 5), ('飾り', 5), ('先ほど', 5), ('ジェ', 5), ('催し', 5), ('もて', 5), ('燃焼', 5), ('懲り', 5), ('かこ', 5), ('楚', 5), ('終焉', 5), ('ぽく', 5), ('恨む', 5), ('泊まる', 5), ('加湿', 5), ('髪切り', 5), ('務め', 5), ('集める', 5), ('教祖', 5), ('総務', 5), ('みほ', 5), ('寄り添っ', 5), ('クライアント', 5), ('底辺', 5), ('浴びる', 5), ('支部', 5), ('損ない', 5), ('祝', 5), ('冴え', 5), ('貶す', 5), ('大差', 5), ('ミスコン', 5), ('格闘', 5), ('開示', 5), ('只', 5), ('とらえ', 5), ('カツ丼', 5), ('ブース', 5), ('白人', 5), ('逃げろ', 5), ('ドライバー', 5), ('鼻腔', 5), ('てるぅ', 5), ('了', 5), ('老後', 5), ('マヨ', 5), ('思', 5), ('ダル', 5), ('大吉', 5), ('臭化', 5), ('土砂降り', 5), ('たな', 5), ('ベガー', 5), ('正論', 5), ('蝶', 5), ('閣下', 5), ('アスリート', 5), ('埃', 5), ('人道', 5), ('換金', 5), ('置き去り', 5), ('かれ', 5), ('俗', 5), ('うおお', 5), ('カメ', 5), ('すず', 5), ('倉庫', 5), ('膨らむ', 5), ('湿気', 5), ('吹く', 5), ('ちゃおっ', 5), ('加入', 5), ('イリチル', 5), ('斬る', 5), ('見届け', 5), ('ブロンズ', 5), ('あそん', 5), ('っつっ', 5), ('近親', 5), ('破綻', 5), ('空く', 5), ('軽蔑', 5), ('高知', 5), ('嗅ぐ', 5), ('贈り物', 5), ('分与', 5), ('かの', 5), ('緩く', 5), ('渋', 5), ('飛び出し', 5), ('ミュージシャン', 5), ('右側', 5), ('奪い', 5), ('当てる', 5), ('くだり', 5), ('ハンバーグ', 5), ('肥前', 5), ('船橋', 5), ('今作', 5), ('預け', 5), ('カイ', 5), ('桑田', 5), ('盤', 5), ('代償', 5), ('本心', 5), ('おや', 5), ('潮', 5), ('快', 5), ('合宿', 5), ('要する', 5), ('がんばろー', 5), ('起', 5), ('鷹', 5), ('ちひろ', 5), ('金利', 5), ('インフレ', 5), ('痛かっ', 5), ('人魚', 5), ('偽り', 5), ('づらかっ', 5), ('テレ', 5), ('木村', 5), ('漁港', 5), ('屋根', 5), ('決戦', 5), ('アバ', 5), ('基', 5), ('訴えよう', 5), ('大手', 5), ('レバー', 5), ('仰る', 5), ('トト', 5), ('混雑', 5), ('厨房', 5), ('堂島', 5), ('ちあき', 5), ('しゃべっ', 5), ('緩い', 5), ('二十', 5), ('がつ', 5), ('晩酌', 5), ('マーケット', 5), ('っしょ', 5), ('虜', 5), ('簡易', 5), ('毎朝', 5), ('えび', 5), ('弾き', 5), ('奥底', 5), ('人前', 5), ('中野', 5), ('ユー', 5), ('葉月', 5), ('長年', 5), ('続か', 5), ('隅', 5), ('ハリー', 5), ('ハム太郎', 5), ('千尋', 5), ('閲覧', 5), ('ねる', 5), ('盛っ', 5), ('ラピュタ', 5), ('激安', 5), ('近江', 5), ('京浜', 5), ('平安', 5), ('忍び込ん', 5), ('かえって', 5), ('キャンディ', 5), ('たいへん', 5), ('のびのび', 5), ('目立ち', 5), ('温め', 5), ('時差', 5), ('愛猫', 5), ('うんざり', 5), ('段取り', 5), ('美顔', 5), ('隠さ', 5), ('末っ子', 5), ('立て続け', 5), ('共用', 5), ('軍団', 5), ('スゴい', 5), ('皆無', 5), ('長続き', 5), ('魚介', 5), ('半額', 5), ('色塗り', 5), ('拡張', 5), ('侵害', 5), ('きっちり', 5), ('エエ', 5), ('っぺ', 5), ('セイバー', 5), ('クッション', 5), ('スパン', 5), ('ﾙﾙ', 5), ('ﾃﾞｽ', 5), ('かます', 5), ('ハワイ', 5), ('進出', 5), ('戦車', 5), ('コスパ', 5), ('人種', 5), ('ばー', 5), ('満面', 5), ('無効', 5), ('典型', 5), ('哀', 5), ('フェニックス', 5), ('ランドリー', 5), ('フロ', 5), ('ギャーギャー', 5), ('合意', 5), ('うぉー', 5), ('じんわり', 5), ('噛み締め', 5), ('ちょくちょく', 5), ('空軍', 5), ('釘', 5), ('梅田', 5), ('どうり', 5), ('明里', 5), ('陽世', 5), ('噛ん', 5), ('精度', 5), ('つわり', 5), ('身分', 5), ('泥酔', 5), ('ねね', 5), ('還元', 5), ('チャーハン', 5), ('苦しめる', 5), ('ぢゃ', 5), ('箱根', 5), ('アラサー', 5), ('脅威', 5), ('クライ', 5), ('間引く', 5), ('戦犯', 5), ('高松', 5), ('如何', 5), ('いたく', 5), ('誘う', 5), ('単体', 5), ('賭け', 5), ('カニ', 5), ('やがれ', 5), ('家具', 5), ('ビルド', 5), ('バッタ', 5), ('色紙', 5), ('果たす', 5), ('下心', 5), ('攻める', 5), ('いれる', 5), ('てよう', 5), ('いな', 5), ('注い', 5), ('さわやか', 5), ('咲か', 5), ('疾走', 5), ('預金', 5), ('絶縁', 5), ('わりぃ', 5), ('適量', 5), ('受精', 5), ('積み上げ', 5), ('供養', 5), ('トレード', 5), ('ターゲット', 5), ('隠蔽', 5), ('姑', 5), ('速く', 5), ('つぶし', 5), ('ｳｷ', 5), ('飲み物', 5), ('スプーン', 5), ('風化', 5), ('問い', 5), ('手順', 5), ('直感', 5), ('クビ', 5), ('成仏', 5), ('食後', 5), ('事柄', 5), ('愛着', 5), ('果たし', 5), ('乗せる', 5), ('騒音', 5), ('漏らす', 5), ('著者', 5), ('ほこり', 5), ('風量', 5), ('ドヤ', 5), ('セイ', 5), ('ポイ', 5), ('電', 5), ('クエン', 5), ('蛾', 5), ('モール', 5), ('探そう', 5), ('神域', 5), ('さき', 5), ('メンブレ', 5), ('動機', 5), ('山積み', 5), ('真相', 5), ('薄め', 5), ('ぷにぷに', 5), ('薬用', 5), ('確立', 5), ('グロ', 5), ('スパイス', 5), ('立花', 5), ('杜', 5), ('むずかしい', 5), ('ティ', 5), ('のる', 5), ('所謂', 5), ('海鮮', 5), ('ワンダー', 5), ('ハンパ', 5), ('サンド', 5), ('呑気', 5), ('わんこ', 5), ('選別', 5), ('おもしろかっ', 5), ('政調', 5), ('付ける', 5), ('笏', 5), ('波乱', 5), ('引き込ま', 5), ('同情', 5), ('緋', 5), ('還暦', 5), ('がんばろう', 5), ('拗ね', 5), ('当てはまる', 5), ('日金', 5), ('高垣', 5), ('ぽこ', 5), ('こく', 5), ('うい', 5), ('陰陽', 5), ('従う', 5), ('沸く', 5), ('ヤング', 5), ('焼き鳥', 5), ('善悪', 5), ('アタッカー', 5), ('住', 5), ('通い', 5), ('鑑定', 5), ('態', 5), ('治り', 5), ('たきゃ', 5), ('何十', 5), ('真横', 5), ('キュート', 5), ('多発', 5), ('徒', 5), ('上原', 5), ('ウンチ', 5), ('雑草', 5), ('標準', 5), ('ヒカセン', 5), ('石川', 5), ('使おう', 5), ('羅', 5), ('同属', 5), ('かゆ', 5), ('ｸｻ', 5), ('グラウンド', 5), ('ニンジン', 5), ('咀嚼', 5), ('前世', 5), ('尽くす', 5), ('センサー', 5), ('常習', 5), ('郵送', 5), ('幼虫', 5), ('感知', 5), ('つん', 5), ('孤立', 5), ('カバネリ', 5), ('柾', 5), ('晴', 5), ('遥香', 5), ('短パン', 5), ('一家', 5), ('宝くじ', 5), ('容易', 5), ('うおおおお', 5), ('反動', 5), ('にゃー', 5), ('きん', 5), ('どる', 5), ('頼ら', 5), ('有償', 5), ('判決', 5), ('バケモン', 5), ('座ら', 5), ('立ち上がる', 5), ('シンデレラ', 5), ('徳島', 5), ('阿呆', 5), ('にゃんこ', 5), ('甘やかし', 5), ('萌える', 5), ('苦情', 5), ('ぐっすり', 5), ('飛び越え', 5), ('スン', 5), ('バツイチ', 5), ('注射', 5), ('おもしろく', 5), ('主題', 5), ('チャージ', 5), ('丘', 5), ('沢', 5), ('見守る', 5), ('エゴ', 5), ('バース', 5), ('在', 5), ('おもろかっ', 5), ('立川', 5), ('下記', 5), ('ロル', 5), ('追及', 5), ('五百', 5), ('天空', 5), ('突っ込む', 5), ('思いつき', 5), ('極み', 5), ('損する', 5), ('大衆', 5), ('精液', 5), ('なおき', 5), ('チェコ', 5), ('終演', 5), ('軍隊', 5), ('テテ', 5), ('まつ', 5), ('レンジャー', 5), ('ニュアンス', 5), ('解約', 5), ('股間', 5), ('特訓', 5), ('術後', 5), ('もめ', 5), ('心斎橋', 5), ('べく', 5), ('保っ', 5), ('部位', 5), ('よこ', 5), ('健気', 5), ('雑多', 5), ('飲み込ん', 5), ('動作', 5), ('やぐら', 5), ('スクショ', 5)]\n"
     ]
    }
   ],
   "source": [
    "word_count = dict()\n",
    "\n",
    "for val in X_train:\n",
    "    val = mecab_tagger.parse(str(val))\n",
    "    tokens = val.split()\n",
    "    for i in range(len(tokens)):\n",
    "        if tokens[i] in word_count.keys():\n",
    "            word_count[tokens[i]] +=1\n",
    "        else:\n",
    "            word_count[tokens[i]] = 1\n",
    "\n",
    "word_count = list(word_count.items())\n",
    "\n",
    "word_count.sort(key=lambda x:x[1], reverse=True)\n",
    "\n",
    "new_word_count = []\n",
    "\n",
    "for i in range(len(word_count)):\n",
    "    if word_count[i][1] > 4:\n",
    "        new_word_count.append(word_count[i])\n",
    "        \n",
    "\n",
    "print(new_word_count[-1000:])"
   ]
  },
  {
   "cell_type": "code",
   "execution_count": 9,
   "id": "d198a3a5",
   "metadata": {},
   "outputs": [
    {
     "name": "stdout",
     "output_type": "stream",
     "text": [
      "10237\n",
      "10237\n",
      "[('の', 1), ('て', 2), ('に', 3), ('た', 4), ('で', 5), ('が', 6), ('は', 7), ('と', 8), ('し', 9), ('も', 10), ('を', 11), ('な', 12), ('だ', 13), ('か', 14), ('ない', 15), ('ん', 16), ('から', 17), ('です', 18), ('ね', 19), ('よ', 20), ('お', 21), ('けど', 22), ('ます', 23), ('てる', 24), ('勝手', 25), ('って', 26), ('悲しい', 27), ('人', 28), ('さん', 29), ('楽しい', 30), ('こと', 31), ('する', 32), ('たら', 33), ('まし', 34), ('れ', 35), ('死ん', 36), ('さ', 37), ('楽しかっ', 38), ('い', 39), ('そう', 40), ('なっ', 41), ('私', 42), ('臭い', 43), ('いい', 44), ('ある', 45), ('ー', 46), ('たい', 47), ('いる', 48), ('や', 49), ('いう', 50)]\n"
     ]
    }
   ],
   "source": [
    "word_dict = dict()\n",
    "\n",
    "print(len(new_word_count))\n",
    "\n",
    "for i in range(len(new_word_count)):\n",
    "    word_dict[new_word_count[i][0]]= i+1\n",
    "\n",
    "print(len(word_dict))\n",
    "\n",
    "aa = list(word_dict.items())\n",
    "\n",
    "print(aa[:50])"
   ]
  },
  {
   "cell_type": "code",
   "execution_count": 10,
   "id": "c899af99",
   "metadata": {},
   "outputs": [
    {
     "name": "stdout",
     "output_type": "stream",
     "text": [
      "39886\n"
     ]
    }
   ],
   "source": [
    "print(len(word_count))"
   ]
  },
  {
   "cell_type": "code",
   "execution_count": 45,
   "id": "3381944b",
   "metadata": {},
   "outputs": [
    {
     "name": "stdout",
     "output_type": "stream",
     "text": [
      "30818\n",
      "30818\n"
     ]
    }
   ],
   "source": [
    "X_train_enco = [[] for _ in range(len(X_train))]\n",
    "y_train_en = [[] for _ in range(len(y_train))]\n",
    "print(len(X_train_enco))\n",
    "print(len(X_train))"
   ]
  },
  {
   "cell_type": "code",
   "execution_count": 46,
   "id": "bd57b1dc",
   "metadata": {},
   "outputs": [],
   "source": [
    "mm = 0\n",
    "for val,label in zip(X_train,y_train):\n",
    "    val = mecab_tagger.parse(str(val))\n",
    "    tokens = val.split()\n",
    "    for i in range(len(tokens)):\n",
    "        if tokens[i] in word_dict.keys():\n",
    "            X_train_enco[mm].append(word_dict[tokens[i]])\n",
    "    y_train_en[mm].append(label)\n",
    "    mm +=1"
   ]
  },
  {
   "cell_type": "code",
   "execution_count": 47,
   "id": "025c2ae8",
   "metadata": {},
   "outputs": [
    {
     "name": "stdout",
     "output_type": "stream",
     "text": [
      "[[479, 122, 821, 433, 40, 1392, 821, 1015, 3150, 1663, 5, 149], [275, 3757, 3036, 550], [349, 5967, 3957, 2487, 6, 2565, 1001, 1, 3, 6484, 76, 1, 2069, 1855, 27, 5, 45, 114, 3, 468, 1, 186, 8, 9, 2, 1064, 2, 897, 463, 4, 19, 8, 256, 11, 323, 170, 62], [39, 3559, 370, 83, 1, 4154, 1214], [1328, 5, 10, 427, 1, 2354, 1329, 1102, 11, 1417, 54, 5, 25, 3, 5968, 49, 2823, 244, 1, 8897, 6, 5211, 1, 73, 3289, 487, 1418, 1, 1150, 386, 10, 2733, 32, 1, 73, 122, 1731, 77, 161, 65, 11, 3758, 9, 23]]\n"
     ]
    }
   ],
   "source": [
    "print(X_train_enco[:5])"
   ]
  },
  {
   "cell_type": "code",
   "execution_count": 48,
   "id": "638bcceb",
   "metadata": {},
   "outputs": [
    {
     "name": "stdout",
     "output_type": "stream",
     "text": [
      "메일의 최대 길이 : 139\n",
      "메일의 평균 길이 : 27.013823\n"
     ]
    },
    {
     "data": {
      "image/png": "[encoded data removed]",
      "text/plain": [
       "<Figure size 432x288 with 1 Axes>"
      ]
     },
     "metadata": {
      "needs_background": "light"
     },
     "output_type": "display_data"
    }
   ],
   "source": [
    "print('메일의 최대 길이 : %d' % max(len(sample) for sample in X_train_enco))\n",
    "print('메일의 평균 길이 : %f' % (sum(map(len, X_train_enco))/len(X_train_enco)))\n",
    "plt.hist([len(sample) for sample in x_jpdata], bins=50)\n",
    "plt.xlabel('length of samples')\n",
    "plt.ylabel('number of samples')\n",
    "plt.show()"
   ]
  },
  {
   "cell_type": "code",
   "execution_count": 49,
   "id": "fc6b9f19",
   "metadata": {},
   "outputs": [
    {
     "name": "stdout",
     "output_type": "stream",
     "text": [
      "훈련 데이터의 크기(shape): (30818, 139)\n"
     ]
    }
   ],
   "source": [
    "from keras_preprocessing.sequence import pad_sequences\n",
    "max_len = 139\n",
    "X_train_padded = pad_sequences(X_train_enco, maxlen=max_len)\n",
    "print(\"훈련 데이터의 크기(shape):\", X_train_padded.shape)"
   ]
  },
  {
   "cell_type": "code",
   "execution_count": 50,
   "id": "5429f71f",
   "metadata": {},
   "outputs": [
    {
     "name": "stdout",
     "output_type": "stream",
     "text": [
      "<class 'pandas.core.series.Series'>\n",
      "Int64Index: 30818 entries, 33695 to 32488\n",
      "Series name: label\n",
      "Non-Null Count  Dtype\n",
      "--------------  -----\n",
      "30818 non-null  int64\n",
      "dtypes: int64(1)\n",
      "memory usage: 481.5 KB\n"
     ]
    }
   ],
   "source": [
    "y_train.info()"
   ]
  },
  {
   "cell_type": "code",
   "execution_count": 51,
   "id": "6cbdd287",
   "metadata": {},
   "outputs": [],
   "source": [
    "y_train_en_en = pd.DataFrame(y_train_en)"
   ]
  },
  {
   "cell_type": "code",
   "execution_count": 55,
   "id": "4c24e33d",
   "metadata": {},
   "outputs": [
    {
     "name": "stdout",
     "output_type": "stream",
     "text": [
      "Epoch 1/50\n"
     ]
    },
    {
     "name": "stderr",
     "output_type": "stream",
     "text": [
      "C:\\Users\\comet\\anaconda3\\lib\\site-packages\\keras\\optimizer_v2\\adam.py:105: UserWarning: The `lr` argument is deprecated, use `learning_rate` instead.\n",
      "  super(Adam, self).__init__(name, **kwargs)\n"
     ]
    },
    {
     "name": "stdout",
     "output_type": "stream",
     "text": [
      "49/49 [==============================] - 5s 89ms/step - loss: 1.3765 - acc: 0.2950 - val_loss: 1.3552 - val_acc: 0.3439\n",
      "Epoch 2/50\n",
      "49/49 [==============================] - 4s 87ms/step - loss: 1.3336 - acc: 0.3703 - val_loss: 1.3085 - val_acc: 0.4332\n",
      "Epoch 3/50\n",
      "49/49 [==============================] - 4s 91ms/step - loss: 1.2335 - acc: 0.4758 - val_loss: 1.1543 - val_acc: 0.5365\n",
      "Epoch 4/50\n",
      "49/49 [==============================] - 4s 92ms/step - loss: 1.0581 - acc: 0.5878 - val_loss: 0.9606 - val_acc: 0.6604\n",
      "Epoch 5/50\n",
      "49/49 [==============================] - 4s 91ms/step - loss: 0.8852 - acc: 0.6763 - val_loss: 0.8304 - val_acc: 0.7004\n",
      "Epoch 6/50\n",
      "49/49 [==============================] - 4s 91ms/step - loss: 0.7551 - acc: 0.7324 - val_loss: 0.7080 - val_acc: 0.7565\n",
      "Epoch 7/50\n",
      "49/49 [==============================] - 4s 90ms/step - loss: 0.6577 - acc: 0.7728 - val_loss: 0.6473 - val_acc: 0.7774\n",
      "Epoch 8/50\n",
      "49/49 [==============================] - 5s 92ms/step - loss: 0.5750 - acc: 0.8070 - val_loss: 0.5699 - val_acc: 0.8149\n",
      "Epoch 9/50\n",
      "49/49 [==============================] - 5s 94ms/step - loss: 0.5138 - acc: 0.8313 - val_loss: 0.5439 - val_acc: 0.8189\n",
      "Epoch 10/50\n",
      "49/49 [==============================] - 5s 93ms/step - loss: 0.4745 - acc: 0.8453 - val_loss: 0.5020 - val_acc: 0.8290\n",
      "Epoch 11/50\n",
      "49/49 [==============================] - 5s 93ms/step - loss: 0.4215 - acc: 0.8633 - val_loss: 0.4703 - val_acc: 0.8434\n",
      "Epoch 12/50\n",
      "49/49 [==============================] - 5s 93ms/step - loss: 0.3921 - acc: 0.8749 - val_loss: 0.4630 - val_acc: 0.8402\n",
      "Epoch 13/50\n",
      "49/49 [==============================] - 4s 90ms/step - loss: 0.3606 - acc: 0.8827 - val_loss: 0.4381 - val_acc: 0.8517\n",
      "Epoch 14/50\n",
      "49/49 [==============================] - 4s 91ms/step - loss: 0.3330 - acc: 0.8915 - val_loss: 0.3979 - val_acc: 0.8688\n",
      "Epoch 15/50\n",
      "49/49 [==============================] - 4s 88ms/step - loss: 0.3126 - acc: 0.9006 - val_loss: 0.3987 - val_acc: 0.8632\n",
      "Epoch 16/50\n",
      "49/49 [==============================] - 4s 90ms/step - loss: 0.2949 - acc: 0.9077 - val_loss: 0.3832 - val_acc: 0.8736\n",
      "Epoch 17/50\n",
      "49/49 [==============================] - 4s 88ms/step - loss: 0.2786 - acc: 0.9101 - val_loss: 0.3600 - val_acc: 0.8791\n",
      "Epoch 18/50\n",
      "49/49 [==============================] - 4s 91ms/step - loss: 0.2604 - acc: 0.9172 - val_loss: 0.3623 - val_acc: 0.8793\n",
      "Epoch 19/50\n",
      "49/49 [==============================] - 5s 92ms/step - loss: 0.2420 - acc: 0.9235 - val_loss: 0.3729 - val_acc: 0.8713\n",
      "Epoch 20/50\n",
      "49/49 [==============================] - 4s 88ms/step - loss: 0.2371 - acc: 0.9261 - val_loss: 0.3528 - val_acc: 0.8790\n",
      "Epoch 21/50\n",
      "49/49 [==============================] - 4s 88ms/step - loss: 0.2243 - acc: 0.9300 - val_loss: 0.3543 - val_acc: 0.8764\n",
      "Epoch 22/50\n",
      "49/49 [==============================] - 4s 87ms/step - loss: 0.2155 - acc: 0.9333 - val_loss: 0.3252 - val_acc: 0.8874\n",
      "Epoch 23/50\n",
      "49/49 [==============================] - 4s 87ms/step - loss: 0.2052 - acc: 0.9349 - val_loss: 0.3205 - val_acc: 0.8903\n",
      "Epoch 24/50\n",
      "49/49 [==============================] - 4s 88ms/step - loss: 0.1974 - acc: 0.9386 - val_loss: 0.3315 - val_acc: 0.8824\n",
      "Epoch 25/50\n",
      "49/49 [==============================] - 4s 87ms/step - loss: 0.2013 - acc: 0.9359 - val_loss: 0.3295 - val_acc: 0.8907\n",
      "Epoch 26/50\n",
      "49/49 [==============================] - 4s 88ms/step - loss: 0.1864 - acc: 0.9420 - val_loss: 0.3116 - val_acc: 0.8941\n",
      "Epoch 27/50\n",
      "49/49 [==============================] - 4s 87ms/step - loss: 0.1791 - acc: 0.9437 - val_loss: 0.3206 - val_acc: 0.8931\n",
      "Epoch 28/50\n",
      "49/49 [==============================] - 4s 88ms/step - loss: 0.1701 - acc: 0.9459 - val_loss: 0.3134 - val_acc: 0.8950\n",
      "Epoch 29/50\n",
      "49/49 [==============================] - 4s 88ms/step - loss: 0.1706 - acc: 0.9476 - val_loss: 0.3029 - val_acc: 0.8962\n",
      "Epoch 30/50\n",
      "49/49 [==============================] - 4s 91ms/step - loss: 0.1611 - acc: 0.9502 - val_loss: 0.3140 - val_acc: 0.8929\n",
      "Epoch 31/50\n",
      "49/49 [==============================] - 4s 89ms/step - loss: 0.1555 - acc: 0.9512 - val_loss: 0.3062 - val_acc: 0.8970\n",
      "Epoch 32/50\n",
      "49/49 [==============================] - 4s 89ms/step - loss: 0.1517 - acc: 0.9533 - val_loss: 0.3039 - val_acc: 0.8988\n",
      "Epoch 33/50\n",
      "49/49 [==============================] - 4s 88ms/step - loss: 0.1483 - acc: 0.9531 - val_loss: 0.3129 - val_acc: 0.8945\n",
      "Epoch 34/50\n",
      "49/49 [==============================] - 4s 88ms/step - loss: 0.1472 - acc: 0.9531 - val_loss: 0.2984 - val_acc: 0.8993\n",
      "Epoch 35/50\n",
      "49/49 [==============================] - 4s 88ms/step - loss: 0.1399 - acc: 0.9581 - val_loss: 0.2963 - val_acc: 0.8999\n",
      "Epoch 36/50\n",
      "49/49 [==============================] - 4s 90ms/step - loss: 0.1376 - acc: 0.9571 - val_loss: 0.2992 - val_acc: 0.8999\n",
      "Epoch 37/50\n",
      "49/49 [==============================] - 4s 87ms/step - loss: 0.1318 - acc: 0.9605 - val_loss: 0.2911 - val_acc: 0.9027\n",
      "Epoch 38/50\n",
      "49/49 [==============================] - 4s 91ms/step - loss: 0.1293 - acc: 0.9605 - val_loss: 0.2948 - val_acc: 0.9014\n",
      "Epoch 39/50\n",
      "49/49 [==============================] - 4s 87ms/step - loss: 0.1265 - acc: 0.9622 - val_loss: 0.2934 - val_acc: 0.9017\n",
      "Epoch 40/50\n",
      "49/49 [==============================] - 4s 88ms/step - loss: 0.1224 - acc: 0.9633 - val_loss: 0.2925 - val_acc: 0.9022\n",
      "Epoch 41/50\n",
      "49/49 [==============================] - 4s 87ms/step - loss: 0.1199 - acc: 0.9627 - val_loss: 0.2927 - val_acc: 0.9027\n",
      "Epoch 42/50\n",
      "49/49 [==============================] - 5s 92ms/step - loss: 0.1204 - acc: 0.9634 - val_loss: 0.2922 - val_acc: 0.9040\n",
      "Epoch 43/50\n",
      "49/49 [==============================] - 4s 88ms/step - loss: 0.1169 - acc: 0.9621 - val_loss: 0.2891 - val_acc: 0.9057\n",
      "Epoch 44/50\n",
      "49/49 [==============================] - 4s 87ms/step - loss: 0.1129 - acc: 0.9654 - val_loss: 0.2872 - val_acc: 0.9066\n",
      "Epoch 45/50\n",
      "49/49 [==============================] - 4s 88ms/step - loss: 0.1111 - acc: 0.9665 - val_loss: 0.2969 - val_acc: 0.9033\n",
      "Epoch 46/50\n",
      "49/49 [==============================] - 4s 88ms/step - loss: 0.1082 - acc: 0.9668 - val_loss: 0.2892 - val_acc: 0.9069\n",
      "Epoch 47/50\n",
      "49/49 [==============================] - 4s 88ms/step - loss: 0.1085 - acc: 0.9658 - val_loss: 0.2901 - val_acc: 0.9048\n",
      "Epoch 48/50\n",
      "49/49 [==============================] - 4s 88ms/step - loss: 0.1061 - acc: 0.9669 - val_loss: 0.2847 - val_acc: 0.9087\n",
      "Epoch 49/50\n",
      "49/49 [==============================] - 4s 87ms/step - loss: 0.1053 - acc: 0.9674 - val_loss: 0.2855 - val_acc: 0.9080\n",
      "Epoch 50/50\n",
      "49/49 [==============================] - 4s 88ms/step - loss: 0.1006 - acc: 0.9695 - val_loss: 0.2817 - val_acc: 0.9070\n"
     ]
    }
   ],
   "source": [
    "from tensorflow.keras.layers import SimpleRNN, Embedding, Dense\n",
    "from tensorflow.keras.models import Sequential\n",
    "from keras import optimizers\n",
    "import tensorflow as tf\n",
    "\n",
    "embedding_dim = 50\n",
    "hidden_units = 64\n",
    "vocab_size = len(word_dict) +1\n",
    "\n",
    "model = Sequential()\n",
    "model.add(Embedding(vocab_size, embedding_dim))\n",
    "model.add(SimpleRNN(hidden_units,dropout=0.5))\n",
    "model.add(Dense(4, activation='sigmoid'))\n",
    "\n",
    "lradam = tf.keras.optimizers.Adam(lr=0.0003, beta_1=0.9, beta_2=0.999, epsilon=None, decay=0.001, amsgrad=False)\n",
    "\n",
    "model.compile(optimizer=lradam, loss='sparse_categorical_crossentropy', metrics=['acc'])\n",
    "history = model.fit(X_train_padded, y_train_en_en, epochs=50, batch_size=512, validation_split=0.2)"
   ]
  },
  {
   "cell_type": "code",
   "execution_count": 56,
   "id": "ba934ed1",
   "metadata": {},
   "outputs": [
    {
     "data": {
      "image/png": "[encoded data removed]",
      "text/plain": [
       "<Figure size 432x288 with 1 Axes>"
      ]
     },
     "metadata": {
      "needs_background": "light"
     },
     "output_type": "display_data"
    }
   ],
   "source": [
    "epochs = range(1, len(history.history['acc']) + 1)\n",
    "plt.plot(epochs, history.history['loss'])\n",
    "plt.plot(epochs, history.history['val_loss'])\n",
    "plt.title('model loss')\n",
    "plt.ylabel('loss')\n",
    "plt.xlabel('epoch')\n",
    "plt.legend(['train', 'val'], loc='upper left')\n",
    "plt.show()"
   ]
  },
  {
   "cell_type": "code",
   "execution_count": 57,
   "id": "5da219e1",
   "metadata": {},
   "outputs": [
    {
     "data": {
      "text/plain": [
       "<matplotlib.legend.Legend at 0x2d5342c3dc0>"
      ]
     },
     "execution_count": 57,
     "metadata": {},
     "output_type": "execute_result"
    },
    {
     "data": {
      "image/png": "[encoded data removed]",
      "text/plain": [
       "<Figure size 432x288 with 1 Axes>"
      ]
     },
     "metadata": {
      "needs_background": "light"
     },
     "output_type": "display_data"
    }
   ],
   "source": [
    "plt.plot(history.history['acc'])\n",
    "plt.plot(history.history['val_acc'])\n",
    "plt.title('model accuracy')\n",
    "plt.ylabel('accuracy')\n",
    "plt.xlabel('epoch')\n",
    "plt.legend(['train', 'val'], loc='upper left')"
   ]
  },
  {
   "cell_type": "code",
   "execution_count": null,
   "id": "4ad8cae4",
   "metadata": {},
   "outputs": [],
   "source": []
  }
 ],
 "metadata": {
  "kernelspec": {
   "display_name": "Python 3 (ipykernel)",
   "language": "python",
   "name": "python3"
  },
  "language_info": {
   "codemirror_mode": {
    "name": "ipython",
    "version": 3
   },
   "file_extension": ".py",
   "mimetype": "text/x-python",
   "name": "python",
   "nbconvert_exporter": "python",
   "pygments_lexer": "ipython3",
   "version": "3.9.12"
  }
 },
 "nbformat": 4,
 "nbformat_minor": 5
}
