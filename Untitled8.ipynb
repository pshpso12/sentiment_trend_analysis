{
 "cells": [
  {
   "cell_type": "code",
   "execution_count": 1,
   "id": "c8f281f3",
   "metadata": {},
   "outputs": [],
   "source": [
    "a_word = ['더럽게', '진짜', '다', '역겹다', '너무', '더럽다', '그', '안', '내가', '이', '좀', '내', '거', '구역질', '더럽고', '그냥', '수', '더', '왜', '근데', '아', '것', '나', '징그럽다', '하고', '하는', '나는', '있는', '정말', '잘', '한', '이런', '구역질이', '난', '게', '저', '그런', '존나', '또', '건', '아니', '못', '할', '뭐', '같은', '그리고', '그렇게', '기분', '네', '보고', '말', '이렇게', '많이', '걍', '없는', '흉측한', '제', '다시', '하', 'ㅋ', '너', '다른', '계속', '것도', '걸', '다들', '역겹고', '지금', '이제', '사람', '때', '무슨', '보면', '어떻게', '제가', '참', 'ㅋㅋ', '징그럽게', '날', '그래도', '오늘', '이거', '사람이', '자기', '와', '그래서', '이게', '더럽다고', '하지만', '그게', '아니라', '하나', '하면서', '듯', '나도', '같이', '한다', '손', '누가', '좋겠다', '일', '하면', '줄', '얼마나', '시발', '손을', '말을', '해', '그래', '얼굴', '모든', '제발', '우리', '자꾸', '역시', '더러운', '사실', '씨발', '번', '해도', '저는', '이미', '그거', '전', '징그럽고', '때문에', '그걸', '결국', 'ㅅㅂ', '먹고', '않고', '좋은', '하지', '있는데', '제일', '없다', '진심', '하는데', '둘', '있다', '꼭', '네가', '가장', '보는', '갑자기', '바로', '엄청', '그럼', '난다', '넌', '아주', '전에', '원래', '저런', '함', '개', '지', '것을', '눈', '입', '알고', '이건', '않는', '뭘', '막', 'ㅋㅋㅋ', '기분이', '해서', '구역질을', '나를', '어떤', '사람들', '사람들이', '말고', 'ㅠ', '일단', '아니면', '했는데', '없이', '위해', '야', 'ㅠㅠ', '생각', '두', '않은', '아니고', '없어서', '되는', '그건', '아무리', '것은', '것이', '혼자', '아닌', '뭔가', '약간', '거야', '중', '요즘', '자신의']"
   ]
  },
  {
   "cell_type": "code",
   "execution_count": 2,
   "id": "2b118beb",
   "metadata": {},
   "outputs": [],
   "source": [
    "d_word = ['분노', '그', '분노가', '진짜', '이', '분노를', '수', '분노의', '너무', '다', '내가', '왜', '안', '것', '더', '근데', '내', '분노하고', '거', '그냥', '아', '하고', '대한', '나', '한', '하는', '나는', '좀', '있는', '또', '분노와', '분노에', '저', '지금', '그리고', '잘', '보고', '질투하고', '게', '아니', '그런', '때', '할', '분노로', '난', '시기하고', '없는', '이런', '정말', '분노는', '분노한', '분노하는', '같은', '시샘하고', '하', '다른', '오늘', '분개하고', '미워하고', '걍', '다시', '건', '그렇게', '이제', '못', '절망하고', '하지만', '모든', '갑자기', '어떻게', '그래서', '존나', '걸', '이렇게', 'ㅋ', '때문에', '보면', '아니라', '사람', '뭐', '이게', '씹새끼', '아파하고', '것도', '사람이', '이거', '제', '나도', '그게', '계속', '우리', '같이', 'ㅋㅋ', '네', '어떤', '결국', '자기', '많이', '날', '사실', '무슨', '위해', '듯', '나를', '중', '씨발', '못하고', '저는', '제가', '그래도', '하면서', '말', '있다', '분노도', '하면', '너', '있는데', '자신의', '전', '이미', '것을', '않는', '것이', '그럼', '화가', '같음', '나의', '것은', '않고', '다들', '가장', '하나', '그걸', '줄', '알고', '향한', '말을', '시발', '없이', '좋은', '혼자', '진심으로', '일', '네가', '되는', '바로', '없어', '감정을', '아니고', '와', '있음', '분노할', '함', '해', 'ㅋㅋㅋ', '그저', '역시', '하지', '번', '모두', '아닌', '거야', '해서', '아주', '저도', '그래', '슬픔', '슬퍼하고', '많은', '년', '하는데', '이건', '자꾸', '누가', '것에', '감정이', '사람들이', '사람을', '했는데', '개', '된', '일단', '넘', '없음', '돈', '그라데이션', '얼마나', '해도', '없다', '함께', '물론', '눈', '같아요', '일이', '있어', '새끼', '아직', '그거', '제일', '두']"
   ]
  },
  {
   "cell_type": "code",
   "execution_count": 3,
   "id": "9940d9c7",
   "metadata": {},
   "outputs": [],
   "source": [
    "e_word = a_word+d_word"
   ]
  },
  {
   "cell_type": "code",
   "execution_count": 4,
   "id": "7a293a03",
   "metadata": {},
   "outputs": [],
   "source": [
    "import matplotlib.pyplot as plt \n",
    "from matplotlib import rc\n",
    "import pandas as pd \n",
    "import urllib.request\n",
    "import numpy as np"
   ]
  },
  {
   "cell_type": "code",
   "execution_count": 5,
   "id": "45acdb24",
   "metadata": {},
   "outputs": [
    {
     "ename": "JVMNotFoundException",
     "evalue": "No JVM shared library file (jvm.dll) found. Try setting up the JAVA_HOME environment variable properly.",
     "output_type": "error",
     "traceback": [
      "\u001b[1;31m---------------------------------------------------------------------------\u001b[0m",
      "\u001b[1;31mJVMNotFoundException\u001b[0m                      Traceback (most recent call last)",
      "Input \u001b[1;32mIn [5]\u001b[0m, in \u001b[0;36m<cell line: 2>\u001b[1;34m()\u001b[0m\n\u001b[0;32m      1\u001b[0m \u001b[38;5;28;01mfrom\u001b[39;00m \u001b[38;5;21;01mkonlpy\u001b[39;00m\u001b[38;5;21;01m.\u001b[39;00m\u001b[38;5;21;01mtag\u001b[39;00m \u001b[38;5;28;01mimport\u001b[39;00m Okt\n\u001b[1;32m----> 2\u001b[0m okt\u001b[38;5;241m=\u001b[39m\u001b[43mOkt\u001b[49m\u001b[43m(\u001b[49m\u001b[43m)\u001b[49m\n",
      "File \u001b[1;32m~\\anaconda3\\lib\\site-packages\\konlpy\\tag\\_okt.py:51\u001b[0m, in \u001b[0;36mOkt.__init__\u001b[1;34m(self, jvmpath, max_heap_size)\u001b[0m\n\u001b[0;32m     49\u001b[0m \u001b[38;5;28;01mdef\u001b[39;00m \u001b[38;5;21m__init__\u001b[39m(\u001b[38;5;28mself\u001b[39m, jvmpath\u001b[38;5;241m=\u001b[39m\u001b[38;5;28;01mNone\u001b[39;00m, max_heap_size\u001b[38;5;241m=\u001b[39m\u001b[38;5;241m1024\u001b[39m):\n\u001b[0;32m     50\u001b[0m     \u001b[38;5;28;01mif\u001b[39;00m \u001b[38;5;129;01mnot\u001b[39;00m jpype\u001b[38;5;241m.\u001b[39misJVMStarted():\n\u001b[1;32m---> 51\u001b[0m         \u001b[43mjvm\u001b[49m\u001b[38;5;241;43m.\u001b[39;49m\u001b[43minit_jvm\u001b[49m\u001b[43m(\u001b[49m\u001b[43mjvmpath\u001b[49m\u001b[43m,\u001b[49m\u001b[43m \u001b[49m\u001b[43mmax_heap_size\u001b[49m\u001b[43m)\u001b[49m\n\u001b[0;32m     53\u001b[0m     oktJavaPackage \u001b[38;5;241m=\u001b[39m jpype\u001b[38;5;241m.\u001b[39mJPackage(\u001b[38;5;124m'\u001b[39m\u001b[38;5;124mkr.lucypark.okt\u001b[39m\u001b[38;5;124m'\u001b[39m)\n\u001b[0;32m     54\u001b[0m     OktInterfaceJavaClass \u001b[38;5;241m=\u001b[39m oktJavaPackage\u001b[38;5;241m.\u001b[39mOktInterface\n",
      "File \u001b[1;32m~\\anaconda3\\lib\\site-packages\\konlpy\\jvm.py:55\u001b[0m, in \u001b[0;36minit_jvm\u001b[1;34m(jvmpath, max_heap_size)\u001b[0m\n\u001b[0;32m     52\u001b[0m args \u001b[38;5;241m=\u001b[39m [javadir, os\u001b[38;5;241m.\u001b[39msep]\n\u001b[0;32m     53\u001b[0m classpath \u001b[38;5;241m=\u001b[39m [f\u001b[38;5;241m.\u001b[39mformat(\u001b[38;5;241m*\u001b[39margs) \u001b[38;5;28;01mfor\u001b[39;00m f \u001b[38;5;129;01min\u001b[39;00m folder_suffix]\n\u001b[1;32m---> 55\u001b[0m jvmpath \u001b[38;5;241m=\u001b[39m jvmpath \u001b[38;5;129;01mor\u001b[39;00m \u001b[43mjpype\u001b[49m\u001b[38;5;241;43m.\u001b[39;49m\u001b[43mgetDefaultJVMPath\u001b[49m\u001b[43m(\u001b[49m\u001b[43m)\u001b[49m\n\u001b[0;32m     57\u001b[0m \u001b[38;5;66;03m# NOTE: Temporary patch for Issue #76. Erase when possible.\u001b[39;00m\n\u001b[0;32m     58\u001b[0m \u001b[38;5;28;01mif\u001b[39;00m sys\u001b[38;5;241m.\u001b[39mplatform \u001b[38;5;241m==\u001b[39m \u001b[38;5;124m'\u001b[39m\u001b[38;5;124mdarwin\u001b[39m\u001b[38;5;124m'\u001b[39m\\\n\u001b[0;32m     59\u001b[0m         \u001b[38;5;129;01mand\u001b[39;00m jvmpath\u001b[38;5;241m.\u001b[39mfind(\u001b[38;5;124m'\u001b[39m\u001b[38;5;124m1.8.0\u001b[39m\u001b[38;5;124m'\u001b[39m) \u001b[38;5;241m>\u001b[39m \u001b[38;5;241m0\u001b[39m\\\n\u001b[0;32m     60\u001b[0m         \u001b[38;5;129;01mand\u001b[39;00m jvmpath\u001b[38;5;241m.\u001b[39mendswith(\u001b[38;5;124m'\u001b[39m\u001b[38;5;124mlibjvm.dylib\u001b[39m\u001b[38;5;124m'\u001b[39m):\n",
      "File \u001b[1;32m~\\anaconda3\\lib\\site-packages\\jpype\\_jvmfinder.py:74\u001b[0m, in \u001b[0;36mgetDefaultJVMPath\u001b[1;34m()\u001b[0m\n\u001b[0;32m     72\u001b[0m \u001b[38;5;28;01melse\u001b[39;00m:\n\u001b[0;32m     73\u001b[0m     finder \u001b[38;5;241m=\u001b[39m LinuxJVMFinder()\n\u001b[1;32m---> 74\u001b[0m \u001b[38;5;28;01mreturn\u001b[39;00m \u001b[43mfinder\u001b[49m\u001b[38;5;241;43m.\u001b[39;49m\u001b[43mget_jvm_path\u001b[49m\u001b[43m(\u001b[49m\u001b[43m)\u001b[49m\n",
      "File \u001b[1;32m~\\anaconda3\\lib\\site-packages\\jpype\\_jvmfinder.py:212\u001b[0m, in \u001b[0;36mJVMFinder.get_jvm_path\u001b[1;34m(self)\u001b[0m\n\u001b[0;32m    210\u001b[0m \u001b[38;5;28;01mif\u001b[39;00m jvm_notsupport_ext \u001b[38;5;129;01mis\u001b[39;00m \u001b[38;5;129;01mnot\u001b[39;00m \u001b[38;5;28;01mNone\u001b[39;00m:\n\u001b[0;32m    211\u001b[0m     \u001b[38;5;28;01mraise\u001b[39;00m jvm_notsupport_ext\n\u001b[1;32m--> 212\u001b[0m \u001b[38;5;28;01mraise\u001b[39;00m JVMNotFoundException(\u001b[38;5;124m\"\u001b[39m\u001b[38;5;124mNo JVM shared library file (\u001b[39m\u001b[38;5;132;01m{0}\u001b[39;00m\u001b[38;5;124m) \u001b[39m\u001b[38;5;124m\"\u001b[39m\n\u001b[0;32m    213\u001b[0m                            \u001b[38;5;124m\"\u001b[39m\u001b[38;5;124mfound. Try setting up the JAVA_HOME \u001b[39m\u001b[38;5;124m\"\u001b[39m\n\u001b[0;32m    214\u001b[0m                            \u001b[38;5;124m\"\u001b[39m\u001b[38;5;124menvironment variable properly.\u001b[39m\u001b[38;5;124m\"\u001b[39m\n\u001b[0;32m    215\u001b[0m                            \u001b[38;5;241m.\u001b[39mformat(\u001b[38;5;28mself\u001b[39m\u001b[38;5;241m.\u001b[39m_libfile))\n",
      "\u001b[1;31mJVMNotFoundException\u001b[0m: No JVM shared library file (jvm.dll) found. Try setting up the JAVA_HOME environment variable properly."
     ]
    }
   ],
   "source": [
    "from konlpy.tag import Okt\n",
    "okt=Okt()"
   ]
  },
  {
   "cell_type": "code",
   "execution_count": null,
   "id": "804cb945",
   "metadata": {},
   "outputs": [],
   "source": []
  }
 ],
 "metadata": {
  "kernelspec": {
   "display_name": "Python 3 (ipykernel)",
   "language": "python",
   "name": "python3"
  },
  "language_info": {
   "codemirror_mode": {
    "name": "ipython",
    "version": 3
   },
   "file_extension": ".py",
   "mimetype": "text/x-python",
   "name": "python",
   "nbconvert_exporter": "python",
   "pygments_lexer": "ipython3",
   "version": "3.9.12"
  }
 },
 "nbformat": 4,
 "nbformat_minor": 5
}
