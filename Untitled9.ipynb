{
 "cells": [
  {
   "cell_type": "code",
   "execution_count": 1,
   "id": "0ec6c7ad",
   "metadata": {},
   "outputs": [],
   "source": [
    "from wordcloud import WordCloud, STOPWORDS \n",
    "import matplotlib.pyplot as plt \n",
    "from matplotlib import rc\n",
    "import pandas as pd \n",
    "import urllib.request\n",
    "import numpy as np"
   ]
  },
  {
   "cell_type": "code",
   "execution_count": 3,
   "id": "2be707d8",
   "metadata": {},
   "outputs": [],
   "source": [
    "import platform"
   ]
  },
  {
   "cell_type": "code",
   "execution_count": 5,
   "id": "c768c8da",
   "metadata": {},
   "outputs": [
    {
     "name": "stdout",
     "output_type": "stream",
     "text": [
      "3.9.12 (main, Apr  4 2022, 05:22:27) [MSC v.1916 64 bit (AMD64)]\n"
     ]
    }
   ],
   "source": [
    "import sys\n",
    "\n",
    " \n",
    "\n",
    "print(sys.version)"
   ]
  },
  {
   "cell_type": "code",
   "execution_count": 2,
   "id": "c812fb91",
   "metadata": {},
   "outputs": [],
   "source": [
    "AA = pd.read_csv(\"./dAAb.csv\")"
   ]
  },
  {
   "cell_type": "code",
   "execution_count": 3,
   "id": "7816ac18",
   "metadata": {},
   "outputs": [
    {
     "name": "stdout",
     "output_type": "stream",
     "text": [
      "                                                   tweet  label1  label2  \\\n",
      "0                                아 씨발 개처웃음 존나 웃김 캐해 레전드다     0.0     0.0   \n",
      "1                                     갤러리 보다가 갑자기 보고 개웃음     0.0     0.0   \n",
      "2                          바밍 라이브 너무 신남 한국에서 라이브 좀 자주 해라     1.0     0.0   \n",
      "3                                    그대는 늘 행복의 한복판에 있길       1.0     0.0   \n",
      "4      인문학을 한다는 자부심 연구하고 싶은 주제에 매달리는 기쁨 등이 내 삶의 추진력이다...     1.0     0.0   \n",
      "...                                                  ...     ...     ...   \n",
      "89807  조선 시조의 나라 희망은 점점 사라져가네  조선 시조의 나라 행복을 잊어버린 아픔의 세상     2.0     0.0   \n",
      "89808  ㅋ ㅋㅋㅋㅋㅋㅋㅋㅋㅋㅋㅋㅋㅋ  괜차나요 저도 보고 진짜 소리질럿어요 아악 어케 어케...     0.0     0.0   \n",
      "89809                     월요일 잘 버티고 있어요 나는 지금 너무 탈출하고싶은데     0.0     0.0   \n",
      "89810                              스포츠토토 유연석 녀구함땅부자 행복       1.0     0.0   \n",
      "89811                           왜 미묘해요 ㅋ큐 ㅁㅈㅁㅈ 기쁨을 즐기시라굿     1.0     0.0   \n",
      "\n",
      "       label3  new_label1  new_label2  new_label3  \n",
      "0         1.0         2.0         0.0         1.0  \n",
      "1         0.0         2.0         0.0         0.0  \n",
      "2         0.0         1.0         0.0         0.0  \n",
      "3         0.0         2.0         0.0         0.0  \n",
      "4         0.0         1.0         0.0         0.0  \n",
      "...       ...         ...         ...         ...  \n",
      "89807     0.0         3.0         0.0         0.0  \n",
      "89808     1.0         2.0        17.0         1.0  \n",
      "89809     0.0         0.0         1.0         0.0  \n",
      "89810     0.0         1.0         0.0         0.0  \n",
      "89811     0.0         2.0         0.0         0.0  \n",
      "\n",
      "[89812 rows x 7 columns]\n"
     ]
    }
   ],
   "source": [
    "print(AA)"
   ]
  },
  {
   "cell_type": "code",
   "execution_count": 10,
   "id": "daec8c7c",
   "metadata": {},
   "outputs": [
    {
     "name": "stdout",
     "output_type": "stream",
     "text": [
      "2.0\n"
     ]
    }
   ],
   "source": [
    "print(AA['new_label1'][0])"
   ]
  },
  {
   "cell_type": "code",
   "execution_count": 22,
   "id": "decfecab",
   "metadata": {},
   "outputs": [],
   "source": [
    "AA1 = []\n",
    "AA2 = []\n",
    "AA3 = []\n",
    "AA4 = []\n",
    "for i in range(len(AA)):\n",
    "    if AA['new_label1'][i] == AA['new_label2'][i] == AA['new_label3'][i]:\n",
    "        AA4.append([AA['tweet'][i],0])\n",
    "    elif AA['new_label1'][i] > AA['new_label2'][i] + AA['new_label3'][i]:\n",
    "        AA1.append([AA['tweet'][i],1])\n",
    "    elif AA['new_label2'][i] > AA['new_label1'][i] + AA['new_label3'][i]:\n",
    "        AA2.append([AA['tweet'][i],2])\n",
    "    elif AA['new_label3'][i] > AA['new_label1'][i] + AA['new_label2'][i]:\n",
    "        AA3.append([AA['tweet'][i],3])"
   ]
  },
  {
   "cell_type": "code",
   "execution_count": 23,
   "id": "cf438c11",
   "metadata": {},
   "outputs": [
    {
     "name": "stdout",
     "output_type": "stream",
     "text": [
      "[['모두의 익명 질문을 모집 중  최근 답변한 질문  롤리엄마 오늘 웑챤 셀카 떴  롤리님 수박 자르는 차니 참  롤리님 진짜 ㅠㅠㅠㅠㅠㅠㅠㅠ  저것도 행복으로 칠거같아서 질문상자 익명질문모집중   ', 2], ['창기 적시타 너무 기쁨 ㅠㅠㅠㅠㅠㅠㅠㅠㅠㅠ', 2], ['아하 아이고 아이고 그렇군요 못 이룬 걸 남겨놓고 은퇴해버려서 어떡해 우리 라니ㅠㅠㅠㅠㅠㅠ 한이 많겠군요 모쪼록 즐겁게 읽어주셨다면 저의 기쁨입니다 후후', 2], ['솔직히 란 에픽이라고 해서 청 아라 중심일거 같다고 생각햇는데 생각보다 다들 착즙할것들 나와서 즐거움 프뤼나움보다도 더 많은듯 맛있다', 2], ['소정환 누나랑 싸우다가 누나가 이 집에서 니 물건 다 챙겨서 나가 소리지르면 아무말 없이 쳐다보다가 냅다 누나 들쳐업고 현관문열것 같은 남자 위 누나 이게 뭔 상황인가 싶어서 정신못차리다가 야 너 뭐해ㅋㅋㅋ 함서 웃음터지면 약간 머쓱한듯 웃으니까 좋잖아요 말 끝 흐릴 것 같음', 2], ['윤호 ㅜㅠㅠㅠㅠㅠㅠㅠㅠㅠㅠㅠ윤호 보는게 젤루 행복행    ', 2], ['내일 마감이니까 설마 그 시가 내일 오후 시', 2], ['진짜 그러면 조켓내요 ', 2], ['어제 신나서 친구집에서 자는바람에 결국 오늘 일 하나도 못했네 그래도 큰건하나 들어와서 신남', 2], ['백현아오늘은   백현이야 오늘은 일기말고 다른 얘기 그게 뭐냐면 나 휴학 안 하고 쭉 학교 다닌 게 잘한 거 같아 너 전역이랑 나 졸업이랑 일도 차이 안나 진짜 나한테는 최고의 졸업선물이야 다른 선물 다 필요 없어 빨리 월 와서 너랑 같이 행복만 하고 싶다요 애기 너무 보고시펑', 2], ['그말씀해주신분말로는 브왁했다네요', 2], ['아놔 저도 커미션 첨이라 어느 정도로 요청해야하는지 감잡기 어려웟내요ㅠㅠㅠㅠㅠㅠ 하지만 조살깅도 장동쿤도 그걸 지켜보는 지살이도 행복햇으면 됏지 않을까요 뭐라는', 2], ['백현아오늘은 으아 오늘 진짜 너무 덥다 친한 언니 생일이라 오랜만에 만났는데 너무 더워서 어딜 돌아다니지를 못하겠더라고 계속 실내에만 있다가 맘먹고 같이 다녔던 학교도 구경했는데 정말 너무 더워서 구경하다 포기ㅋㅋㅋ큐ㅠㅠㅠㅠ 땀한바가지 흘리고 집에 왔당 백현아 더위 조심해', 2], ['진주 ㅠㅠㅠㅠ  가고싶엇는데', 2], ['넘 신나셨겠어요 저도 산책길 울애들 노래들으면 신나서 둠칫둠칫  리듬타며 행복충전하지요 이번주말은 출근이라 이제 퇴근하네요  옛둥아 힘나자 으샤으샤                   ', 2], ['이걸 제가 놓쳤다니  아 진짜 너무너무 사랑스러워요 지현이가 왜소한게 아닌데 저 덩치차이 최고예요ㅠㅠㅠㅠㅠㅠㅠ 둘이 폭 껴안구 그늘 아래에서 낮잠자는거 행복해보여요ㅜㅠㅠㅠ', 2], ['콩콩뛰는도혀니짱기여워 ㅜㅠㅠㅠ', 2], ['엄마 날 못믿어  엄마 업보에요', 2], ['포타 공모전 넣고싶은데 내거는 호러 단편이라서 안됨', 2], ['이런 미친 서사를 가지고 근데 비세계로 안넘어가면 영영 아버지 사건을 풀 수가 없고 그럼 비서경은 아마 진짜 죽기까지 가지않았을까 에이세계만 생각해도 완벽한 행복을 찾을수가  하아 지독한 운명입니다 정말 세계를 바꿔놓을정도의', 2], ['사람 네명 남았는데 엄빠가 서로 나 붙잡고 마피아 아니라고 하길래  음 무효처리하고 담날에 안죽은 사람 투표하죠  하고 엄마 마피아한테 보내버리고 아빠 투표로 보내버림ㅜ 시민이 이겼으니까 된거 아닌가요 했다가 엄마가 극대노하심', 2], ['좋아했을거야 독서 마법 술식 그 외에 별을 이롭게 하는 모든 것들 우린 그런 게 기쁨 이었는걸 그 밖에 재밌어했던 거라면 너와 나 그리고 하데스가 셋이 모여 보내던 떠들썩한 밤 같은 것들 약속하면 그는 언제나 제일 먼저 기다리고 있었다구', 2], ['오 윈드님과 통했다여 저도 저녁은 시장표 떡볶이와 김밥과 순대인데        ', 2], ['오늘 보고 ㅠㅠㅠㅠ 준범 회 남았어ㅠㅠㅠ 힝구ㅠㅠㅠ 하면서 나왔는데 집 와서 생각하다보니까 주누레미 실버싫어 점프 곧 볼 수 있다는 생각에 갑자기 신남 ', 2], ['스캇너무기여워 ㅜㅠㅠㅠ', 2], ['아니 카레대인이즈뭔들이 진짜 이런 곳에 쓰여야하는 거 아닌가요 젠틀마침표대인 우리 카레님 덕분에 행복사 또 했어요 그리고 자하 머리 관에 너무 좋은 말씀 감사합니다ㅠㅠㅠㅠㅠㅠㅠㅠㅠㅠㅠㅠ 아 진짜 울면서 웃고 있어 지금 저 ㅠㅠㅠㅠㅠ ', 2], ['저를 서클에 넣어주시는 분들을 저도 서클에 넣고 싶은데 서클 기능이 아직도 없어 아마 평생 못 받을 것 같아', 2], ['해은언니는 그럼 규민 말고 아무도 안만나본걸까 뭔가 그런거같지 행복연애규민 인 느낌', 2], ['그렇구나 그래두 되게 정 가는 비쥬얼이라 맛있겠야요', 2], ['아운동 하려고 옷 갈아 입으러 화장실 갔다가  오늘 시험 보러 입고 간 윗 옷 거꾸로 입은거 지금 알았다  더워서 머리 묶었고 성심당도 갔는데  아  잊지못할 추억 만든 내 자신 잘했다', 2], ['언어학습 앱에서 누군가 전화하자고 하면 연애 하고싶은 남자만 연락해줘서 슬퍼ㅜㅜ 한국어 연습하고싶다', 2], ['치킨 먹고싶다', 2], ['포스트 아포칼립스 나기이바로 오직 둘만 남은 세계 보고싶다  살았다는 기쁨은 잠시 둘만 남은 세계에서 굉장한 막막함을 느끼는 이바라 근데 나기사는 이제 이바라랑 자신을 막는 것도 없고 이바라랑 같이 있는 시간이 너무 좋을 뿐이라 만족하는데 이바라는 아닌거지', 2], ['빨리 나 보고 싶다고 말해', 2], ['특별행사하거나 공연하거나 그러면 저쪽 가보자 하고 제뉴 돌아보면서 눈반짝여요ㅋㅋ 제뉴 지쳐보이면 식물 많은 공원가서 쉴래요 그쵸그쵸 둘이 각각 여름인데도 차분여름이어서 신남 같은 분위기라고 해야하나ㅋㅋㅠㅠㅠ 귀여워', 2], ['아아아아아ㅠㅠㅠㅠ레오ㅠㅠㅠㅠㅠㅠㅠㅠ', 2], ['제나 콜먼임ㅠㅠㅠㅠㅠㅠㅠㅠㅠㅠㅠㅠㅜㅜㅠㅠㅜㅜㅠㅜㅠㅠㅜㅠㅜㅜㅜㅠㅜ제나 콜먼이 콘스탄틴임  변방의 바이 행복사ㅇ  ', 2], ['등촌 먹고싶다 ㅎㅎ', 2], ['피곤한 듯 눈 깜빡깜빡 후아암 소라는 이제 집에 가요 오늘은 피곤한 소라', 2], ['아침에 마감했따던거커미션 아님 소매넣기임', 2], ['학교에서 현체갈때 맨날 엄마가 일찍 일어나서 김밥싸줬는데 ㅁㅊ 그 소리에 듣고 깨는 게 얼마나 행복햇는데 엄마가 김밥 싸면 나랑 아빠랑 오빠가 하나씩 계속 집어먹어서 싸갈 김밥 좃도없어져서 존나혼난적도있음', 2], ['그랟도 괜찮습니다  집에 맨날 잇기 때문에  나갈일이 별로 없어요  ', 2], ['우주호 주년 축하해 나도 민주 덕분에 매주 토요일이 너무 행복햐 ㅠㅠㅠㅠㅠㅠㅠㅠㅠㅠ사랑해 ㅠㅠㅠㅠㅠㅠㅠㅠ', 2], ['설마  기사 안 읽있나진짜면 어쩌지  대한민국 거꾸로 가도 너무 빠르게 거꾸로 가는 중', 2], ['이번 학기는 점만 들어도 된다는게 너무 믿기지않고 어떻게 앞학기에 몰아들었는지 기억도 안남 그저 행복', 2], ['ㅇㅇ이도 뒤에 인기척 느껴서 바로 뒤 돌아봄 근데 무슨 훤칠한 모델같은 애가 앞에서 쭈뼛거리니까 당황스럽고 나름 귀엽기도 한거임 ㅇㅇ이 혼자 속으로 친해질 궁리 하면서 웃음 근데 여기서 그 미소가 예쁘다 생각함 전정굯 반한거지  예쁘다', 2], ['메탈카드 한박스 오는 중  굿즈샵가서 랜깡 했는데 최애는 없지만  이쁜애들 나와서 행복 특히 나기 나와서  좋아요ㅠㅠㅠ  ', 2], ['지금 탐라에 솸이랑 재짱이 투샷과 닉주디 사진이 많이 올라오는데 너무 행복많이많이 올려주세요 선착순 받은거 다 그리고 탐라에 올라온것도 그릴게요ㅠㅠㅠㅠ 너무 좋아ㅠㅠㅠㅠㅠ', 2], ['기쁨이가 추천해준 따옴바 복숭아맛 먹어봤는데 ㅠㅠㅠㅠ진짜 복숭아를 얼린맛 ㅠㅠㅠㅠㅠㅠㅠ짱맛있어 대박  ', 2], ['년도 채 되지 않는 시간이어도 그 사이에 쌓은 추억이 너무 행복했어서 그걸 잃을 때 찾아오는 슬픔도 더 큰 거예요 그러니까 그건 전혀 이상한 게 아니에요', 2]]\n"
     ]
    }
   ],
   "source": [
    "print(AA2[50:100])"
   ]
  },
  {
   "cell_type": "code",
   "execution_count": 28,
   "id": "25423304",
   "metadata": {},
   "outputs": [],
   "source": [
    "APA0 = pd.DataFrame(AA1,columns=['tweet','label'])\n",
    "APA1 = pd.DataFrame(AA2,columns=['tweet','label'])\n",
    "APA2 = pd.DataFrame(AA3,columns=['tweet','label'])\n",
    "APA3 = pd.DataFrame(AA4,columns=['tweet','label'])\n",
    "APA = pd.concat([APA0,APA1,APA2,APA3])"
   ]
  },
  {
   "cell_type": "code",
   "execution_count": 29,
   "id": "d5a89940",
   "metadata": {},
   "outputs": [
    {
     "name": "stdout",
     "output_type": "stream",
     "text": [
      "                                                  tweet  label\n",
      "0                               아 씨발 개처웃음 존나 웃김 캐해 레전드다      1\n",
      "1                                    갤러리 보다가 갑자기 보고 개웃음      1\n",
      "2                         바밍 라이브 너무 신남 한국에서 라이브 좀 자주 해라      1\n",
      "3                                   그대는 늘 행복의 한복판에 있길        1\n",
      "4     인문학을 한다는 자부심 연구하고 싶은 주제에 매달리는 기쁨 등이 내 삶의 추진력이다...      1\n",
      "...                                                 ...    ...\n",
      "6440           해쉬태그 다시 보니 최애캐였네 자캐그려줄가 생각했더니만 뭐 아무래도 좋아      0\n",
      "6441                                        다덜 어디 저는         0\n",
      "6442                               맛난드림무한제공사건이 일어난 집입닏다      0\n",
      "6443                 하 근데 진짜 나만은 가질 수 없었던  이게 너무 너무해요        0\n",
      "6444                                    이렇게 웃는거 쫌반칙인듰        0\n",
      "\n",
      "[85797 rows x 2 columns]\n"
     ]
    }
   ],
   "source": [
    "print(APA)"
   ]
  },
  {
   "cell_type": "code",
   "execution_count": 30,
   "id": "49151690",
   "metadata": {},
   "outputs": [],
   "source": [
    "APA.to_csv('./APA.csv', index=False, encoding=\"utf-8-sig\")"
   ]
  },
  {
   "cell_type": "code",
   "execution_count": 31,
   "id": "9d205f9a",
   "metadata": {},
   "outputs": [],
   "source": [
    "BB = pd.read_csv(\"./dBBb.csv\")"
   ]
  },
  {
   "cell_type": "code",
   "execution_count": 33,
   "id": "c3fc8b0b",
   "metadata": {},
   "outputs": [],
   "source": [
    "BB1 = []\n",
    "BB2 = []\n",
    "BB3 = []\n",
    "BB4 = []\n",
    "for i in range(len(BB)):\n",
    "    if BB['new_label1'][i] == BB['new_label2'][i] == BB['new_label3'][i]:\n",
    "        BB4.append([BB['tweet'][i],0])\n",
    "    elif BB['new_label1'][i] > BB['new_label2'][i] + BB['new_label3'][i]:\n",
    "        BB1.append([BB['tweet'][i],1])\n",
    "    elif BB['new_label2'][i] > BB['new_label1'][i] + BB['new_label3'][i]:\n",
    "        BB2.append([BB['tweet'][i],2])\n",
    "    elif BB['new_label3'][i] > BB['new_label1'][i] + BB['new_label2'][i]:\n",
    "        BB3.append([BB['tweet'][i],3])"
   ]
  },
  {
   "cell_type": "code",
   "execution_count": 34,
   "id": "9639a530",
   "metadata": {},
   "outputs": [
    {
     "name": "stdout",
     "output_type": "stream",
     "text": [
      "[['네가 죽는 걸 무력하게 지켜만 보는 건 얼마나 무서울까 네가 조금만 다쳐도 마음이 아픈데 그런 생각을 하며 작은 손을 들어올려 손톱 끝에 입을 맞췄다 네 상처에 입을 맞추는 기분으로', 2], ['하 친애도 친애작이라는 단어를 모를때로 돌아갈수가없음 많은 오타쿠 언어생활을 여기 위탁하고있음', 2], ['현생ㅇ땜에 애들이랑 재밋는거할기회 다놓친거갓아서 넘슬픔    히발나랑놀아줘어어어어어', 2], ['그건 그렇고 그 때나 이제나 나는 억억대며 울지 못한다 사실이 나를 수치스럽게 한다 잠이 든 두 시간 결국 아무 일도 일어나지 않았다는 사실 악몽을 꿨다는 간편한 말로 끝나버릴 사실 그 때 그것들이 내 삶을 뛰어넘어 나만 지독하게 붙들거라는 사실 이건 나를 위해서만 있는 지옥이다', 2], ['챙겨줄때가 고마운줄 알아 챙겨주고싶어도 이젠 못챙겨주는 애도 있다구  넌 어디가지마 알았지', 2], ['진쯔난 나퐁상 애완동묾못울지도  강이지티우고싶다', 2], ['여운을 남기는 것들 참 다층적이고 미묘해서 좋음이 명쾌하게 설명되지 않아 글로 정확히 표현하기 어려울 때 혹은 적어낸 그것이 다가 아니라고 느껴질 때 어쩌면 좀 더 오래가는 그런 것', 2], ['기분이 이상해 난 정말 괜찮을 줄 알았는데 알잖아 나 비비야 내 인생에 슬픔과 불행 따위는 없어 그러니까 난 괜찮아 그런데 왜 이렇게 기분이 이상할까', 2], ['또말하지만 저 꿈희망절망지침불행슬픔의 세계에서 단하나의 이상을 발굴하고 그걸 이유로 끈질기게 살아남아야만 하는 두 사람의 스토리가 진심쌈디처럼눈물흘리면서읽게됨근데진짜아름답다이게진짜 정말 읽으면서도 대체이게 어떤 엔딩이 되는걸까 하면서 읽었는데 정말   ', 2], ['울지말고말해봐일단 님기준 개쩔었단건 알겠어', 2], ['저리 말하며 앞서 걷는 훈  그리고 그 작은 등을 바라보던 순  눈가를 꾹꾹 누르던 손을 잡고 싶어 혹시라도 물가가 있을까 온기는 남아 있을까 아름다운 가락과 필담을 빗어내는 저 손은 누군가 잡지 않아도 괜찮을까 진짜 바보야 지금 펑펑 울면 후회도 슬픔도 나중에 안 해도 되잖아', 2], ['새하얀 손으로 눈 주변을 꾹꾹 누르던 훈 바보지흕이 울고싶음 울면 되는데 어깨랑 등 두르려줄 사람이 바로 옆에 있는데 품에 꽉 들어차게 안아줄 수도 있는데  가자 슩철이형이랑 이야기할 거 있어 뭔데 우리 이름 만들게  침울해있을 시간은 없어 슬픔과 후회는 끝나고 해도 충분해', 2], ['귀엽다남이쓰면내캐자도귀여울수가잇는거임', 2], ['애기야 자니 새벽에 눈 뜨고 잇는 빠수니는 감성이 충만해서 별 소리 다 하고싶구나 애기야 너무 너무 좋은 울 애기야 너한테 정말로 다 주고시퍼 이 지구를 통째로 주고시픈데 그지라 내 땅이 평도 없어서 암껏뚜 못 해주는 빠수니라 미안해 내가 정말 마음은 다 해주고 시픈 거 알지 울 똑똑이  ', 2], ['그렇다면 상몽인가 하니 그것이야말로 결코 아닌 것이다 다시는 돌아가지 않겠다고 수백 번이고 울고 죽으며 다짐했던 날들이 어찌 상몽일 수 있겠는가 적당히 듣기 좋은 말로 백일몽쯤이 옳을 성싶었다 실은 그마저도 과분했다  면싟에게 늘 잠에 들면 꿈에 그들이 나온다 라는 것을 말하는 건', 2], ['울고싶다', 2], ['울언니 원앤온리야 역시 결혼 절대 결혼', 2], ['슬픔은 그 자체로 고유한 질량을 갖기에 이곳의 우리는 동등하다  곽은영 불한당들의 모험     ', 2], ['자신의 무력함을 타인의 오만함을 그 목숨의 나약함과 그렇기에 계속 태어나야 하는 슬픔을', 2], ['저 안경 벗겨진 애도 좋다  ', 2], ['우는구나 펑펑 울고 마는구나 기어이 울고 말 것을 왜 한나절이나 참았니 견딘다는건 그렇게 울음을 참는게 아니란다  최옥 그리고비', 2], ['근데 부끄러울수밖에 없죠 좋아하는 사람 앞에서 좀 미묘한 느낌의 옷을 입는다는게 그러면서도 좋아하니까 기대고 있는거죠 평소엔 티셔츠 너머로 닿던 손이 진짜로 얼마나 따뜻했는지 맨살로 느껴지면 기분도 몽글몽글할거구', 2], ['사람들 미워하지 말아야 됨 아주 옛날 기억 거의 내 첫 기억부터 나는 슬프고 괴로웠음 걍 신이 내가 태어날때부터 슬픔과 괴로움을내 짝꿍으로 만든거임 나는 원래 그렇게 살 운명으로 태어낫던거임 어떤 상황이 와도 어떤 사람이 나를 괴롭혀도 그건 걍 나의 운명이고', 2], ['문제다 아니다 이걸 제가 확답하기 어려울뿐이지 문제가 아예 아니진 않을거예요 고록금지커뮤라는건 그런분위기도 금지라는 뜻이니까 그냥 불편한 사람 없으면 넘어가는거고 있으면 얘기해서 원하는 방향으로 개선하눈거죠 문제가 되니마니하기엔 취미생활이니까 하나의 거대한 조율로 보심이', 2], ['안녕하세요  새벽에 감성에 사로잡혀 적는 짧은 글이에요  다름아니라 제가 월까지 바빠 접률이 많이 떨어졌음에도 함께 해주신 분들께 감사를 드리고 싶습니다  실은 되게 길어질거라 아래는 읽어주시지 않으셔도 된답니다만 바쁜동안애도 많은 혼란을 나름 겪은 거 같습니다', 2], ['우정타투 얘기나올때마다 상상한건데 어깨면 진짜 너무 ㅠㅠ 오늘 사진보니까 팔 다리 뽀얘서 ㅠㅠㅠ  진짜 엉덩이아니면 어깨 일거같아서 이미 울준비중입니다', 2], ['맨날 순딩한 얼굴로 으무 거리는 히이로랑 캬하핫 하면서 깨방정거리는 린네 아마기형제들 정색하고 화내면 진짜 찐으로 무서웠음 좋겠다 갭이 잇어서 더 무서울듯 둘 다 눈매 개싸납게 생겨갖고 정색하면 인상 더 싸나워질듯 둘이 진짜 정색하고 형제싸움 했으면 좋겠다', 2], ['근데 등촌칼국수는 왜또실트임 어제새벽애도 그러더니만', 2], ['아 진심 에바야 기억 잃은거면 프리모는 갑자기 친구가 본인 보더니 미친 사람처럼 엉엉 울고있는거잖아요 개무섭겟다 뢰알 물론 벨라는 프리모가 기억 못 한다는거 알면 본인 비설 까면서 아 연기하겟지만요  ', 2], ['울 때는 울어 차라리 아니다 내 앞에선 말고', 2], ['실력 부족이야 할머니가 말했는걸 너한테는 들러리 소나무 역할도 어려울 거다 하고', 2], ['애도 잇디 결혼햇으니까 다른 시간선에서', 2], ['울지 않는 청년은 야만인이요 웃지 않는 노인은 바보다  조지 산타아나', 2], ['유리처럼 되새김질할 드라마가 또 어디 없나 학려화정 주생여고는 탕만 하고 진짜 너무 감정소비가 커서 다시 재탕 못함 보면 개같이 울고 끝나서 슬픔이 너무 오래감 유리를 여러탕한건 그나마 해피엔딩이라서 가능했음', 2], ['알겠어ㅜㅜ애도드려', 2], ['내몸은하난데둘다울어버리기 붙임머리 일상 패딩  ', 2], ['아 앨범깡 하구싶다ㅠㅡㅜ 아직 나만 없는 스마트폰 앨범 포카 탐라에서 나만 덩그러니 스마일리 앨포 들고 사진 찍는 거 너무 슬픔 분명 어제 온댓으면서 택배는 예상 도착일보다 빨리 오는 게 낫지 예상 도착일 괜히 무리해서 일찍 잡아둿다가 그 안에 못 오는 게 진짜', 2], ['나 이제 돼지고기 먹을 때마다 쟤네 생각나서 눈물날거같은데어떡하지ㅁㅊ아비건을해야하나 너무 귀영워서 울고싶다 다음에 또 갈게', 2], ['애들 어렷을때까지는 행복한 기억 많앗엇다는 게 지ㄴ짜 울고싶다', 2], ['글애도 오늘 에서 댓어 죽어서 경험치 떨어진건 좀 잇지만 ㅎㅋ', 2], ['미 미안 해 끅 하고 울음을 못 그쳐서 자꾸 스와 머리 쓰다듬어주는 조ㅁ언 알아 알아알아 우리 애깅 울지 마아하고 달래준다얼마나 놀랐으면 애가 자던 상태 그대로 뛰어 와 이마랑 목덜미에 땀 송글송글 차있고 안고있는 몸 뜨끈뜨끈할듯 둘이 끌어안은 뒤엔 커다란 트리 있고', 2], ['ㅇㄴ 일세카 협라하는데 자꾸 누가 나가거나 방이 사라져으악 으아악 울고싶다  제대로 협라 한적이업서요', 2], ['밖에서데이트하고오면저녁일텐데 그때다시애란이집바래다줬을때 조명이쁠테니까보고가라고청화붙잡아놓고 집데려와서불끄고조명키면 분위기으응뚜뚜루뚜스러울텐데 대충그런로맨틱한기류에휩쓸려 홧김에입맞춰버리고싶다', 2], ['아 일케 또 고뇌와 슬픔에빠진오타쿠가되게하시고내 죄를 사하시고궁시렁궁시럼', 2], ['나 분명 취향은 싱커레이인데 자꾸 머리에서 샤오허윈이 안나감요  이래놓고 니영루 다 보면 싱커레이 붙잡고 울고 있을듯', 2], ['울고싶다', 2], ['헐좋아요 치시마 집도 있어요 혼자여서 적적해  하 장보고 요리하고 이런 일상적모먼트 정말 좋아해요 요리는 와 완전 뛰어나다 는 아니지만 오오 너 잘한다 정도의 수준이랄까요 흐흐 진이랑 뭐 만들지 울애기 뭐좋아하나요  맞아 그래서 치시마 집의 꽃은 늘 조화에요', 2], ['뜨인 눈동자에 네가 담긴다 너와 달리 무서울 정도로 고요했다 정말이지 축복을 받으러 온 사람처럼', 2], ['너는 지금 너를 위해 울어줄 사람마저 없는데 그런 네 생을 애도해줄 사람은 있을까', 2], ['으아아아아아악역시천생순둥이라 져울어요  묭하듀진짜 최대한 피해다니려고 레플리카 보면 도망치구 그럴듯요ㅜㅜㅜㅜ', 2]]\n"
     ]
    }
   ],
   "source": [
    "print(BB2[50:100])"
   ]
  },
  {
   "cell_type": "code",
   "execution_count": 35,
   "id": "2a10a560",
   "metadata": {},
   "outputs": [],
   "source": [
    "BPB0 = pd.DataFrame(BB1,columns=['tweet','label'])\n",
    "BPB1 = pd.DataFrame(BB2,columns=['tweet','label'])\n",
    "BPB2 = pd.DataFrame(BB3,columns=['tweet','label'])\n",
    "BPB3 = pd.DataFrame(BB4,columns=['tweet','label'])\n",
    "BPB = pd.concat([BPB0,BPB1,BPB2,BPB3])"
   ]
  },
  {
   "cell_type": "code",
   "execution_count": 36,
   "id": "38976f3a",
   "metadata": {},
   "outputs": [],
   "source": [
    "BPB.to_csv('./BPB.csv', index=False, encoding=\"utf-8-sig\")"
   ]
  },
  {
   "cell_type": "code",
   "execution_count": 37,
   "id": "bc495c12",
   "metadata": {},
   "outputs": [],
   "source": [
    "CC = pd.read_csv(\"./dCCb.csv\")"
   ]
  },
  {
   "cell_type": "code",
   "execution_count": 38,
   "id": "daa3aaa6",
   "metadata": {},
   "outputs": [],
   "source": [
    "CC1 = []\n",
    "CC2 = []\n",
    "CC3 = []\n",
    "CC4 = []\n",
    "for i in range(len(CC)):\n",
    "    if CC['new_label1'][i] == CC['new_label2'][i] == CC['new_label3'][i]:\n",
    "        CC4.append([CC['tweet'][i],0])\n",
    "    elif CC['new_label1'][i] > CC['new_label2'][i] + CC['new_label3'][i]:\n",
    "        CC1.append([CC['tweet'][i],1])\n",
    "    elif CC['new_label2'][i] > CC['new_label1'][i] + CC['new_label3'][i]:\n",
    "        CC2.append([CC['tweet'][i],2])\n",
    "    elif CC['new_label3'][i] > CC['new_label1'][i] + CC['new_label2'][i]:\n",
    "        CC3.append([CC['tweet'][i],3])"
   ]
  },
  {
   "cell_type": "code",
   "execution_count": 39,
   "id": "9aec3f97",
   "metadata": {},
   "outputs": [
    {
     "name": "stdout",
     "output_type": "stream",
     "text": [
      "[['역할바꾸기 엄마쪽 쳐다도 안보고 못하겠다고 하는 것도 유난히 오늘 더 버림받았다는 외로움이랑 배신감이 잘 보여서 너무 좋아ㅠㅠㅠㅠ 이젠 아예 분노하는 작유가 돼버린게 너무 좋다 근데 분노하면서 엄마를 갈구하는 유진이', 2], ['만약에 제가 나중에 커서 자취하면 정리는 제대로 할 거에요 난 미니멀리스트인데 여기는 큰손가족이거든 정리되지 않은 선반과 책상에 분노', 2], ['나 진짜 라이브 보면서 화가 치밀어 올라가지고 ㅠㅠㅠ 아직도 분노를 삭히지 못했어 지금 하니 아직 회복중인데ㅠㅠㅠㅠ 생각 한번만 더 해보고 애들 배려해주지 나 너무 속상하고 미안해ㅠㅠㅠ', 2], ['생리를 안 하는 것 같을 수가 잇나 생리통이 생리대 영향 잇긴 하겟지만 천생리대를 써도 생리통 때문에 기절해서 조퇴 당하는데', 2], ['배준혁 고르면 나머지 명 없애주지 않을까  ㅁㅊ거아님', 2], ['아무도 관심을 주지 않았다 설마 나 진짜 꿈속에서 봄꽃 본 거야 분명 분명 새봄이가 그런 대사를 쳤다구요', 2], ['키스로 두려움은 전파되지 않았다 모든 게 물리적인 감각으로써 정돈된다 우린 분노나 공포를 나눠 가진 애들이 아니라 그냥 그냥 아까 전보다는 번들거리는 입술을 가진 여자애들이 된다 내가 마저 묻는다 어땠어 첫 키스', 2], ['레드팀애들은 어딘가 훅 직진하는면이 잇으면좋겟고 블루팀애들은 좀더 진중하고 신중한 면이 잇으면 좋겟어 근데 둘다 엇비슷하긴할듯 그냥 같은 상황일때 레드팀은 밀어붙이고 블루팀은 한번 더 생각해보고 그런차이 일거같다는 생각중 그러니까 그거인거지 뜨거운 분노와 차가운 분노넹', 2], ['이 이럴수가 질투하고시기하고분노하고ㅠㅠㅜㅜㅜㅜㅠㅠㅠㅜㅜㅜㅜㅜㅜㅠㅠㅠㅠㅜㅜㅜㅜㅜㅜㅠㅠㅜㅜㅜㅠㅠㅠㅜㅜㅜㅠㅠ 보고싶어요 레이디들 ㅠㅠㅠㅠㅠㅠㅜㅠ', 2], ['상혁그거알아 통계적으로 세명중 한명은 고자래 석도난 아닌데 상혁나도 아닌데  이체뭐시팔 왜 날봐', 2], ['비와사 안사려고햇는데 엄마가 롯데월드에 이만칠천원내고 입장해서 공기만 마시다올거냐고해서 할말없어서 결제함', 2], ['그리고 엄마가 트리플티아라라는 우마무스메가 막아서 소다시 분개함 그러나 스토리가 진행될수록 자기와 동시대에 데뷔했던 친구들이 조기은퇴하게 되고 소다시의 목표는 백모 우마무스메의 명예를 드높이는 것이 아닌 자기와 같이 뛰었던 왼쪽귀 장식 우마무스메들을 위해', 2], ['이상하게 카메는 분노빡침을 넘어 슬퍼짐 첫번째도 두번째도ㅠㅠㅠㅠ우리엄마가 다큰자식인데도 막내는 괜히 더 짠해하는게 이런건가 시밤ㅠㅠㅠㅠㅠ', 2], ['아니 분명히 봄이 오면 꽃이 피고 장르 맞거든 아마도 공식이었던 것도 같은데 어디 있는지 기억이 안 나 다시 보고 싶어', 2], ['조합은 개재밌게보는데 이상하게 씨피에는 손이 안가더라고 아니 쟤도 씹탑이고 쟤도 씹탑인데 그렇다고 다른 커플링을 개좋아하는것도 아님 이새끼 여기서갑자기 논컾을', 2], ['개별적 개인적 경험 공유가 다양하게 이루어져야 하는 거지 자기가 생각햇을 떄 불편한 걸 굳이 고수하는 사람을 왜 동정하노 니가뭘알지', 2], ['근데 생리컵 맞는 거 한 번에 못 찾으면 만원여러번 이잖아 그 안 맞는 건 누구 주기도 그러니까 버리고 오히려환경오염', 2], ['지인 애기 나마즈오랑 모그리캐랑 관계짬 동방 최고의 부자가 되는개 꿈인애들  ', 2], ['웹소는 컨텐츠 사업이기 때문에 마케팅 효과를 무시 할 수 없고 기업 또한 절대 다수를 차지하는 소비자 군을 무시 할 수 없기에 벌어진 사고가 아닌가 하는 생각  기존 해태로 로판을 파는 절대다수의 독자가 분개 했던건 퀴어 혐오 보다는 남주랑이어질걸 생각하고 돈써서 봤는데', 2], ['주인 년간 살면서 모든 이를 만족시키기란 거의 불가능하단것을 깨달았다 하지만 모든 이를 화나게 하는 건 보다 쉽고 더욱 재미있지 한강 ', 2], ['형님도 아닌데 형님의 나라 라고 하니 촌수도 못따지냐고 원숭이들도 분개해서 그런가보다', 2], ['시발 장례식장 안 가고 집 가서 자고 싶다  시간밖애못잣어', 2], ['정말 분노 슬픔 꾹꾹 눌러담아서 말하는 완다 ㅠㅠㅠㅠㅠㅠㅠㅠㅠ', 2], ['베이는 가족이다 베이는 가족이다 베이는 가족이다ㅠㅠㅠㅠㅠ', 2], ['우연찮게 채널 돌리다 꼬꼬무 봤는데 숨쉬기 어려울 정도로 머리가 너무 아파올 정도로 분노가 치밀고 슬펐다 제발 아이들의 피를 먹어가며 법 제정하지 않고 그 전에 강화되어 살려냈으면 좋겠다 아 너무 힘들다', 2], ['나도 저렇게 쓸걸 역시 수제보단 전문점배달이 낫다', 2], ['가서육개장먹어야하나', 2], ['근데 오늘 맥이 그거 하고 나서 진심 분노해가지구 보호구 바닥에 던지는데 ㅠㅠㅠㅜ 우리 재스퍼 너무 좋아 ㅠㅠㅠㅠㅠㅜ', 2], ['주모 여기 막걸리 병 주시게  드립인줄 아셨나요 제가 실제로 서빙한 손님임', 2], ['재미있다거나 설정이 귀엽다거나 일러가 매력적이라는거 다 인정하는데 나한테는 캐릭터가 아니고 사람이라고 애초에 캐릭터라면 서사가 있어야하는데 방송에 무슨 서사가 있어 나는 장르도 강경 판타지파란 말이다 일상물도 거의 안보는데 하고 다다다 반박함  나에겐 오로지 서사와 이야기 그뿐이다', 2], ['트친소를했는데트친이생기고싶다아무도트친안해준다고할까봐무섭지만그래도돌려본다트친소   트친소돌리려고 해시딱치는데 이게 자동완성으로 나옴 그래서 합니다 트친소 저 보수적이라서 겹친만 받아요 데메크하데스카제로파판파판용같어크사퍼회도앙스타프세카 커몬커몬커몬나여기이써', 2], ['네넹 그럼 여기서 이러지 마시고 저쪽 골목가서 천천히 죽으면 안될까요 여기 제 가게인데 이러면 손님 안와요', 2], ['개좆같은 나라에 애국자인척 번식해서 아새끼들 들이밀어 놓고선 이제와서 기후위기니 뭐니 해봤자 눈하나 깜짝할 것 같아 노예들은 걍 기득권의 연료밖에 안 된다고 내 알바 아니고 난 쓰레기 존나 쓰고 에어컨 존나 쓰고 아무튼 번식축 니 새끼들은 다 좆되라 이거야 꼬우면 죽든가 씹년들아', 2], ['분윤맴버들에게 목줄을 선물해보았다  이체씨팔 뭐야 꺼져 엎드리고싶어 상혁지금 나랑 장난하자는거야 석도필요없는데 주인씨익  어잠까ㄴ왜가까이 와', 2], ['시간이 많이 흘렀지만 아직도 그 사람에 대해 이해해야 하는지 분노해야 하는지 결정하지 못했다 상처는 침잠했고 밑바닥에서 여러 생각들과 혼재돼있다', 2], ['ㅠㅠㅠㅠㅠㅠ맞아요 완전 배덕한 상황인데 귀여워알콩달콩해요이든이 백마디 말로 안되는 이유 설명해도 응 그래 알았어 정도로 대꾸하고 계속 진도 나갈 것 같은ㅋㅋㅋㅋㅋㅋㅋㅋ 하아아ㅏ 최고입니다 너무너므 귀엽다 결국 할거 다하고 분노한 이든이랑 세시간동안 대화 단절', 2], ['천빈우제 눈이 세개라면 너 하나 주고 제 팔이 세개라면 너 하나 주고 제 심장이 두개라면 너 하나 드리겠습니다 방백비누야감동 천빈우그러면 나는 정상인 방백 천빈우너는 병신', 2], ['시장이 어쩌고 카테고리가 뭐시기 뭔소린지 모른다는 건 아닌데 그 본질적인 혐오에 대한 분노까지 시장 돌아가는 꼬라지 모르는 오타쿠들한테 뭔가 알려주겟답시고 그장르 본래 향유자들분들께서 자꾸 안경척 퀴혐하는건 꼴같잖네요 미안합니다', 2], ['변태소리 들었을 때처럼 격렬하게 분노해서  어엉하면서 얼굴 확 들이대는 거 보고싶다', 2], ['정가은보니까 저번에 죽어가던데', 2], ['무시하면 되는데 애정이 아직 남아있으니  분개하면서 이러고 있는거겠죠', 2], ['슈가 나를 노린다 정말 쉽지 않은 일이죠 슈가 사적 감정으로 누군가를 죽이려고 한다는 것은 진심 증오분노혐오일테니까 내가 너무 싫어서 내생각을 엄청나게 했다는거겠지 그점에서 딱히 죽어도 여한이 ', 2], ['레이디 아님', 2], ['내일 너 나랑 사진 안찍으몀 신고', 2], ['마다라 향수가 품절되다니실화임 우리애 메이져가 된거임 마다라도', 2], ['데메크안하는사람 안받는 이유 옛날에 트친한테 데메크 하자고 했는데 씹덕오지상게임이라고 거절 당함 참고로 데메크는 씹덕오지상 게임이 아니다', 2], ['김국왕 이 존나 폐쇄적인 새끼 뭔 놈의 나라가 쇄국 정책을 펼치다 못해 할로윈도 없고 크리스마스도 없고 씹덕질을 못하는 세계관 ㅅㅂ', 2], ['여러 사람이 모인 담론장에서 항상 일어나는 일이지만 오늘도 결국 싸우는군아 작가님 힘내세여', 2], ['홀스턴에 대한 분노는 커져만 갔다 홀스턴 억울 아무래도 그렇지 우리 애기는 아저씨랑 부부섹스한다고 생각했는데 우리애기가 억울하겠지 이지랄하고있다이젠공식마냥', 2], ['꿈에서 교통사고 엄청 내는데 아마 내가 그럴까봐 늘 공포스럽기 때문일갓', 2]]\n"
     ]
    }
   ],
   "source": [
    "print(CC2[50:100])"
   ]
  },
  {
   "cell_type": "code",
   "execution_count": 40,
   "id": "64a61380",
   "metadata": {},
   "outputs": [],
   "source": [
    "CPC0 = pd.DataFrame(CC1,columns=['tweet','label'])\n",
    "CPC1 = pd.DataFrame(CC2,columns=['tweet','label'])\n",
    "CPC2 = pd.DataFrame(CC3,columns=['tweet','label'])\n",
    "CPC3 = pd.DataFrame(CC4,columns=['tweet','label'])\n",
    "CPC = pd.concat([CPC0,CPC1,CPC2,CPC3])"
   ]
  },
  {
   "cell_type": "code",
   "execution_count": 41,
   "id": "0c3c8560",
   "metadata": {},
   "outputs": [],
   "source": [
    "CPC.to_csv('./CPC.csv', index=False, encoding=\"utf-8-sig\")"
   ]
  },
  {
   "cell_type": "code",
   "execution_count": 42,
   "id": "743a6983",
   "metadata": {},
   "outputs": [],
   "source": [
    "DD = pd.read_csv(\"./dDDb.csv\")"
   ]
  },
  {
   "cell_type": "code",
   "execution_count": 43,
   "id": "d223ac1d",
   "metadata": {},
   "outputs": [],
   "source": [
    "DD1 = []\n",
    "DD2 = []\n",
    "DD3 = []\n",
    "DD4 = []\n",
    "for i in range(len(DD)):\n",
    "    if DD['new_label1'][i] == DD['new_label2'][i] == DD['new_label3'][i]:\n",
    "        DD4.append([DD['tweet'][i],0])\n",
    "    elif DD['new_label1'][i] > DD['new_label2'][i] + DD['new_label3'][i]:\n",
    "        DD1.append([DD['tweet'][i],1])\n",
    "    elif DD['new_label2'][i] > DD['new_label1'][i] + DD['new_label3'][i]:\n",
    "        DD2.append([DD['tweet'][i],2])\n",
    "    elif DD['new_label3'][i] > DD['new_label1'][i] + DD['new_label2'][i]:\n",
    "        DD3.append([DD['tweet'][i],3])"
   ]
  },
  {
   "cell_type": "code",
   "execution_count": 44,
   "id": "efa37fce",
   "metadata": {},
   "outputs": [
    {
     "name": "stdout",
     "output_type": "stream",
     "text": [
      "[['트루즈 솜 미니니 백참 양도해요 일괄   밖에 두어번 정도 들고 나갔다 왔어요 많이 더럽진 않은데 예민하신 분은 구매하지 말아주세요ㅠㅠ   트루즈 트레저 인형  양도 판매 시세 교환  ', 2], ['조 조심해 그러다 머리 박아   위태롭게 걷는 그녀를 보고는 답지않게 먼저 나서서 말을 걸게 되었다 저보다 어린 사람들과는 그나마 대화하는게 편하니 무의식적으로 나온 행동이었을 것 이다  너 얼른 잠깨 잠은 기숙사에 가서 자는게 좋을걸 밖은 소란스럽고 더럽고 위험하니까', 2], ['민물 생선을 요리할때 보통 비늘을 벗기게 되는데 칼로 긁어내면 비늘이 튀어 조리대와 부엌바닥을 더럽히기 쉽다 이럴때는 칼대신 스푼이나 쓰다 남은 무로 비늘을 긁어내면 된다무를 이용할때는 무을 어슷하게 썰어 그 뾰족한 부분으로 비늘을 벗긴다', 2], ['공항라이브 봤는데 내가 다 스트레스받네 저길 가서 저따위로 들러붙어갖고 대체 몇초나 본다고 그 짧은 길도 맘편하게 출국 못하게 하는거임 작작해 제발좀 걍 징그럽단 생각밖에 안듦', 2], ['원래 없는데 작년부터 생리때만 엄청 심하게 생긴 빈혈 때문에 어지럽고 구역질나지만 스트레스를 다스리려고 에그타르트 재료 남은거 마저 굽다가 오븐에 넣는데 타르트 필이 널아놨던 속옷에 쏟아져서 커스터드 크림 팬티가 완성됐는데 뛰쳐나가서 살인을 저지르지 않은 나표창장 받아야되지 않나', 2], ['모두의 익명 질문을 모집 중  최근 답변한 질문  근무시간  어때   네 꿈을 펼쳐라 네꿈을펼  퀸덤 보고싶다   뭐가흉측해 질문상자 익명질문모집중   ', 2], ['왜 징그럽다는 말이 싫어 근데 맞잖냐 왕유치 그래 내가 좀 그런 편이야 애들이랑 있다 보니까 더 유치해진 것도 있겠다만 쩝  아 왜 나랑 친구 안 하는데 납득하는 듯하더니 갑자기 열이 솟아올랐다 냅다 소리를 지른다 셀 수 없지 재해 전에 알던 사람은 전부 죽었어', 2], ['그리고 이 동네는 라티노가 대박 대박 대박 많다흑인도 많다나는 패싸움도 한번 목격했다더 구경하고 싶었는데 불똥 튈까바 티었당그리고 나 인도 걸어가고 있으면 도로에서 자꾸 창문 열고 나한테 클락션 울리는데 특히 라틴계 아재들이 기분이 더럽다얼른 숙소 옮기고 싶다', 2], ['히빌 세계관으로 정말 정석인 영웅이 되고싶어서 히어로가 되는 아처 보고싶다 히어로가 더럽고 치사하고 올바르지만은 않으면서도 쓰레기같은 뒷처리도 해야하는걸 알고가진 않았겠지만 그냥 가족을 지키고 싶어서 영웅이 된 아처 보고싶다  영궁이는 길빌런 잘못 들뻔했고', 2], ['사실 테스타에 갈까도 고민했다 거기도 메보가 공석인 건 마찬가지였으니까  허나 박문대의 이름을 더 더럽히기는 싫었다 빌린 이름이니까 그래서 나는 브이틱으로 도망쳤다  그래 난 선택한 게 아니라도망친 거다  하지만그 도망친 곳에서도 행복은 있었다 그게 가장 비참했다', 2], ['쓰레기통에서 자기 손 더럽혀가면서 쓰레기를 꺼내려는 사람이 있어 까마귀말고는 없을걸 까마귀는 반짝거리니까 식량이 되니까 쓰레기를 뒤지지만 사람이 쓰레기통을 뒤지는 경우는 거의 하나지 그게 소중해서 그것 자체가 소중해서 이상한 소리를 내며 웃는다', 2], ['흐악 안돼케이 진짜로 논문쓰다 이리저리 지친마음을 겨우 아기들로 안정시켰는데 아직 불안한 케이가 일부러 괜찮은척 했다가 상태가 오히려 악화되어서 구석지기 가서 과호흡에 구역질하면서 너무 초라하고 슬퍼서 우는것도 좋을것같아요', 2], ['언제나 꿈꾸는 듯한 말만 하고 결국은 자기몸 하나 못 지켜 남에게 보호나 받지 그러면서도 악마의 힘은 싫다면서 거부나 하고 있으니네 손은 죽어도 못 더럽히겠다 이거냐위선도 작작해', 2], ['피가 모자라서 어지럽고 구역질 나고 손발에 힘 하나도 안 들어가는 상태라 저항도 못하고 그대로 당하다가 기절해버리는데 필립은 또 며칠 뒤 아무렇지 않은 모습으로 찾아와서 피 빨고 같은 행위를 반복하면 좋겠다', 2], ['흉측하다고 생각하지 않아 내가 네 얼굴을 제대로 보고 싶어하는게 이상해', 2], ['뭐 굳이 끊을 이유가 없으니 작정하고 해본 적은 없고 강제로 경험한 적은 있지 운이 더럽게 없어서 소지품 다 빼앗기고 인신매매 집단에 붙잡혔을 때라던가 하 다시는 하고 싶지 않은데 상황이 안 좋게 돌아가서 정말로 끊어야 할 판이야', 2], ['그쵸 기사에서도 느껴지는게 하이브에서 공연자리 알아봤는데 전체적으로 다 아니었다는 거잖아요 ㅎ 그걸 뭘 잘났다고 보도자료를 뿌린건지 일일히 저렇게 알려대는 것도 넘 같잖아요 어떻게든 알아서 하라는 협박같고 더럽네요', 2], ['역겹다 꺼져라 끆ㄱ얶흒끕끆껑껑ㄱ끄엉헝헝헝ㅇ흡끄ㄱ끅끅ㄱ끄엉엉흡끄윽끄헝헝흐흡끅끆ㄱ끄얶흒끕끆껑껑끆끆흡끅끆ㄱ끄얶흒끕끆껑껑끆끆흡끅흡꾺꾺흐윽흑끕흐흐엉흡끋엉엉흐윽흑끕흐흐엉흡엉엉  ', 2], ['아아 역시 토오코 선배는 토오코 선배다 선배의 제멋대로인 주장을 듣고 나는 완전히 힘이 빠져 버렸다 이런 사람에게 허세를 부려 봤자다 나보다 토오코 선배가 몇 천 배는 어린애 같다  문학소녀와 더럽혀진 천사  이노우에 코노하', 2], ['잘 모르겠어요 사실 의심이 가는 이야기는 안하잖아요 데코씨가 하는 얘기라고 해봤자 내 성격이 더럽다자존심이 세다 도박에 재능이 없다 괴롭히면 재밌다 그런거밖에 없는걸', 2], ['찾아보니까 개구리랜다 뭐 저렇게 징그럽게 생겼냐', 2], ['상체가 더 뒤쪽으로 가야하지만 전체적인 자세 비율 형태 옷주름이 잘된 편 옷주름은 자연스러워졌지만 자세는 좀 퇴화한 거 같다 선은 더러워졌지만 형태 비율이 잘 그려졌다 선은 더럽고 손 위치가 어색하지만 그 외에는 그럭저럭 상체가 왼쪽으로 많이 기울어졌다', 2], ['굳이 반응하지는 않았다 괜한 꼬투리를 잡히고 싶지 않고 반응해봤자 저만 손해였으니까 자세히 말할 필요가 없지 않나요 뭣보다 알아서 뭐하게요 퉁명스럽게 대답했다 허이고 질문 한 번 더럽게 많네 펜싱 코치 여기 체육인 비율 꽤 높네요 힘 쓰는 일은 맡기면 되나', 2], ['남들이 보면 니가 머 큰 기획자나 되는거 같다 무슨 투표를 한 표를 무슨 백표처럼 이야기를 하니 그런 건방이 저렇게 우월적 내부 승리를 해도 나가서는  병신 짓을 반복하는거다 아가리를 닥쳐야 하는 것처럼 머 좀 아는듯이 지랄을 손가락으로 하지마라 역겹다', 2], ['같이 일하는 동생은 대구애인데 부산애들 운전 더럽게 한다고 싫어함 ㅋㅋ  부사니즈와 대귀즈는 억양이 전혀 다르다 경남과 경북은 매우 달라 여기 와서야 알았다', 2], ['역겹다 또 이 애들이 제일 싼거 골랐으면 뭐 지 우월감 뽕에 차가지고 야붕이 오늘 착한일 하나 했다이지랄 쌌겠지', 2], ['목구멍으로 타고 흘러가는 술이 쓰다 술이 달긴 허세지 허세 인생이 쓰면 술이 달다고 인생이 쓰니까 술도 더럽게 쓴 거야 아니면 그냥 싸구려 술집에 앉아서 소주나 들이키고 있으니까 그런 걸지도 모르고', 2], ['역겹다 어째 만나는사람마다 쓰레기들밖에없냐 현실을 지인한테당할줄은 누가알았겠냐고 ㅋㅋㅋ 말로 형용할수없을정도로 어이없고 혐오스럽다', 2], ['여기 사람 서잇으면 기분 ㅈㄴ 더럽겟다  ', 2], ['지금 역대급흉측함 자랑중 당일예약 가능한 병원이라곤 햇는데 아마 당분간은 못할듯요', 2], ['오늘 오후 데이케어 보내고 나는 퇴근하고 장을 보고 치치를 픽업하고 내일 수영을 시켜야겠다  어젯밤 친구들이랑 너무 심하게 놀아서 지저분한데 오늘까지 더럽게 놀고 내일 수영 한 번으로 다 해결하겠다는', 2], ['존나 사람들 어떻게 이렇게 힘들법한거 다 버텨내고 사는거지 존나 대단하다 난 자신 없어져서 금방이라도 뒤지고싶은데 내 인생이랑 삶 내 몸 하나에도 자신이 없어졌어 존나 심연 속으로 누가 끌고가서 숨이 턱턱 막히는 것 같은 기분이야 역겹고 좆같고 불안정해서 제정신이 아닌 느낌', 2], ['솔직히 나는 이거 하고싶다 내가 멤버들 설득한다 나는 정말 깔끔하고 계획적이다 이런 말들까지는 정말 멋있는데 멤버들은 끝까지 싫어했다 멤버들은 더럽게 쓴다 이런 말이 붙게될때요', 2], ['엄마야 진짜 짜릿하다 저 역겹단 말 들을때마다 몸이 부르르떨렷어요', 2], ['아니ㅋㅋㅋㅋㅋㅋㅋㅋ 손더럽히는일어디갓냐웃기네 가스라이팅당하면 그대로 으아아거리다가 훌쩍임서받아들임 신뢰감만 더 쌓일듯 나나같은걸저정도로믿어주시다니 셜리님은역시따를수밖에 없는분이셔이러고 더 잘따름 미치겟다 언니나랑결혼해 웃기다 남돈으로', 2], ['채작 창이 더럽혀졌으니 난 이제 뉴비가 아니다  ', 2], ['와 전리품 줫나 기괴하다 뭔 지하에 무슨 공간이 있나 싶었는데 역겹다 헐 몰리가 와 와 해리슨 역시 알고 있었네 부정도 못하네 해리슨에게 이거 맞냐 여기에 뽀뽀할 정도로 좋아해도 괜찮냐ㅠ', 2], ['구룡성채에서 어떠한 소문이 들려옵니다  구역에 있던 더럽게 맛없던 식당이 개박살이 났다 거기서 일하던 사람들은 사라졌는데 근처 악명 높던 조폭 무리가 그 식당 바닥에 널부러져 있었다 하루 아침에 멀쩡하던 식당이 박살나고 조직 하나가 괴멸했다', 2], ['근데 세리헨 이새끼 취했어도 키스만 하고 그대로 침대 뻗어서 잠이나 쳐잘듯 미친놈이 키스도 더럽게 못하면서 그대로 뻗어서 잠이나 자 너는 안되겠다  아저씨 존나귀엽다 진짜', 2], ['나름 화끈한 두번째 시도 끝에도  모두가 압니다 둘 다 얼굴이 너무 폈거든요  라이덴 커피도 챙겨줍니다 신에이가  드디어 미쳐버린게로군  혀를 차지만  어느때보다 생기넘치는 신에이가 반갑고 또 좀 징그럽습니다   아네트는 그냥 말걸지 말라고 했다네요', 2], ['자살 방지는 개뿔 뒷처리가 역겨우셨으면 충동 억제라도 제대로 안할거면서 그 벼랑 끝에 익숙해진 사람들이 뭐가 되는거야 원래 죽어가는 사람이 스스로 살려달라 외쳐야 하는거야 그렇게까지 더럽게 다 갖고 이어가야 하는 이유 하나 없으먼서 꿈 속도 아니고 그냥 제발 죽게 도와주면 안되는거야', 2], ['근데이런상허ㅏㅇ에서살거싶다거아둥바둥하는내가너뮤역겹기도하거', 2], ['처리반 하래서 아 싫은데 더럽잖아 하고 다 처리하고 발로 꾹꾹 눌러서 신발 더러워졌네 집에 가서 닦아야지 하고 쌩하니 가버리는 그녀석', 2], ['딴방도 휴가 가서 인원수 적긴 한데 우리방은 나빼고 다들 너무 자주 이래서 괜히 나만 고생하는 기분이다 이게 회사인지 뭔지 싶고 나혼자 여기저기 자리를 다니며 이거저거 하고ㅜㅜ 나만 풀타임이라 사람도 더럽게 안 뽑히고 뽑으면 이상한 인간들뿐이고 아이고진짜', 2], ['내가 생각하기엔 너 그 이상 입 열면 진짜 한 대 때려버린다 되찾고 싶다면 되찾을 수 없다는 게 확실해졌을 때도 각오해 그 사람의 명예가 더럽혀지지 않도록 네 손으로 마침표를 찍어야 할 가능성 말이야  에이토 코우가', 2], ['두통이 느껴져 구 구역질까지 크 으윽 이럴 수가 이 가 속이 뒤집힐 것 같다니', 2], ['사정 급할 때 바지춤 툭툭 건드리면 네 발로 엉금엉금 기어와서 이빨로 주욱 내리는 애  너무 커서 입에 다 못 무는 거 알면서도 뿌리까지 집어삼키게 할 거지 헛구역질 참으면서 열심히 고개 움직이고  좆같고 더럽지만 살아남으려면 이 방법밖에 없어', 2], ['오 마저 카슨이 역겹습니다 했는데  살짝 웃더니 카슨 얼굴에 가까이 다가가서는 미는 여성의 전유물이 아닙니다 하고 조곤조곤히 말하더라구 일케하는건 또 첨봣넹', 2], ['풍클 진짜 죽인다  낵아 반드시 쥬긴다 ㅠㅠㅠ 아벨 손수건이 더럽냐 그럼 빼서가질마라고 이쑤레기야 아오ㅜ진짜 얄미워 디져버릴꺼같아', 2], ['아니좆같애나남자애하고현피뜨고레알쳐맞을뻔하고교과서에서나더러반장년존나나대네이따구로적혀잇는거보고지밖에모르는년이자꾸꼽주고반장인데선생님연수가셔서내가반다돌보고잇고애들은더럽게말안듣고스트레스는스트레스대러받고등등하 미안 빡치고 별로좋은 말 아니라서 띄어쓰기안햇어', 2]]\n"
     ]
    }
   ],
   "source": [
    "print(DD2[50:100])"
   ]
  },
  {
   "cell_type": "code",
   "execution_count": 45,
   "id": "f2f9889b",
   "metadata": {},
   "outputs": [],
   "source": [
    "DPD0 = pd.DataFrame(DD1,columns=['tweet','label'])\n",
    "DPD1 = pd.DataFrame(DD2,columns=['tweet','label'])\n",
    "DPD2 = pd.DataFrame(DD3,columns=['tweet','label'])\n",
    "DPD3 = pd.DataFrame(DD4,columns=['tweet','label'])\n",
    "DPD = pd.concat([DPD0,DPD1,DPD2,DPD3])"
   ]
  },
  {
   "cell_type": "code",
   "execution_count": 46,
   "id": "75ecc552",
   "metadata": {},
   "outputs": [],
   "source": [
    "DPD.to_csv('./DPD.csv', index=False, encoding=\"utf-8-sig\")"
   ]
  },
  {
   "cell_type": "code",
   "execution_count": 47,
   "id": "63986fd1",
   "metadata": {},
   "outputs": [],
   "source": [
    "KRdata = pd.concat([APA,BPB,CPC,DPD])"
   ]
  },
  {
   "cell_type": "code",
   "execution_count": 48,
   "id": "c5db2430",
   "metadata": {},
   "outputs": [],
   "source": [
    "KRdata.to_csv('./KRdata.csv', index=False, encoding=\"utf-8-sig\")"
   ]
  },
  {
   "cell_type": "code",
   "execution_count": 49,
   "id": "fc4f1030",
   "metadata": {},
   "outputs": [
    {
     "name": "stdout",
     "output_type": "stream",
     "text": [
      "                                                 tweet  label\n",
      "0                              아 씨발 개처웃음 존나 웃김 캐해 레전드다      1\n",
      "1                                   갤러리 보다가 갑자기 보고 개웃음      1\n",
      "2                        바밍 라이브 너무 신남 한국에서 라이브 좀 자주 해라      1\n",
      "3                                  그대는 늘 행복의 한복판에 있길        1\n",
      "4    인문학을 한다는 자부심 연구하고 싶은 주제에 매달리는 기쁨 등이 내 삶의 추진력이다...      1\n",
      "..                                                 ...    ...\n",
      "907              내일만 일하면 꿀같은 휴가다 시간 더럽게 안 간다 오전이 하루 같음      0\n",
      "908  나 최근에 진짜 존나게 구역질 나왔던 경험  구글에 산삼 검색할 일 있어서 산삼 구...      0\n",
      "909  저러다 결국 서로서로 죽고 죽이면서 강호가 망해가길 바라고 있습죠ㅠㅠㅋㅋㅋㅋ 정파의...      0\n",
      "910  내자리만 엉망진창 존나더럽내 그치만 다 필요한것들이라 정리할려면 며칠은 걸리고 파ㅡ...      0\n",
      "911  불꽃처럼 타오르는 청춘  넌나의 실험대상난너의 창조주  이그림이날대신해 늙어간다면 ...      0\n",
      "\n",
      "[191659 rows x 2 columns]\n"
     ]
    }
   ],
   "source": [
    "print(KRdata)"
   ]
  },
  {
   "cell_type": "code",
   "execution_count": 50,
   "id": "b49cb379",
   "metadata": {},
   "outputs": [
    {
     "data": {
      "text/plain": [
       "1    95068\n",
       "2    49280\n",
       "0    30000\n",
       "3    17311\n",
       "Name: label, dtype: int64"
      ]
     },
     "execution_count": 50,
     "metadata": {},
     "output_type": "execute_result"
    }
   ],
   "source": [
    "KRdata['label'].value_counts()"
   ]
  },
  {
   "cell_type": "code",
   "execution_count": 57,
   "id": "e1b2fd70",
   "metadata": {},
   "outputs": [
    {
     "data": {
      "text/plain": [
       "<AxesSubplot:>"
      ]
     },
     "execution_count": 57,
     "metadata": {},
     "output_type": "execute_result"
    },
    {
     "data": {
      "image/png": "[encoded data removed]",
      "text/plain": [
       "<Figure size 360x360 with 1 Axes>"
      ]
     },
     "metadata": {
      "needs_background": "light"
     },
     "output_type": "display_data"
    }
   ],
   "source": [
    "CountStatus = pd.value_counts(KRdata['label'].values, sort=True)\n",
    "CountStatus.plot.bar()\n",
    "CountStatus.plot.bar(grid=True, figsize=(5,5), fontsize=10)"
   ]
  },
  {
   "cell_type": "code",
   "execution_count": null,
   "id": "66f07990",
   "metadata": {},
   "outputs": [],
   "source": []
  }
 ],
 "metadata": {
  "kernelspec": {
   "display_name": "Python 3 (ipykernel)",
   "language": "python",
   "name": "python3"
  },
  "language_info": {
   "codemirror_mode": {
    "name": "ipython",
    "version": 3
   },
   "file_extension": ".py",
   "mimetype": "text/x-python",
   "name": "python",
   "nbconvert_exporter": "python",
   "pygments_lexer": "ipython3",
   "version": "3.9.12"
  }
 },
 "nbformat": 4,
 "nbformat_minor": 5
}
